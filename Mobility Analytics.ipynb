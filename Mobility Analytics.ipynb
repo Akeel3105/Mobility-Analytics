{
 "cells": [
  {
   "cell_type": "code",
   "execution_count": 1,
   "metadata": {},
   "outputs": [
    {
     "name": "stdout",
     "output_type": "stream",
     "text": [
      "Project name: Mobility Analytics\n"
     ]
    }
   ],
   "source": [
    "print(\"Project name: Mobility Analytics\")"
   ]
  },
  {
   "cell_type": "code",
   "execution_count": null,
   "metadata": {},
   "outputs": [],
   "source": [
    "# A brief on problem statement"
   ]
  },
  {
   "cell_type": "code",
   "execution_count": null,
   "metadata": {},
   "outputs": [],
   "source": [
    "'''\n",
    "Welcome to Sigma Cab Private Limited - a cab aggregator service. Their customers can download their app on smartphones and book\n",
    "a cab from any where in the cities they operate in. They, in turn search for cabs from various service providers and provide the\n",
    "best option to their client across available options. They have been in operation for little less than a year now. During this \n",
    "period, they have captured surge_pricing_type from the service providers.\n",
    "\n",
    "You have been hired by Sigma Cabs as a Data Scientist and have been asked to build a predictive model, which could help them in\n",
    "predicting the surge_pricing_type pro-actively. This would in turn help them in matching the right cabs with the right customers\n",
    "quickly and efficiently.\n",
    "\n",
    "The evaluation metric for this competition is Accuracy Score\n",
    "'''"
   ]
  },
  {
   "cell_type": "code",
   "execution_count": null,
   "metadata": {},
   "outputs": [],
   "source": [
    "# Importing required libraries"
   ]
  },
  {
   "cell_type": "code",
   "execution_count": 1,
   "metadata": {},
   "outputs": [],
   "source": [
    "import pandas as pd\n",
    "import numpy as np\n",
    "import matplotlib.pyplot as plt\n",
    "%matplotlib inline\n",
    "import seaborn as sns\n",
    "sns.set_style('darkgrid')\n",
    "from sklearn.preprocessing import LabelEncoder,StandardScaler,MinMaxScaler\n",
    "from sklearn.model_selection import train_test_split\n",
    "from sklearn.tree import DecisionTreeClassifier\n",
    "from sklearn.ensemble import RandomForestClassifier,BaggingClassifier,ExtraTreesClassifier\n",
    "from sklearn.metrics import f1_score,roc_curve, auc ,accuracy_score,cohen_kappa_score,confusion_matrix,classification_report,recall_score,precision_score\n",
    "from sklearn.decomposition import PCA\n",
    "from sklearn.neighbors import KNeighborsClassifier\n",
    "from sklearn.linear_model import SGDClassifier\n",
    "from xgboost import XGBClassifier\n",
    "from sklearn.metrics import log_loss\n",
    "from sklearn.naive_bayes import GaussianNB\n",
    "from sklearn.linear_model import LogisticRegression\n",
    "from sklearn.svm import SVC\n",
    "from sklearn.naive_bayes import MultinomialNB,ComplementNB,BernoulliNB"
   ]
  },
  {
   "cell_type": "code",
   "execution_count": null,
   "metadata": {},
   "outputs": [],
   "source": [
    "# Loading training and test dataset"
   ]
  },
  {
   "cell_type": "code",
   "execution_count": 18,
   "metadata": {},
   "outputs": [],
   "source": [
    "train=pd.read_csv(\"train.csv\")\n",
    "test=pd.read_csv(\"test.csv\")"
   ]
  },
  {
   "cell_type": "code",
   "execution_count": null,
   "metadata": {},
   "outputs": [],
   "source": [
    "# Lets see our training dataset"
   ]
  },
  {
   "cell_type": "code",
   "execution_count": 4,
   "metadata": {},
   "outputs": [
    {
     "data": {
      "text/html": [
       "<div>\n",
       "<style scoped>\n",
       "    .dataframe tbody tr th:only-of-type {\n",
       "        vertical-align: middle;\n",
       "    }\n",
       "\n",
       "    .dataframe tbody tr th {\n",
       "        vertical-align: top;\n",
       "    }\n",
       "\n",
       "    .dataframe thead th {\n",
       "        text-align: right;\n",
       "    }\n",
       "</style>\n",
       "<table border=\"1\" class=\"dataframe\">\n",
       "  <thead>\n",
       "    <tr style=\"text-align: right;\">\n",
       "      <th></th>\n",
       "      <th>Trip_ID</th>\n",
       "      <th>Trip_Distance</th>\n",
       "      <th>Type_of_Cab</th>\n",
       "      <th>Customer_Since_Months</th>\n",
       "      <th>Life_Style_Index</th>\n",
       "      <th>Confidence_Life_Style_Index</th>\n",
       "      <th>Destination_Type</th>\n",
       "      <th>Customer_Rating</th>\n",
       "      <th>Cancellation_Last_1Month</th>\n",
       "      <th>Var1</th>\n",
       "      <th>Var2</th>\n",
       "      <th>Var3</th>\n",
       "      <th>Gender</th>\n",
       "      <th>Surge_Pricing_Type</th>\n",
       "    </tr>\n",
       "  </thead>\n",
       "  <tbody>\n",
       "    <tr>\n",
       "      <th>0</th>\n",
       "      <td>T0005689460</td>\n",
       "      <td>6.77</td>\n",
       "      <td>B</td>\n",
       "      <td>1.0</td>\n",
       "      <td>2.42769</td>\n",
       "      <td>A</td>\n",
       "      <td>A</td>\n",
       "      <td>3.90500</td>\n",
       "      <td>0</td>\n",
       "      <td>40.0</td>\n",
       "      <td>46</td>\n",
       "      <td>60</td>\n",
       "      <td>Female</td>\n",
       "      <td>2</td>\n",
       "    </tr>\n",
       "    <tr>\n",
       "      <th>1</th>\n",
       "      <td>T0005689461</td>\n",
       "      <td>29.47</td>\n",
       "      <td>B</td>\n",
       "      <td>10.0</td>\n",
       "      <td>2.78245</td>\n",
       "      <td>B</td>\n",
       "      <td>A</td>\n",
       "      <td>3.45000</td>\n",
       "      <td>0</td>\n",
       "      <td>38.0</td>\n",
       "      <td>56</td>\n",
       "      <td>78</td>\n",
       "      <td>Male</td>\n",
       "      <td>2</td>\n",
       "    </tr>\n",
       "    <tr>\n",
       "      <th>2</th>\n",
       "      <td>T0005689464</td>\n",
       "      <td>41.58</td>\n",
       "      <td>NaN</td>\n",
       "      <td>10.0</td>\n",
       "      <td>NaN</td>\n",
       "      <td>NaN</td>\n",
       "      <td>E</td>\n",
       "      <td>3.50125</td>\n",
       "      <td>2</td>\n",
       "      <td>NaN</td>\n",
       "      <td>56</td>\n",
       "      <td>77</td>\n",
       "      <td>Male</td>\n",
       "      <td>2</td>\n",
       "    </tr>\n",
       "  </tbody>\n",
       "</table>\n",
       "</div>"
      ],
      "text/plain": [
       "       Trip_ID  Trip_Distance Type_of_Cab  Customer_Since_Months  \\\n",
       "0  T0005689460           6.77           B                    1.0   \n",
       "1  T0005689461          29.47           B                   10.0   \n",
       "2  T0005689464          41.58         NaN                   10.0   \n",
       "\n",
       "   Life_Style_Index Confidence_Life_Style_Index Destination_Type  \\\n",
       "0           2.42769                           A                A   \n",
       "1           2.78245                           B                A   \n",
       "2               NaN                         NaN                E   \n",
       "\n",
       "   Customer_Rating  Cancellation_Last_1Month  Var1  Var2  Var3  Gender  \\\n",
       "0          3.90500                         0  40.0    46    60  Female   \n",
       "1          3.45000                         0  38.0    56    78    Male   \n",
       "2          3.50125                         2   NaN    56    77    Male   \n",
       "\n",
       "   Surge_Pricing_Type  \n",
       "0                   2  \n",
       "1                   2  \n",
       "2                   2  "
      ]
     },
     "execution_count": 4,
     "metadata": {},
     "output_type": "execute_result"
    }
   ],
   "source": [
    "train.head(3)"
   ]
  },
  {
   "cell_type": "code",
   "execution_count": null,
   "metadata": {},
   "outputs": [],
   "source": [
    "# Last few rows"
   ]
  },
  {
   "cell_type": "code",
   "execution_count": 6,
   "metadata": {},
   "outputs": [
    {
     "data": {
      "text/html": [
       "<div>\n",
       "<style scoped>\n",
       "    .dataframe tbody tr th:only-of-type {\n",
       "        vertical-align: middle;\n",
       "    }\n",
       "\n",
       "    .dataframe tbody tr th {\n",
       "        vertical-align: top;\n",
       "    }\n",
       "\n",
       "    .dataframe thead th {\n",
       "        text-align: right;\n",
       "    }\n",
       "</style>\n",
       "<table border=\"1\" class=\"dataframe\">\n",
       "  <thead>\n",
       "    <tr style=\"text-align: right;\">\n",
       "      <th></th>\n",
       "      <th>Trip_ID</th>\n",
       "      <th>Trip_Distance</th>\n",
       "      <th>Type_of_Cab</th>\n",
       "      <th>Customer_Since_Months</th>\n",
       "      <th>Life_Style_Index</th>\n",
       "      <th>Confidence_Life_Style_Index</th>\n",
       "      <th>Destination_Type</th>\n",
       "      <th>Customer_Rating</th>\n",
       "      <th>Cancellation_Last_1Month</th>\n",
       "      <th>Var1</th>\n",
       "      <th>Var2</th>\n",
       "      <th>Var3</th>\n",
       "      <th>Gender</th>\n",
       "      <th>Surge_Pricing_Type</th>\n",
       "    </tr>\n",
       "  </thead>\n",
       "  <tbody>\n",
       "    <tr>\n",
       "      <th>131659</th>\n",
       "      <td>T0005908512</td>\n",
       "      <td>40.17</td>\n",
       "      <td>C</td>\n",
       "      <td>10.0</td>\n",
       "      <td>2.99565</td>\n",
       "      <td>B</td>\n",
       "      <td>A</td>\n",
       "      <td>3.33625</td>\n",
       "      <td>0</td>\n",
       "      <td>NaN</td>\n",
       "      <td>48</td>\n",
       "      <td>75</td>\n",
       "      <td>Female</td>\n",
       "      <td>2</td>\n",
       "    </tr>\n",
       "    <tr>\n",
       "      <th>131660</th>\n",
       "      <td>T0005908513</td>\n",
       "      <td>46.88</td>\n",
       "      <td>B</td>\n",
       "      <td>4.0</td>\n",
       "      <td>3.04744</td>\n",
       "      <td>A</td>\n",
       "      <td>B</td>\n",
       "      <td>4.15750</td>\n",
       "      <td>1</td>\n",
       "      <td>47.0</td>\n",
       "      <td>54</td>\n",
       "      <td>79</td>\n",
       "      <td>Male</td>\n",
       "      <td>2</td>\n",
       "    </tr>\n",
       "    <tr>\n",
       "      <th>131661</th>\n",
       "      <td>T0005908514</td>\n",
       "      <td>31.96</td>\n",
       "      <td>A</td>\n",
       "      <td>7.0</td>\n",
       "      <td>2.93773</td>\n",
       "      <td>A</td>\n",
       "      <td>E</td>\n",
       "      <td>2.63875</td>\n",
       "      <td>1</td>\n",
       "      <td>102.0</td>\n",
       "      <td>57</td>\n",
       "      <td>85</td>\n",
       "      <td>Male</td>\n",
       "      <td>1</td>\n",
       "    </tr>\n",
       "  </tbody>\n",
       "</table>\n",
       "</div>"
      ],
      "text/plain": [
       "            Trip_ID  Trip_Distance Type_of_Cab  Customer_Since_Months  \\\n",
       "131659  T0005908512          40.17           C                   10.0   \n",
       "131660  T0005908513          46.88           B                    4.0   \n",
       "131661  T0005908514          31.96           A                    7.0   \n",
       "\n",
       "        Life_Style_Index Confidence_Life_Style_Index Destination_Type  \\\n",
       "131659           2.99565                           B                A   \n",
       "131660           3.04744                           A                B   \n",
       "131661           2.93773                           A                E   \n",
       "\n",
       "        Customer_Rating  Cancellation_Last_1Month   Var1  Var2  Var3  Gender  \\\n",
       "131659          3.33625                         0    NaN    48    75  Female   \n",
       "131660          4.15750                         1   47.0    54    79    Male   \n",
       "131661          2.63875                         1  102.0    57    85    Male   \n",
       "\n",
       "        Surge_Pricing_Type  \n",
       "131659                   2  \n",
       "131660                   2  \n",
       "131661                   1  "
      ]
     },
     "execution_count": 6,
     "metadata": {},
     "output_type": "execute_result"
    }
   ],
   "source": [
    "train.tail(3)"
   ]
  },
  {
   "cell_type": "code",
   "execution_count": null,
   "metadata": {},
   "outputs": [],
   "source": [
    "# A few random rows"
   ]
  },
  {
   "cell_type": "code",
   "execution_count": 7,
   "metadata": {},
   "outputs": [
    {
     "data": {
      "text/html": [
       "<div>\n",
       "<style scoped>\n",
       "    .dataframe tbody tr th:only-of-type {\n",
       "        vertical-align: middle;\n",
       "    }\n",
       "\n",
       "    .dataframe tbody tr th {\n",
       "        vertical-align: top;\n",
       "    }\n",
       "\n",
       "    .dataframe thead th {\n",
       "        text-align: right;\n",
       "    }\n",
       "</style>\n",
       "<table border=\"1\" class=\"dataframe\">\n",
       "  <thead>\n",
       "    <tr style=\"text-align: right;\">\n",
       "      <th></th>\n",
       "      <th>Trip_ID</th>\n",
       "      <th>Trip_Distance</th>\n",
       "      <th>Type_of_Cab</th>\n",
       "      <th>Customer_Since_Months</th>\n",
       "      <th>Life_Style_Index</th>\n",
       "      <th>Confidence_Life_Style_Index</th>\n",
       "      <th>Destination_Type</th>\n",
       "      <th>Customer_Rating</th>\n",
       "      <th>Cancellation_Last_1Month</th>\n",
       "      <th>Var1</th>\n",
       "      <th>Var2</th>\n",
       "      <th>Var3</th>\n",
       "      <th>Gender</th>\n",
       "      <th>Surge_Pricing_Type</th>\n",
       "    </tr>\n",
       "  </thead>\n",
       "  <tbody>\n",
       "    <tr>\n",
       "      <th>126759</th>\n",
       "      <td>T0005900329</td>\n",
       "      <td>19.48</td>\n",
       "      <td>D</td>\n",
       "      <td>0.0</td>\n",
       "      <td>NaN</td>\n",
       "      <td>NaN</td>\n",
       "      <td>J</td>\n",
       "      <td>2.85500</td>\n",
       "      <td>2</td>\n",
       "      <td>NaN</td>\n",
       "      <td>47</td>\n",
       "      <td>59</td>\n",
       "      <td>Male</td>\n",
       "      <td>3</td>\n",
       "    </tr>\n",
       "    <tr>\n",
       "      <th>72446</th>\n",
       "      <td>T0005810004</td>\n",
       "      <td>64.98</td>\n",
       "      <td>D</td>\n",
       "      <td>10.0</td>\n",
       "      <td>NaN</td>\n",
       "      <td>NaN</td>\n",
       "      <td>A</td>\n",
       "      <td>4.08750</td>\n",
       "      <td>1</td>\n",
       "      <td>NaN</td>\n",
       "      <td>53</td>\n",
       "      <td>73</td>\n",
       "      <td>Male</td>\n",
       "      <td>3</td>\n",
       "    </tr>\n",
       "    <tr>\n",
       "      <th>78414</th>\n",
       "      <td>T0005820065</td>\n",
       "      <td>23.94</td>\n",
       "      <td>A</td>\n",
       "      <td>NaN</td>\n",
       "      <td>2.5211</td>\n",
       "      <td>B</td>\n",
       "      <td>A</td>\n",
       "      <td>2.64125</td>\n",
       "      <td>1</td>\n",
       "      <td>NaN</td>\n",
       "      <td>49</td>\n",
       "      <td>75</td>\n",
       "      <td>Female</td>\n",
       "      <td>1</td>\n",
       "    </tr>\n",
       "    <tr>\n",
       "      <th>86905</th>\n",
       "      <td>T0005834148</td>\n",
       "      <td>41.95</td>\n",
       "      <td>C</td>\n",
       "      <td>0.0</td>\n",
       "      <td>2.7382</td>\n",
       "      <td>A</td>\n",
       "      <td>A</td>\n",
       "      <td>3.34750</td>\n",
       "      <td>0</td>\n",
       "      <td>NaN</td>\n",
       "      <td>53</td>\n",
       "      <td>67</td>\n",
       "      <td>Male</td>\n",
       "      <td>2</td>\n",
       "    </tr>\n",
       "  </tbody>\n",
       "</table>\n",
       "</div>"
      ],
      "text/plain": [
       "            Trip_ID  Trip_Distance Type_of_Cab  Customer_Since_Months  \\\n",
       "126759  T0005900329          19.48           D                    0.0   \n",
       "72446   T0005810004          64.98           D                   10.0   \n",
       "78414   T0005820065          23.94           A                    NaN   \n",
       "86905   T0005834148          41.95           C                    0.0   \n",
       "\n",
       "        Life_Style_Index Confidence_Life_Style_Index Destination_Type  \\\n",
       "126759               NaN                         NaN                J   \n",
       "72446                NaN                         NaN                A   \n",
       "78414             2.5211                           B                A   \n",
       "86905             2.7382                           A                A   \n",
       "\n",
       "        Customer_Rating  Cancellation_Last_1Month  Var1  Var2  Var3  Gender  \\\n",
       "126759          2.85500                         2   NaN    47    59    Male   \n",
       "72446           4.08750                         1   NaN    53    73    Male   \n",
       "78414           2.64125                         1   NaN    49    75  Female   \n",
       "86905           3.34750                         0   NaN    53    67    Male   \n",
       "\n",
       "        Surge_Pricing_Type  \n",
       "126759                   3  \n",
       "72446                    3  \n",
       "78414                    1  \n",
       "86905                    2  "
      ]
     },
     "execution_count": 7,
     "metadata": {},
     "output_type": "execute_result"
    }
   ],
   "source": [
    "train.sample(4)"
   ]
  },
  {
   "cell_type": "code",
   "execution_count": null,
   "metadata": {},
   "outputs": [],
   "source": [
    "# shape of training dataset"
   ]
  },
  {
   "cell_type": "code",
   "execution_count": 8,
   "metadata": {},
   "outputs": [
    {
     "data": {
      "text/plain": [
       "(131662, 14)"
      ]
     },
     "execution_count": 8,
     "metadata": {},
     "output_type": "execute_result"
    }
   ],
   "source": [
    "train.shape"
   ]
  },
  {
   "cell_type": "code",
   "execution_count": null,
   "metadata": {},
   "outputs": [],
   "source": [
    "# basic stats value"
   ]
  },
  {
   "cell_type": "code",
   "execution_count": 9,
   "metadata": {},
   "outputs": [
    {
     "data": {
      "text/html": [
       "<div>\n",
       "<style scoped>\n",
       "    .dataframe tbody tr th:only-of-type {\n",
       "        vertical-align: middle;\n",
       "    }\n",
       "\n",
       "    .dataframe tbody tr th {\n",
       "        vertical-align: top;\n",
       "    }\n",
       "\n",
       "    .dataframe thead th {\n",
       "        text-align: right;\n",
       "    }\n",
       "</style>\n",
       "<table border=\"1\" class=\"dataframe\">\n",
       "  <thead>\n",
       "    <tr style=\"text-align: right;\">\n",
       "      <th></th>\n",
       "      <th>Trip_Distance</th>\n",
       "      <th>Customer_Since_Months</th>\n",
       "      <th>Life_Style_Index</th>\n",
       "      <th>Customer_Rating</th>\n",
       "      <th>Cancellation_Last_1Month</th>\n",
       "      <th>Var1</th>\n",
       "      <th>Var2</th>\n",
       "      <th>Var3</th>\n",
       "      <th>Surge_Pricing_Type</th>\n",
       "    </tr>\n",
       "  </thead>\n",
       "  <tbody>\n",
       "    <tr>\n",
       "      <th>count</th>\n",
       "      <td>131662.000000</td>\n",
       "      <td>125742.000000</td>\n",
       "      <td>111469.000000</td>\n",
       "      <td>131662.000000</td>\n",
       "      <td>131662.000000</td>\n",
       "      <td>60632.000000</td>\n",
       "      <td>131662.000000</td>\n",
       "      <td>131662.000000</td>\n",
       "      <td>131662.000000</td>\n",
       "    </tr>\n",
       "    <tr>\n",
       "      <th>mean</th>\n",
       "      <td>44.200909</td>\n",
       "      <td>6.016661</td>\n",
       "      <td>2.802064</td>\n",
       "      <td>2.849458</td>\n",
       "      <td>0.782838</td>\n",
       "      <td>64.202698</td>\n",
       "      <td>51.202800</td>\n",
       "      <td>75.099019</td>\n",
       "      <td>2.155747</td>\n",
       "    </tr>\n",
       "    <tr>\n",
       "      <th>std</th>\n",
       "      <td>25.522882</td>\n",
       "      <td>3.626887</td>\n",
       "      <td>0.225796</td>\n",
       "      <td>0.980675</td>\n",
       "      <td>1.037559</td>\n",
       "      <td>21.820447</td>\n",
       "      <td>4.986142</td>\n",
       "      <td>11.578278</td>\n",
       "      <td>0.738164</td>\n",
       "    </tr>\n",
       "    <tr>\n",
       "      <th>min</th>\n",
       "      <td>0.310000</td>\n",
       "      <td>0.000000</td>\n",
       "      <td>1.596380</td>\n",
       "      <td>0.001250</td>\n",
       "      <td>0.000000</td>\n",
       "      <td>30.000000</td>\n",
       "      <td>40.000000</td>\n",
       "      <td>52.000000</td>\n",
       "      <td>1.000000</td>\n",
       "    </tr>\n",
       "    <tr>\n",
       "      <th>25%</th>\n",
       "      <td>24.580000</td>\n",
       "      <td>3.000000</td>\n",
       "      <td>2.654730</td>\n",
       "      <td>2.152500</td>\n",
       "      <td>0.000000</td>\n",
       "      <td>46.000000</td>\n",
       "      <td>48.000000</td>\n",
       "      <td>67.000000</td>\n",
       "      <td>2.000000</td>\n",
       "    </tr>\n",
       "    <tr>\n",
       "      <th>50%</th>\n",
       "      <td>38.200000</td>\n",
       "      <td>6.000000</td>\n",
       "      <td>2.798050</td>\n",
       "      <td>2.895000</td>\n",
       "      <td>0.000000</td>\n",
       "      <td>61.000000</td>\n",
       "      <td>50.000000</td>\n",
       "      <td>74.000000</td>\n",
       "      <td>2.000000</td>\n",
       "    </tr>\n",
       "    <tr>\n",
       "      <th>75%</th>\n",
       "      <td>60.730000</td>\n",
       "      <td>10.000000</td>\n",
       "      <td>2.946780</td>\n",
       "      <td>3.582500</td>\n",
       "      <td>1.000000</td>\n",
       "      <td>80.000000</td>\n",
       "      <td>54.000000</td>\n",
       "      <td>82.000000</td>\n",
       "      <td>3.000000</td>\n",
       "    </tr>\n",
       "    <tr>\n",
       "      <th>max</th>\n",
       "      <td>109.230000</td>\n",
       "      <td>10.000000</td>\n",
       "      <td>4.875110</td>\n",
       "      <td>5.000000</td>\n",
       "      <td>8.000000</td>\n",
       "      <td>210.000000</td>\n",
       "      <td>124.000000</td>\n",
       "      <td>206.000000</td>\n",
       "      <td>3.000000</td>\n",
       "    </tr>\n",
       "  </tbody>\n",
       "</table>\n",
       "</div>"
      ],
      "text/plain": [
       "       Trip_Distance  Customer_Since_Months  Life_Style_Index  \\\n",
       "count  131662.000000          125742.000000     111469.000000   \n",
       "mean       44.200909               6.016661          2.802064   \n",
       "std        25.522882               3.626887          0.225796   \n",
       "min         0.310000               0.000000          1.596380   \n",
       "25%        24.580000               3.000000          2.654730   \n",
       "50%        38.200000               6.000000          2.798050   \n",
       "75%        60.730000              10.000000          2.946780   \n",
       "max       109.230000              10.000000          4.875110   \n",
       "\n",
       "       Customer_Rating  Cancellation_Last_1Month          Var1           Var2  \\\n",
       "count    131662.000000             131662.000000  60632.000000  131662.000000   \n",
       "mean          2.849458                  0.782838     64.202698      51.202800   \n",
       "std           0.980675                  1.037559     21.820447       4.986142   \n",
       "min           0.001250                  0.000000     30.000000      40.000000   \n",
       "25%           2.152500                  0.000000     46.000000      48.000000   \n",
       "50%           2.895000                  0.000000     61.000000      50.000000   \n",
       "75%           3.582500                  1.000000     80.000000      54.000000   \n",
       "max           5.000000                  8.000000    210.000000     124.000000   \n",
       "\n",
       "                Var3  Surge_Pricing_Type  \n",
       "count  131662.000000       131662.000000  \n",
       "mean       75.099019            2.155747  \n",
       "std        11.578278            0.738164  \n",
       "min        52.000000            1.000000  \n",
       "25%        67.000000            2.000000  \n",
       "50%        74.000000            2.000000  \n",
       "75%        82.000000            3.000000  \n",
       "max       206.000000            3.000000  "
      ]
     },
     "execution_count": 9,
     "metadata": {},
     "output_type": "execute_result"
    }
   ],
   "source": [
    "train.describe()"
   ]
  },
  {
   "cell_type": "code",
   "execution_count": null,
   "metadata": {},
   "outputs": [],
   "source": [
    "# A brief summary of training dataset"
   ]
  },
  {
   "cell_type": "code",
   "execution_count": 10,
   "metadata": {},
   "outputs": [
    {
     "data": {
      "text/html": [
       "<div>\n",
       "<style scoped>\n",
       "    .dataframe tbody tr th:only-of-type {\n",
       "        vertical-align: middle;\n",
       "    }\n",
       "\n",
       "    .dataframe tbody tr th {\n",
       "        vertical-align: top;\n",
       "    }\n",
       "\n",
       "    .dataframe thead th {\n",
       "        text-align: right;\n",
       "    }\n",
       "</style>\n",
       "<table border=\"1\" class=\"dataframe\">\n",
       "  <thead>\n",
       "    <tr style=\"text-align: right;\">\n",
       "      <th></th>\n",
       "      <th>TotalMissing</th>\n",
       "      <th>%Missing</th>\n",
       "      <th>DataType</th>\n",
       "      <th>Unique</th>\n",
       "    </tr>\n",
       "  </thead>\n",
       "  <tbody>\n",
       "    <tr>\n",
       "      <th>Trip_ID</th>\n",
       "      <td>0</td>\n",
       "      <td>0.000000</td>\n",
       "      <td>object</td>\n",
       "      <td>131662</td>\n",
       "    </tr>\n",
       "    <tr>\n",
       "      <th>Trip_Distance</th>\n",
       "      <td>0</td>\n",
       "      <td>0.000000</td>\n",
       "      <td>float64</td>\n",
       "      <td>10326</td>\n",
       "    </tr>\n",
       "    <tr>\n",
       "      <th>Type_of_Cab</th>\n",
       "      <td>20210</td>\n",
       "      <td>0.153499</td>\n",
       "      <td>object</td>\n",
       "      <td>5</td>\n",
       "    </tr>\n",
       "    <tr>\n",
       "      <th>Customer_Since_Months</th>\n",
       "      <td>5920</td>\n",
       "      <td>0.044964</td>\n",
       "      <td>float64</td>\n",
       "      <td>11</td>\n",
       "    </tr>\n",
       "    <tr>\n",
       "      <th>Life_Style_Index</th>\n",
       "      <td>20193</td>\n",
       "      <td>0.153370</td>\n",
       "      <td>float64</td>\n",
       "      <td>55978</td>\n",
       "    </tr>\n",
       "    <tr>\n",
       "      <th>Confidence_Life_Style_Index</th>\n",
       "      <td>20193</td>\n",
       "      <td>0.153370</td>\n",
       "      <td>object</td>\n",
       "      <td>3</td>\n",
       "    </tr>\n",
       "    <tr>\n",
       "      <th>Destination_Type</th>\n",
       "      <td>0</td>\n",
       "      <td>0.000000</td>\n",
       "      <td>object</td>\n",
       "      <td>14</td>\n",
       "    </tr>\n",
       "    <tr>\n",
       "      <th>Customer_Rating</th>\n",
       "      <td>0</td>\n",
       "      <td>0.000000</td>\n",
       "      <td>float64</td>\n",
       "      <td>3931</td>\n",
       "    </tr>\n",
       "    <tr>\n",
       "      <th>Cancellation_Last_1Month</th>\n",
       "      <td>0</td>\n",
       "      <td>0.000000</td>\n",
       "      <td>int64</td>\n",
       "      <td>9</td>\n",
       "    </tr>\n",
       "    <tr>\n",
       "      <th>Var1</th>\n",
       "      <td>71030</td>\n",
       "      <td>0.539487</td>\n",
       "      <td>float64</td>\n",
       "      <td>122</td>\n",
       "    </tr>\n",
       "    <tr>\n",
       "      <th>Var2</th>\n",
       "      <td>0</td>\n",
       "      <td>0.000000</td>\n",
       "      <td>int64</td>\n",
       "      <td>58</td>\n",
       "    </tr>\n",
       "    <tr>\n",
       "      <th>Var3</th>\n",
       "      <td>0</td>\n",
       "      <td>0.000000</td>\n",
       "      <td>int64</td>\n",
       "      <td>96</td>\n",
       "    </tr>\n",
       "    <tr>\n",
       "      <th>Gender</th>\n",
       "      <td>0</td>\n",
       "      <td>0.000000</td>\n",
       "      <td>object</td>\n",
       "      <td>2</td>\n",
       "    </tr>\n",
       "    <tr>\n",
       "      <th>Surge_Pricing_Type</th>\n",
       "      <td>0</td>\n",
       "      <td>0.000000</td>\n",
       "      <td>int64</td>\n",
       "      <td>3</td>\n",
       "    </tr>\n",
       "  </tbody>\n",
       "</table>\n",
       "</div>"
      ],
      "text/plain": [
       "                             TotalMissing  %Missing DataType  Unique\n",
       "Trip_ID                                 0  0.000000   object  131662\n",
       "Trip_Distance                           0  0.000000  float64   10326\n",
       "Type_of_Cab                         20210  0.153499   object       5\n",
       "Customer_Since_Months                5920  0.044964  float64      11\n",
       "Life_Style_Index                    20193  0.153370  float64   55978\n",
       "Confidence_Life_Style_Index         20193  0.153370   object       3\n",
       "Destination_Type                        0  0.000000   object      14\n",
       "Customer_Rating                         0  0.000000  float64    3931\n",
       "Cancellation_Last_1Month                0  0.000000    int64       9\n",
       "Var1                                71030  0.539487  float64     122\n",
       "Var2                                    0  0.000000    int64      58\n",
       "Var3                                    0  0.000000    int64      96\n",
       "Gender                                  0  0.000000   object       2\n",
       "Surge_Pricing_Type                      0  0.000000    int64       3"
      ]
     },
     "execution_count": 10,
     "metadata": {},
     "output_type": "execute_result"
    }
   ],
   "source": [
    "pd.DataFrame({\"TotalMissing\":train.isna().sum(),\"%Missing\":train.isna().mean(),\"DataType\":train.dtypes,\"Unique\":train.nunique()})"
   ]
  },
  {
   "cell_type": "code",
   "execution_count": null,
   "metadata": {},
   "outputs": [],
   "source": [
    "# Lets explore test dataset"
   ]
  },
  {
   "cell_type": "code",
   "execution_count": 11,
   "metadata": {},
   "outputs": [
    {
     "data": {
      "text/html": [
       "<div>\n",
       "<style scoped>\n",
       "    .dataframe tbody tr th:only-of-type {\n",
       "        vertical-align: middle;\n",
       "    }\n",
       "\n",
       "    .dataframe tbody tr th {\n",
       "        vertical-align: top;\n",
       "    }\n",
       "\n",
       "    .dataframe thead th {\n",
       "        text-align: right;\n",
       "    }\n",
       "</style>\n",
       "<table border=\"1\" class=\"dataframe\">\n",
       "  <thead>\n",
       "    <tr style=\"text-align: right;\">\n",
       "      <th></th>\n",
       "      <th>Trip_ID</th>\n",
       "      <th>Trip_Distance</th>\n",
       "      <th>Type_of_Cab</th>\n",
       "      <th>Customer_Since_Months</th>\n",
       "      <th>Life_Style_Index</th>\n",
       "      <th>Confidence_Life_Style_Index</th>\n",
       "      <th>Destination_Type</th>\n",
       "      <th>Customer_Rating</th>\n",
       "      <th>Cancellation_Last_1Month</th>\n",
       "      <th>Var1</th>\n",
       "      <th>Var2</th>\n",
       "      <th>Var3</th>\n",
       "      <th>Gender</th>\n",
       "    </tr>\n",
       "  </thead>\n",
       "  <tbody>\n",
       "    <tr>\n",
       "      <th>0</th>\n",
       "      <td>T0005689459</td>\n",
       "      <td>9.44</td>\n",
       "      <td>A</td>\n",
       "      <td>10.0</td>\n",
       "      <td>2.57438</td>\n",
       "      <td>A</td>\n",
       "      <td>B</td>\n",
       "      <td>3.68000</td>\n",
       "      <td>2</td>\n",
       "      <td>NaN</td>\n",
       "      <td>46</td>\n",
       "      <td>63</td>\n",
       "      <td>Male</td>\n",
       "    </tr>\n",
       "    <tr>\n",
       "      <th>1</th>\n",
       "      <td>T0005689462</td>\n",
       "      <td>32.15</td>\n",
       "      <td>B</td>\n",
       "      <td>10.0</td>\n",
       "      <td>2.85143</td>\n",
       "      <td>A</td>\n",
       "      <td>A</td>\n",
       "      <td>1.59375</td>\n",
       "      <td>0</td>\n",
       "      <td>65.0</td>\n",
       "      <td>49</td>\n",
       "      <td>80</td>\n",
       "      <td>Female</td>\n",
       "    </tr>\n",
       "    <tr>\n",
       "      <th>2</th>\n",
       "      <td>T0005689463</td>\n",
       "      <td>10.38</td>\n",
       "      <td>C</td>\n",
       "      <td>4.0</td>\n",
       "      <td>2.70530</td>\n",
       "      <td>A</td>\n",
       "      <td>D</td>\n",
       "      <td>4.50500</td>\n",
       "      <td>0</td>\n",
       "      <td>NaN</td>\n",
       "      <td>47</td>\n",
       "      <td>74</td>\n",
       "      <td>Male</td>\n",
       "    </tr>\n",
       "  </tbody>\n",
       "</table>\n",
       "</div>"
      ],
      "text/plain": [
       "       Trip_ID  Trip_Distance Type_of_Cab  Customer_Since_Months  \\\n",
       "0  T0005689459           9.44           A                   10.0   \n",
       "1  T0005689462          32.15           B                   10.0   \n",
       "2  T0005689463          10.38           C                    4.0   \n",
       "\n",
       "   Life_Style_Index Confidence_Life_Style_Index Destination_Type  \\\n",
       "0           2.57438                           A                B   \n",
       "1           2.85143                           A                A   \n",
       "2           2.70530                           A                D   \n",
       "\n",
       "   Customer_Rating  Cancellation_Last_1Month  Var1  Var2  Var3  Gender  \n",
       "0          3.68000                         2   NaN    46    63    Male  \n",
       "1          1.59375                         0  65.0    49    80  Female  \n",
       "2          4.50500                         0   NaN    47    74    Male  "
      ]
     },
     "execution_count": 11,
     "metadata": {},
     "output_type": "execute_result"
    }
   ],
   "source": [
    "test.head(3)"
   ]
  },
  {
   "cell_type": "code",
   "execution_count": null,
   "metadata": {},
   "outputs": [],
   "source": [
    "# a few rows from bottom"
   ]
  },
  {
   "cell_type": "code",
   "execution_count": 12,
   "metadata": {},
   "outputs": [
    {
     "data": {
      "text/html": [
       "<div>\n",
       "<style scoped>\n",
       "    .dataframe tbody tr th:only-of-type {\n",
       "        vertical-align: middle;\n",
       "    }\n",
       "\n",
       "    .dataframe tbody tr th {\n",
       "        vertical-align: top;\n",
       "    }\n",
       "\n",
       "    .dataframe thead th {\n",
       "        text-align: right;\n",
       "    }\n",
       "</style>\n",
       "<table border=\"1\" class=\"dataframe\">\n",
       "  <thead>\n",
       "    <tr style=\"text-align: right;\">\n",
       "      <th></th>\n",
       "      <th>Trip_ID</th>\n",
       "      <th>Trip_Distance</th>\n",
       "      <th>Type_of_Cab</th>\n",
       "      <th>Customer_Since_Months</th>\n",
       "      <th>Life_Style_Index</th>\n",
       "      <th>Confidence_Life_Style_Index</th>\n",
       "      <th>Destination_Type</th>\n",
       "      <th>Customer_Rating</th>\n",
       "      <th>Cancellation_Last_1Month</th>\n",
       "      <th>Var1</th>\n",
       "      <th>Var2</th>\n",
       "      <th>Var3</th>\n",
       "      <th>Gender</th>\n",
       "    </tr>\n",
       "  </thead>\n",
       "  <tbody>\n",
       "    <tr>\n",
       "      <th>87392</th>\n",
       "      <td>T0005908505</td>\n",
       "      <td>37.86</td>\n",
       "      <td>A</td>\n",
       "      <td>6.0</td>\n",
       "      <td>3.08227</td>\n",
       "      <td>C</td>\n",
       "      <td>A</td>\n",
       "      <td>1.63500</td>\n",
       "      <td>0</td>\n",
       "      <td>NaN</td>\n",
       "      <td>57</td>\n",
       "      <td>77</td>\n",
       "      <td>Male</td>\n",
       "    </tr>\n",
       "    <tr>\n",
       "      <th>87393</th>\n",
       "      <td>T0005908511</td>\n",
       "      <td>10.63</td>\n",
       "      <td>C</td>\n",
       "      <td>1.0</td>\n",
       "      <td>NaN</td>\n",
       "      <td>NaN</td>\n",
       "      <td>J</td>\n",
       "      <td>2.59875</td>\n",
       "      <td>1</td>\n",
       "      <td>107.0</td>\n",
       "      <td>51</td>\n",
       "      <td>77</td>\n",
       "      <td>Male</td>\n",
       "    </tr>\n",
       "    <tr>\n",
       "      <th>87394</th>\n",
       "      <td>T0005908515</td>\n",
       "      <td>37.96</td>\n",
       "      <td>B</td>\n",
       "      <td>10.0</td>\n",
       "      <td>3.00274</td>\n",
       "      <td>A</td>\n",
       "      <td>A</td>\n",
       "      <td>2.05500</td>\n",
       "      <td>0</td>\n",
       "      <td>NaN</td>\n",
       "      <td>48</td>\n",
       "      <td>73</td>\n",
       "      <td>Female</td>\n",
       "    </tr>\n",
       "  </tbody>\n",
       "</table>\n",
       "</div>"
      ],
      "text/plain": [
       "           Trip_ID  Trip_Distance Type_of_Cab  Customer_Since_Months  \\\n",
       "87392  T0005908505          37.86           A                    6.0   \n",
       "87393  T0005908511          10.63           C                    1.0   \n",
       "87394  T0005908515          37.96           B                   10.0   \n",
       "\n",
       "       Life_Style_Index Confidence_Life_Style_Index Destination_Type  \\\n",
       "87392           3.08227                           C                A   \n",
       "87393               NaN                         NaN                J   \n",
       "87394           3.00274                           A                A   \n",
       "\n",
       "       Customer_Rating  Cancellation_Last_1Month   Var1  Var2  Var3  Gender  \n",
       "87392          1.63500                         0    NaN    57    77    Male  \n",
       "87393          2.59875                         1  107.0    51    77    Male  \n",
       "87394          2.05500                         0    NaN    48    73  Female  "
      ]
     },
     "execution_count": 12,
     "metadata": {},
     "output_type": "execute_result"
    }
   ],
   "source": [
    "test.tail(3)"
   ]
  },
  {
   "cell_type": "code",
   "execution_count": null,
   "metadata": {},
   "outputs": [],
   "source": [
    "# a few random rows"
   ]
  },
  {
   "cell_type": "code",
   "execution_count": 13,
   "metadata": {},
   "outputs": [
    {
     "data": {
      "text/html": [
       "<div>\n",
       "<style scoped>\n",
       "    .dataframe tbody tr th:only-of-type {\n",
       "        vertical-align: middle;\n",
       "    }\n",
       "\n",
       "    .dataframe tbody tr th {\n",
       "        vertical-align: top;\n",
       "    }\n",
       "\n",
       "    .dataframe thead th {\n",
       "        text-align: right;\n",
       "    }\n",
       "</style>\n",
       "<table border=\"1\" class=\"dataframe\">\n",
       "  <thead>\n",
       "    <tr style=\"text-align: right;\">\n",
       "      <th></th>\n",
       "      <th>Trip_ID</th>\n",
       "      <th>Trip_Distance</th>\n",
       "      <th>Type_of_Cab</th>\n",
       "      <th>Customer_Since_Months</th>\n",
       "      <th>Life_Style_Index</th>\n",
       "      <th>Confidence_Life_Style_Index</th>\n",
       "      <th>Destination_Type</th>\n",
       "      <th>Customer_Rating</th>\n",
       "      <th>Cancellation_Last_1Month</th>\n",
       "      <th>Var1</th>\n",
       "      <th>Var2</th>\n",
       "      <th>Var3</th>\n",
       "      <th>Gender</th>\n",
       "    </tr>\n",
       "  </thead>\n",
       "  <tbody>\n",
       "    <tr>\n",
       "      <th>13148</th>\n",
       "      <td>T0005722721</td>\n",
       "      <td>34.24</td>\n",
       "      <td>NaN</td>\n",
       "      <td>3.0</td>\n",
       "      <td>2.66834</td>\n",
       "      <td>A</td>\n",
       "      <td>A</td>\n",
       "      <td>2.29000</td>\n",
       "      <td>1</td>\n",
       "      <td>34.0</td>\n",
       "      <td>49</td>\n",
       "      <td>73</td>\n",
       "      <td>Female</td>\n",
       "    </tr>\n",
       "    <tr>\n",
       "      <th>60709</th>\n",
       "      <td>T0005841447</td>\n",
       "      <td>50.42</td>\n",
       "      <td>E</td>\n",
       "      <td>10.0</td>\n",
       "      <td>2.56219</td>\n",
       "      <td>B</td>\n",
       "      <td>A</td>\n",
       "      <td>3.13375</td>\n",
       "      <td>0</td>\n",
       "      <td>82.0</td>\n",
       "      <td>50</td>\n",
       "      <td>78</td>\n",
       "      <td>Male</td>\n",
       "    </tr>\n",
       "    <tr>\n",
       "      <th>82563</th>\n",
       "      <td>T0005896421</td>\n",
       "      <td>108.68</td>\n",
       "      <td>B</td>\n",
       "      <td>10.0</td>\n",
       "      <td>NaN</td>\n",
       "      <td>NaN</td>\n",
       "      <td>B</td>\n",
       "      <td>2.98625</td>\n",
       "      <td>0</td>\n",
       "      <td>111.0</td>\n",
       "      <td>49</td>\n",
       "      <td>70</td>\n",
       "      <td>Male</td>\n",
       "    </tr>\n",
       "  </tbody>\n",
       "</table>\n",
       "</div>"
      ],
      "text/plain": [
       "           Trip_ID  Trip_Distance Type_of_Cab  Customer_Since_Months  \\\n",
       "13148  T0005722721          34.24         NaN                    3.0   \n",
       "60709  T0005841447          50.42           E                   10.0   \n",
       "82563  T0005896421         108.68           B                   10.0   \n",
       "\n",
       "       Life_Style_Index Confidence_Life_Style_Index Destination_Type  \\\n",
       "13148           2.66834                           A                A   \n",
       "60709           2.56219                           B                A   \n",
       "82563               NaN                         NaN                B   \n",
       "\n",
       "       Customer_Rating  Cancellation_Last_1Month   Var1  Var2  Var3  Gender  \n",
       "13148          2.29000                         1   34.0    49    73  Female  \n",
       "60709          3.13375                         0   82.0    50    78    Male  \n",
       "82563          2.98625                         0  111.0    49    70    Male  "
      ]
     },
     "execution_count": 13,
     "metadata": {},
     "output_type": "execute_result"
    }
   ],
   "source": [
    "test.sample(3)"
   ]
  },
  {
   "cell_type": "code",
   "execution_count": null,
   "metadata": {},
   "outputs": [],
   "source": [
    "# detailed summary of test dataset"
   ]
  },
  {
   "cell_type": "code",
   "execution_count": 14,
   "metadata": {},
   "outputs": [
    {
     "data": {
      "text/html": [
       "<div>\n",
       "<style scoped>\n",
       "    .dataframe tbody tr th:only-of-type {\n",
       "        vertical-align: middle;\n",
       "    }\n",
       "\n",
       "    .dataframe tbody tr th {\n",
       "        vertical-align: top;\n",
       "    }\n",
       "\n",
       "    .dataframe thead th {\n",
       "        text-align: right;\n",
       "    }\n",
       "</style>\n",
       "<table border=\"1\" class=\"dataframe\">\n",
       "  <thead>\n",
       "    <tr style=\"text-align: right;\">\n",
       "      <th></th>\n",
       "      <th>TotalMissing</th>\n",
       "      <th>%Missing</th>\n",
       "      <th>DataType</th>\n",
       "      <th>Unique</th>\n",
       "    </tr>\n",
       "  </thead>\n",
       "  <tbody>\n",
       "    <tr>\n",
       "      <th>Trip_ID</th>\n",
       "      <td>0</td>\n",
       "      <td>0.000000</td>\n",
       "      <td>object</td>\n",
       "      <td>87395</td>\n",
       "    </tr>\n",
       "    <tr>\n",
       "      <th>Trip_Distance</th>\n",
       "      <td>0</td>\n",
       "      <td>0.000000</td>\n",
       "      <td>float64</td>\n",
       "      <td>9942</td>\n",
       "    </tr>\n",
       "    <tr>\n",
       "      <th>Type_of_Cab</th>\n",
       "      <td>13158</td>\n",
       "      <td>0.150558</td>\n",
       "      <td>object</td>\n",
       "      <td>5</td>\n",
       "    </tr>\n",
       "    <tr>\n",
       "      <th>Customer_Since_Months</th>\n",
       "      <td>3966</td>\n",
       "      <td>0.045380</td>\n",
       "      <td>float64</td>\n",
       "      <td>11</td>\n",
       "    </tr>\n",
       "    <tr>\n",
       "      <th>Life_Style_Index</th>\n",
       "      <td>13327</td>\n",
       "      <td>0.152492</td>\n",
       "      <td>float64</td>\n",
       "      <td>44857</td>\n",
       "    </tr>\n",
       "    <tr>\n",
       "      <th>Confidence_Life_Style_Index</th>\n",
       "      <td>13327</td>\n",
       "      <td>0.152492</td>\n",
       "      <td>object</td>\n",
       "      <td>3</td>\n",
       "    </tr>\n",
       "    <tr>\n",
       "      <th>Destination_Type</th>\n",
       "      <td>0</td>\n",
       "      <td>0.000000</td>\n",
       "      <td>object</td>\n",
       "      <td>14</td>\n",
       "    </tr>\n",
       "    <tr>\n",
       "      <th>Customer_Rating</th>\n",
       "      <td>0</td>\n",
       "      <td>0.000000</td>\n",
       "      <td>float64</td>\n",
       "      <td>3857</td>\n",
       "    </tr>\n",
       "    <tr>\n",
       "      <th>Cancellation_Last_1Month</th>\n",
       "      <td>0</td>\n",
       "      <td>0.000000</td>\n",
       "      <td>int64</td>\n",
       "      <td>9</td>\n",
       "    </tr>\n",
       "    <tr>\n",
       "      <th>Var1</th>\n",
       "      <td>46789</td>\n",
       "      <td>0.535374</td>\n",
       "      <td>float64</td>\n",
       "      <td>105</td>\n",
       "    </tr>\n",
       "    <tr>\n",
       "      <th>Var2</th>\n",
       "      <td>0</td>\n",
       "      <td>0.000000</td>\n",
       "      <td>int64</td>\n",
       "      <td>51</td>\n",
       "    </tr>\n",
       "    <tr>\n",
       "      <th>Var3</th>\n",
       "      <td>0</td>\n",
       "      <td>0.000000</td>\n",
       "      <td>int64</td>\n",
       "      <td>94</td>\n",
       "    </tr>\n",
       "    <tr>\n",
       "      <th>Gender</th>\n",
       "      <td>0</td>\n",
       "      <td>0.000000</td>\n",
       "      <td>object</td>\n",
       "      <td>2</td>\n",
       "    </tr>\n",
       "  </tbody>\n",
       "</table>\n",
       "</div>"
      ],
      "text/plain": [
       "                             TotalMissing  %Missing DataType  Unique\n",
       "Trip_ID                                 0  0.000000   object   87395\n",
       "Trip_Distance                           0  0.000000  float64    9942\n",
       "Type_of_Cab                         13158  0.150558   object       5\n",
       "Customer_Since_Months                3966  0.045380  float64      11\n",
       "Life_Style_Index                    13327  0.152492  float64   44857\n",
       "Confidence_Life_Style_Index         13327  0.152492   object       3\n",
       "Destination_Type                        0  0.000000   object      14\n",
       "Customer_Rating                         0  0.000000  float64    3857\n",
       "Cancellation_Last_1Month                0  0.000000    int64       9\n",
       "Var1                                46789  0.535374  float64     105\n",
       "Var2                                    0  0.000000    int64      51\n",
       "Var3                                    0  0.000000    int64      94\n",
       "Gender                                  0  0.000000   object       2"
      ]
     },
     "execution_count": 14,
     "metadata": {},
     "output_type": "execute_result"
    }
   ],
   "source": [
    "pd.DataFrame({\"TotalMissing\":test.isna().sum(),\"%Missing\":test.isna().mean(),\"DataType\":test.dtypes,\"Unique\":test.nunique()})"
   ]
  },
  {
   "cell_type": "code",
   "execution_count": null,
   "metadata": {},
   "outputs": [],
   "source": [
    "# EDA"
   ]
  },
  {
   "cell_type": "code",
   "execution_count": null,
   "metadata": {},
   "outputs": [],
   "source": [
    "# As mentioned in problem statement, we are dropping trip id from consideration"
   ]
  },
  {
   "cell_type": "code",
   "execution_count": 19,
   "metadata": {},
   "outputs": [],
   "source": [
    "del train[\"Trip_ID\"]\n",
    "del test[\"Trip_ID\"]"
   ]
  },
  {
   "cell_type": "code",
   "execution_count": null,
   "metadata": {},
   "outputs": [],
   "source": [
    "# Trip distance"
   ]
  },
  {
   "cell_type": "code",
   "execution_count": 16,
   "metadata": {},
   "outputs": [
    {
     "data": {
      "text/plain": [
       "(0.31, 109.23)"
      ]
     },
     "execution_count": 16,
     "metadata": {},
     "output_type": "execute_result"
    }
   ],
   "source": [
    "train[\"Trip_Distance\"].min(),train[\"Trip_Distance\"].max()"
   ]
  },
  {
   "cell_type": "code",
   "execution_count": null,
   "metadata": {},
   "outputs": [],
   "source": [
    "# Type of cab"
   ]
  },
  {
   "cell_type": "code",
   "execution_count": 25,
   "metadata": {},
   "outputs": [
    {
     "data": {
      "image/png": "[encoded data removed]",
      "text/plain": [
       "<Figure size 1080x360 with 1 Axes>"
      ]
     },
     "metadata": {},
     "output_type": "display_data"
    }
   ],
   "source": [
    "plt.figure(figsize=(15,5))\n",
    "sns.countplot(train[\"Type_of_Cab\"])\n",
    "plt.savefig(\"cabtype.png\")"
   ]
  },
  {
   "cell_type": "code",
   "execution_count": null,
   "metadata": {},
   "outputs": [],
   "source": [
    "# People prefer cab b the most"
   ]
  },
  {
   "cell_type": "code",
   "execution_count": null,
   "metadata": {},
   "outputs": [],
   "source": [
    "# Lets fill missing values by mode"
   ]
  },
  {
   "cell_type": "code",
   "execution_count": 20,
   "metadata": {},
   "outputs": [],
   "source": [
    "train[\"Type_of_Cab\"].fillna(train[\"Type_of_Cab\"].mode()[0],inplace=True)"
   ]
  },
  {
   "cell_type": "code",
   "execution_count": null,
   "metadata": {},
   "outputs": [],
   "source": []
  },
  {
   "cell_type": "code",
   "execution_count": null,
   "metadata": {},
   "outputs": [],
   "source": [
    "# Customer_Since_Months"
   ]
  },
  {
   "cell_type": "code",
   "execution_count": 34,
   "metadata": {},
   "outputs": [
    {
     "data": {
      "image/png": "[encoded data removed]",
      "text/plain": [
       "<Figure size 1440x504 with 1 Axes>"
      ]
     },
     "metadata": {},
     "output_type": "display_data"
    }
   ],
   "source": [
    "plt.figure(figsize=(20,7))\n",
    "sns.countplot(train[\"Customer_Since_Months\"])\n",
    "plt.savefig(\"custten.png\")"
   ]
  },
  {
   "cell_type": "code",
   "execution_count": 21,
   "metadata": {},
   "outputs": [],
   "source": [
    "train[\"Customer_Since_Months\"].fillna(train[\"Customer_Since_Months\"].mode()[0],inplace=True)"
   ]
  },
  {
   "cell_type": "code",
   "execution_count": null,
   "metadata": {},
   "outputs": [],
   "source": [
    "# Life_Style_Index"
   ]
  },
  {
   "cell_type": "code",
   "execution_count": 36,
   "metadata": {},
   "outputs": [
    {
     "data": {
      "text/plain": [
       "(1.59638, 4.87511)"
      ]
     },
     "execution_count": 36,
     "metadata": {},
     "output_type": "execute_result"
    }
   ],
   "source": [
    "train[\"Life_Style_Index\"].min(),train[\"Life_Style_Index\"].max()"
   ]
  },
  {
   "cell_type": "code",
   "execution_count": 22,
   "metadata": {},
   "outputs": [],
   "source": [
    "train[\"Life_Style_Index\"].fillna(train[\"Life_Style_Index\"].mean(),inplace=True)"
   ]
  },
  {
   "cell_type": "code",
   "execution_count": null,
   "metadata": {},
   "outputs": [],
   "source": [
    "# Confidence_Life_Style_Index"
   ]
  },
  {
   "cell_type": "code",
   "execution_count": 9,
   "metadata": {},
   "outputs": [
    {
     "data": {
      "image/png": "[encoded data removed]",
      "text/plain": [
       "<Figure size 720x360 with 1 Axes>"
      ]
     },
     "metadata": {
      "needs_background": "light"
     },
     "output_type": "display_data"
    }
   ],
   "source": [
    "plt.figure(figsize=(10,5))\n",
    "sns.countplot(train[\"Confidence_Life_Style_Index\"])\n",
    "plt.savefig(\"con.png\")"
   ]
  },
  {
   "cell_type": "code",
   "execution_count": null,
   "metadata": {},
   "outputs": [],
   "source": [
    "# Imputting mean values inplace of nan"
   ]
  },
  {
   "cell_type": "code",
   "execution_count": 23,
   "metadata": {},
   "outputs": [],
   "source": [
    "train[\"Confidence_Life_Style_Index\"].fillna(train[\"Confidence_Life_Style_Index\"].mode()[0],inplace=True)"
   ]
  },
  {
   "cell_type": "code",
   "execution_count": null,
   "metadata": {},
   "outputs": [],
   "source": [
    "# Destination_Type"
   ]
  },
  {
   "cell_type": "code",
   "execution_count": 14,
   "metadata": {},
   "outputs": [
    {
     "data": {
      "image/png": "[encoded data removed]",
      "text/plain": [
       "<Figure size 1440x504 with 1 Axes>"
      ]
     },
     "metadata": {
      "needs_background": "light"
     },
     "output_type": "display_data"
    }
   ],
   "source": [
    "plt.figure(figsize=(20,7))\n",
    "sns.countplot(train[\"Destination_Type\"])\n",
    "plt.savefig(\"dest.png\")"
   ]
  },
  {
   "cell_type": "code",
   "execution_count": null,
   "metadata": {},
   "outputs": [],
   "source": [
    "# Customer_Rating"
   ]
  },
  {
   "cell_type": "code",
   "execution_count": 15,
   "metadata": {},
   "outputs": [
    {
     "data": {
      "text/plain": [
       "(0.00125, 5.0)"
      ]
     },
     "execution_count": 15,
     "metadata": {},
     "output_type": "execute_result"
    }
   ],
   "source": [
    "train[\"Customer_Rating\"].min(),train[\"Customer_Rating\"].max()"
   ]
  },
  {
   "cell_type": "code",
   "execution_count": null,
   "metadata": {},
   "outputs": [],
   "source": [
    "# Cancellation_Last_1Month"
   ]
  },
  {
   "cell_type": "code",
   "execution_count": 18,
   "metadata": {},
   "outputs": [
    {
     "data": {
      "image/png": "[encoded data removed]",
      "text/plain": [
       "<Figure size 1440x504 with 1 Axes>"
      ]
     },
     "metadata": {
      "needs_background": "light"
     },
     "output_type": "display_data"
    }
   ],
   "source": [
    "plt.figure(figsize=(20,7))\n",
    "sns.countplot(train[\"Cancellation_Last_1Month\"])\n",
    "plt.savefig(\"can.png\")"
   ]
  },
  {
   "cell_type": "code",
   "execution_count": null,
   "metadata": {},
   "outputs": [],
   "source": [
    "# Var1"
   ]
  },
  {
   "cell_type": "code",
   "execution_count": 24,
   "metadata": {},
   "outputs": [],
   "source": [
    "train[\"Var1\"].fillna(train[\"Var1\"].mean(),inplace=True)"
   ]
  },
  {
   "cell_type": "code",
   "execution_count": null,
   "metadata": {},
   "outputs": [],
   "source": [
    "# Gender"
   ]
  },
  {
   "cell_type": "code",
   "execution_count": 21,
   "metadata": {},
   "outputs": [
    {
     "data": {
      "image/png": "[encoded data removed]",
      "text/plain": [
       "<Figure size 432x288 with 1 Axes>"
      ]
     },
     "metadata": {
      "needs_background": "light"
     },
     "output_type": "display_data"
    }
   ],
   "source": [
    "sns.countplot(train[\"Gender\"])\n",
    "plt.savefig(\"gen.png\")"
   ]
  },
  {
   "cell_type": "code",
   "execution_count": null,
   "metadata": {},
   "outputs": [],
   "source": [
    "# Surge_Pricing_Type"
   ]
  },
  {
   "cell_type": "code",
   "execution_count": 23,
   "metadata": {},
   "outputs": [
    {
     "data": {
      "image/png": "[encoded data removed]",
      "text/plain": [
       "<Figure size 432x288 with 1 Axes>"
      ]
     },
     "metadata": {
      "needs_background": "light"
     },
     "output_type": "display_data"
    }
   ],
   "source": [
    "sns.countplot(train[\"Surge_Pricing_Type\"])\n",
    "plt.savefig(\"tar.png\")"
   ]
  },
  {
   "cell_type": "code",
   "execution_count": null,
   "metadata": {},
   "outputs": [],
   "source": [
    "# Bivariate analysis"
   ]
  },
  {
   "cell_type": "code",
   "execution_count": 25,
   "metadata": {},
   "outputs": [],
   "source": [
    "train['Distance'] = 'na'\n",
    "train.loc[(train.Trip_Distance >= 0) & (train.Trip_Distance <= 20), 'Distance'] = 'Under20'\n",
    "train.loc[(train.Trip_Distance >= 20.00001) & (train.Trip_Distance <= 40), 'Distance'] = 'Under40'\n",
    "train.loc[(train.Trip_Distance >= 40.00001) & (train.Trip_Distance <= 60), 'Distance'] = 'Under60'\n",
    "train.loc[(train.Trip_Distance >= 60.00001) & (train.Trip_Distance <= 80), 'Distance'] = 'Under80'\n",
    "train.loc[(train.Trip_Distance >= 80.00001) & (train.Trip_Distance <= 100), 'Distance'] = 'Under100'\n",
    "train.loc[(train.Trip_Distance >= 100.00001) & (train.Trip_Distance <= 120), 'Distance'] = 'Under120'"
   ]
  },
  {
   "cell_type": "code",
   "execution_count": 26,
   "metadata": {},
   "outputs": [
    {
     "data": {
      "text/plain": [
       "<matplotlib.axes._subplots.AxesSubplot at 0x1fb738cf0f0>"
      ]
     },
     "execution_count": 26,
     "metadata": {},
     "output_type": "execute_result"
    },
    {
     "data": {
      "image/png": "[encoded data removed]",
      "text/plain": [
       "<Figure size 432x288 with 1 Axes>"
      ]
     },
     "metadata": {
      "needs_background": "light"
     },
     "output_type": "display_data"
    }
   ],
   "source": [
    "sns.countplot(x=train[\"Distance\"],hue=train[\"Surge_Pricing_Type\"],data=train)"
   ]
  },
  {
   "cell_type": "code",
   "execution_count": null,
   "metadata": {},
   "outputs": [],
   "source": [
    "# Type_of_Cab"
   ]
  },
  {
   "cell_type": "code",
   "execution_count": 28,
   "metadata": {},
   "outputs": [
    {
     "data": {
      "text/plain": [
       "<matplotlib.axes._subplots.AxesSubplot at 0x2a910e10518>"
      ]
     },
     "execution_count": 28,
     "metadata": {},
     "output_type": "execute_result"
    },
    {
     "data": {
      "image/png": "[encoded data removed]",
      "text/plain": [
       "<Figure size 432x288 with 1 Axes>"
      ]
     },
     "metadata": {
      "needs_background": "light"
     },
     "output_type": "display_data"
    }
   ],
   "source": [
    "sns.countplot(x=train[\"Type_of_Cab\"],hue=train[\"Surge_Pricing_Type\"],data=train)"
   ]
  },
  {
   "cell_type": "code",
   "execution_count": null,
   "metadata": {},
   "outputs": [],
   "source": [
    "# Customer_Since_Months"
   ]
  },
  {
   "cell_type": "code",
   "execution_count": 8,
   "metadata": {},
   "outputs": [
    {
     "data": {
      "text/plain": [
       "<matplotlib.axes._subplots.AxesSubplot at 0x1fb71eafa58>"
      ]
     },
     "execution_count": 8,
     "metadata": {},
     "output_type": "execute_result"
    },
    {
     "data": {
      "image/png": "[encoded data removed]",
      "text/plain": [
       "<Figure size 432x288 with 1 Axes>"
      ]
     },
     "metadata": {
      "needs_background": "light"
     },
     "output_type": "display_data"
    }
   ],
   "source": [
    "sns.countplot(x=train[\"Customer_Since_Months\"],hue=train[\"Surge_Pricing_Type\"],data=train)"
   ]
  },
  {
   "cell_type": "code",
   "execution_count": null,
   "metadata": {},
   "outputs": [],
   "source": [
    "# Life_Style_Index"
   ]
  },
  {
   "cell_type": "code",
   "execution_count": 27,
   "metadata": {},
   "outputs": [],
   "source": [
    "train['Lifestyle'] = 'na'\n",
    "train.loc[(train.Life_Style_Index >= 1.5) & (train.Life_Style_Index <= 2.0), 'Lifestyle'] = 'Under2'\n",
    "train.loc[(train.Life_Style_Index >= 2.00001) & (train.Life_Style_Index <= 2.5), 'Lifestyle'] = 'Under2.5'\n",
    "train.loc[(train.Life_Style_Index >= 2.500001) & (train.Life_Style_Index <= 3.0), 'Lifestyle'] = 'Under3'\n",
    "train.loc[(train.Life_Style_Index >= 3.00001) & (train.Life_Style_Index <= 3.5), 'Lifestyle'] = 'Under3.5'\n",
    "train.loc[(train.Life_Style_Index >= 3.500001) & (train.Life_Style_Index <= 4.0), 'Lifestyle'] = 'Under4'\n",
    "train.loc[(train.Life_Style_Index >= 4.00001) & (train.Life_Style_Index <= 4.5), 'Lifestyle'] = 'Under4.5'\n",
    "train.loc[(train.Life_Style_Index >= 4.500001) & (train.Life_Style_Index <= 5), 'Lifestyle'] = 'Under5'"
   ]
  },
  {
   "cell_type": "code",
   "execution_count": 28,
   "metadata": {},
   "outputs": [
    {
     "data": {
      "text/plain": [
       "<matplotlib.axes._subplots.AxesSubplot at 0x1fb738ec390>"
      ]
     },
     "execution_count": 28,
     "metadata": {},
     "output_type": "execute_result"
    },
    {
     "data": {
      "image/png": "[encoded data removed]",
      "text/plain": [
       "<Figure size 432x288 with 1 Axes>"
      ]
     },
     "metadata": {
      "needs_background": "light"
     },
     "output_type": "display_data"
    }
   ],
   "source": [
    "sns.countplot(x=train[\"Lifestyle\"],hue=train[\"Surge_Pricing_Type\"],data=train)"
   ]
  },
  {
   "cell_type": "code",
   "execution_count": null,
   "metadata": {},
   "outputs": [],
   "source": [
    "# Customer_Rating"
   ]
  },
  {
   "cell_type": "code",
   "execution_count": 29,
   "metadata": {},
   "outputs": [
    {
     "data": {
      "text/plain": [
       "(0.00125, 5.0)"
      ]
     },
     "execution_count": 29,
     "metadata": {},
     "output_type": "execute_result"
    }
   ],
   "source": [
    "train.Customer_Rating.min(),train.Customer_Rating.max()"
   ]
  },
  {
   "cell_type": "code",
   "execution_count": 30,
   "metadata": {},
   "outputs": [],
   "source": [
    "train['Custrating'] = 'na'\n",
    "train.loc[(train.Customer_Rating >= 0.00001) & (train.Customer_Rating <= 1.0), 'Custrating'] = 'Under1'\n",
    "train.loc[(train.Customer_Rating >= 1.00001) & (train.Customer_Rating <= 2.0), 'Custrating'] = 'Under2'\n",
    "train.loc[(train.Customer_Rating >= 2.00001) & (train.Customer_Rating <= 3.0), 'Custrating'] = 'Under3'\n",
    "train.loc[(train.Customer_Rating >= 3.00001) & (train.Customer_Rating <= 4.0), 'Custrating'] = 'Under4'\n",
    "train.loc[(train.Customer_Rating >= 4.00001) & (train.Customer_Rating <= 5.0), 'Custrating'] = 'Under5'"
   ]
  },
  {
   "cell_type": "code",
   "execution_count": 31,
   "metadata": {},
   "outputs": [
    {
     "data": {
      "text/plain": [
       "<matplotlib.axes._subplots.AxesSubplot at 0x1fb74800dd8>"
      ]
     },
     "execution_count": 31,
     "metadata": {},
     "output_type": "execute_result"
    },
    {
     "data": {
      "image/png": "[encoded data removed]",
      "text/plain": [
       "<Figure size 432x288 with 1 Axes>"
      ]
     },
     "metadata": {
      "needs_background": "light"
     },
     "output_type": "display_data"
    }
   ],
   "source": [
    "sns.countplot(x=train[\"Custrating\"],hue=train[\"Surge_Pricing_Type\"],data=train)"
   ]
  },
  {
   "cell_type": "code",
   "execution_count": 34,
   "metadata": {},
   "outputs": [
    {
     "data": {
      "text/plain": [
       "(30.0, 210.0)"
      ]
     },
     "execution_count": 34,
     "metadata": {},
     "output_type": "execute_result"
    }
   ],
   "source": [
    "train[\"Var1\"].min(),train[\"Var1\"].max()"
   ]
  },
  {
   "cell_type": "code",
   "execution_count": 35,
   "metadata": {},
   "outputs": [],
   "source": [
    "train['Variable1'] = 'na'\n",
    "train.loc[(train.Var1 >= 30.0) & (train.Var1 <= 60.0), 'Variable1'] = 'Under60'\n",
    "train.loc[(train.Var1 >= 60.00001) & (train.Var1 <= 90.0), 'Variable1'] = 'Under90'\n",
    "train.loc[(train.Var1 >= 90.00001) & (train.Var1 <= 120.0), 'Variable1'] = 'Under120'\n",
    "train.loc[(train.Var1 >= 120.00001) & (train.Var1 <= 150.0), 'Variable1'] = 'Under150'\n",
    "train.loc[(train.Var1 >= 150.00001) & (train.Var1 <= 180.0), 'Variable1'] = 'Under180'\n",
    "train.loc[(train.Var1 >= 180.00001) & (train.Var1 <= 210.0), 'Variable1'] = 'Under210'"
   ]
  },
  {
   "cell_type": "code",
   "execution_count": 38,
   "metadata": {},
   "outputs": [
    {
     "data": {
      "text/plain": [
       "<matplotlib.axes._subplots.AxesSubplot at 0x1fb723f0588>"
      ]
     },
     "execution_count": 38,
     "metadata": {},
     "output_type": "execute_result"
    },
    {
     "data": {
      "image/png": "[encoded data removed]",
      "text/plain": [
       "<Figure size 432x288 with 1 Axes>"
      ]
     },
     "metadata": {
      "needs_background": "light"
     },
     "output_type": "display_data"
    }
   ],
   "source": [
    "sns.countplot(x=train[\"Variable1\"],hue=train[\"Surge_Pricing_Type\"],data=train)"
   ]
  },
  {
   "cell_type": "code",
   "execution_count": null,
   "metadata": {},
   "outputs": [],
   "source": [
    "# Var2"
   ]
  },
  {
   "cell_type": "code",
   "execution_count": 39,
   "metadata": {},
   "outputs": [
    {
     "data": {
      "text/plain": [
       "(40, 124)"
      ]
     },
     "execution_count": 39,
     "metadata": {},
     "output_type": "execute_result"
    }
   ],
   "source": [
    "train[\"Var2\"].min(),train[\"Var2\"].max()"
   ]
  },
  {
   "cell_type": "code",
   "execution_count": 40,
   "metadata": {},
   "outputs": [],
   "source": [
    "train['Variable2'] = 'na'\n",
    "train.loc[(train.Var2 >= 40.0) & (train.Var2 <= 82.0), 'Variable2'] = 'Under82'\n",
    "train.loc[(train.Var2 >= 82.00001) & (train.Var2 <= 124.0), 'Variable2'] = 'Under124'"
   ]
  },
  {
   "cell_type": "code",
   "execution_count": 43,
   "metadata": {},
   "outputs": [
    {
     "data": {
      "text/plain": [
       "<matplotlib.axes._subplots.AxesSubplot at 0x1fb728bd630>"
      ]
     },
     "execution_count": 43,
     "metadata": {},
     "output_type": "execute_result"
    },
    {
     "data": {
      "image/png": "[encoded data removed]",
      "text/plain": [
       "<Figure size 432x288 with 1 Axes>"
      ]
     },
     "metadata": {
      "needs_background": "light"
     },
     "output_type": "display_data"
    }
   ],
   "source": [
    "sns.countplot(x=train[\"Variable2\"],hue=train[\"Surge_Pricing_Type\"],data=train)"
   ]
  },
  {
   "cell_type": "code",
   "execution_count": null,
   "metadata": {},
   "outputs": [],
   "source": [
    "# Var3"
   ]
  },
  {
   "cell_type": "code",
   "execution_count": 45,
   "metadata": {},
   "outputs": [
    {
     "data": {
      "text/plain": [
       "(52, 206)"
      ]
     },
     "execution_count": 45,
     "metadata": {},
     "output_type": "execute_result"
    }
   ],
   "source": [
    "train[\"Var3\"].min(),train[\"Var3\"].max()"
   ]
  },
  {
   "cell_type": "code",
   "execution_count": 46,
   "metadata": {},
   "outputs": [],
   "source": [
    "train['Variable3'] = 'na'\n",
    "train.loc[(train.Var3 >= 52.0) & (train.Var3 <= 82.8), 'Variable3'] = 'Under82'\n",
    "train.loc[(train.Var3 >= 82.800001) & (train.Var3 <= 113.6), 'Variable3'] = 'Under113'\n",
    "train.loc[(train.Var3 >= 113.600001) & (train.Var3 <= 144.4), 'Variable3'] = 'Under144'\n",
    "train.loc[(train.Var3 >= 144.400001) & (train.Var3 <= 175.2), 'Variable3'] = 'Under175'\n",
    "train.loc[(train.Var3 >= 175.200001) & (train.Var3 <= 206.0), 'Variable3'] = 'Under206'"
   ]
  },
  {
   "cell_type": "code",
   "execution_count": 47,
   "metadata": {},
   "outputs": [
    {
     "data": {
      "text/plain": [
       "<matplotlib.axes._subplots.AxesSubplot at 0x1fb72d36160>"
      ]
     },
     "execution_count": 47,
     "metadata": {},
     "output_type": "execute_result"
    },
    {
     "data": {
      "image/png": "[encoded data removed]",
      "text/plain": [
       "<Figure size 432x288 with 1 Axes>"
      ]
     },
     "metadata": {
      "needs_background": "light"
     },
     "output_type": "display_data"
    }
   ],
   "source": [
    "sns.countplot(x=train[\"Variable3\"],hue=train[\"Surge_Pricing_Type\"],data=train)"
   ]
  },
  {
   "cell_type": "code",
   "execution_count": null,
   "metadata": {},
   "outputs": [],
   "source": [
    "# Lets see the training dataset"
   ]
  },
  {
   "cell_type": "code",
   "execution_count": 48,
   "metadata": {},
   "outputs": [
    {
     "data": {
      "text/html": [
       "<div>\n",
       "<style scoped>\n",
       "    .dataframe tbody tr th:only-of-type {\n",
       "        vertical-align: middle;\n",
       "    }\n",
       "\n",
       "    .dataframe tbody tr th {\n",
       "        vertical-align: top;\n",
       "    }\n",
       "\n",
       "    .dataframe thead th {\n",
       "        text-align: right;\n",
       "    }\n",
       "</style>\n",
       "<table border=\"1\" class=\"dataframe\">\n",
       "  <thead>\n",
       "    <tr style=\"text-align: right;\">\n",
       "      <th></th>\n",
       "      <th>Trip_Distance</th>\n",
       "      <th>Type_of_Cab</th>\n",
       "      <th>Customer_Since_Months</th>\n",
       "      <th>Life_Style_Index</th>\n",
       "      <th>Confidence_Life_Style_Index</th>\n",
       "      <th>Destination_Type</th>\n",
       "      <th>Customer_Rating</th>\n",
       "      <th>Cancellation_Last_1Month</th>\n",
       "      <th>Var1</th>\n",
       "      <th>Var2</th>\n",
       "      <th>Var3</th>\n",
       "      <th>Gender</th>\n",
       "      <th>Surge_Pricing_Type</th>\n",
       "      <th>Distance</th>\n",
       "      <th>Lifestyle</th>\n",
       "      <th>Custrating</th>\n",
       "      <th>Variable1</th>\n",
       "      <th>Variable2</th>\n",
       "      <th>Variable3</th>\n",
       "    </tr>\n",
       "  </thead>\n",
       "  <tbody>\n",
       "    <tr>\n",
       "      <th>0</th>\n",
       "      <td>6.77</td>\n",
       "      <td>B</td>\n",
       "      <td>1.0</td>\n",
       "      <td>2.427690</td>\n",
       "      <td>A</td>\n",
       "      <td>A</td>\n",
       "      <td>3.90500</td>\n",
       "      <td>0</td>\n",
       "      <td>40.000000</td>\n",
       "      <td>46</td>\n",
       "      <td>60</td>\n",
       "      <td>Female</td>\n",
       "      <td>2</td>\n",
       "      <td>Under20</td>\n",
       "      <td>Under2.5</td>\n",
       "      <td>Under4</td>\n",
       "      <td>Under60</td>\n",
       "      <td>Under82</td>\n",
       "      <td>Under82</td>\n",
       "    </tr>\n",
       "    <tr>\n",
       "      <th>1</th>\n",
       "      <td>29.47</td>\n",
       "      <td>B</td>\n",
       "      <td>10.0</td>\n",
       "      <td>2.782450</td>\n",
       "      <td>B</td>\n",
       "      <td>A</td>\n",
       "      <td>3.45000</td>\n",
       "      <td>0</td>\n",
       "      <td>38.000000</td>\n",
       "      <td>56</td>\n",
       "      <td>78</td>\n",
       "      <td>Male</td>\n",
       "      <td>2</td>\n",
       "      <td>Under40</td>\n",
       "      <td>Under3</td>\n",
       "      <td>Under4</td>\n",
       "      <td>Under60</td>\n",
       "      <td>Under82</td>\n",
       "      <td>Under82</td>\n",
       "    </tr>\n",
       "    <tr>\n",
       "      <th>2</th>\n",
       "      <td>41.58</td>\n",
       "      <td>B</td>\n",
       "      <td>10.0</td>\n",
       "      <td>2.802064</td>\n",
       "      <td>B</td>\n",
       "      <td>E</td>\n",
       "      <td>3.50125</td>\n",
       "      <td>2</td>\n",
       "      <td>64.202698</td>\n",
       "      <td>56</td>\n",
       "      <td>77</td>\n",
       "      <td>Male</td>\n",
       "      <td>2</td>\n",
       "      <td>Under60</td>\n",
       "      <td>Under3</td>\n",
       "      <td>Under4</td>\n",
       "      <td>Under90</td>\n",
       "      <td>Under82</td>\n",
       "      <td>Under82</td>\n",
       "    </tr>\n",
       "    <tr>\n",
       "      <th>3</th>\n",
       "      <td>61.56</td>\n",
       "      <td>C</td>\n",
       "      <td>10.0</td>\n",
       "      <td>2.802064</td>\n",
       "      <td>B</td>\n",
       "      <td>A</td>\n",
       "      <td>3.45375</td>\n",
       "      <td>0</td>\n",
       "      <td>64.202698</td>\n",
       "      <td>52</td>\n",
       "      <td>74</td>\n",
       "      <td>Male</td>\n",
       "      <td>3</td>\n",
       "      <td>Under80</td>\n",
       "      <td>Under3</td>\n",
       "      <td>Under4</td>\n",
       "      <td>Under90</td>\n",
       "      <td>Under82</td>\n",
       "      <td>Under82</td>\n",
       "    </tr>\n",
       "    <tr>\n",
       "      <th>4</th>\n",
       "      <td>54.95</td>\n",
       "      <td>C</td>\n",
       "      <td>10.0</td>\n",
       "      <td>3.034530</td>\n",
       "      <td>B</td>\n",
       "      <td>A</td>\n",
       "      <td>3.40250</td>\n",
       "      <td>4</td>\n",
       "      <td>51.000000</td>\n",
       "      <td>49</td>\n",
       "      <td>102</td>\n",
       "      <td>Male</td>\n",
       "      <td>2</td>\n",
       "      <td>Under60</td>\n",
       "      <td>Under3.5</td>\n",
       "      <td>Under4</td>\n",
       "      <td>Under60</td>\n",
       "      <td>Under82</td>\n",
       "      <td>Under113</td>\n",
       "    </tr>\n",
       "  </tbody>\n",
       "</table>\n",
       "</div>"
      ],
      "text/plain": [
       "   Trip_Distance Type_of_Cab  Customer_Since_Months  Life_Style_Index  \\\n",
       "0           6.77           B                    1.0          2.427690   \n",
       "1          29.47           B                   10.0          2.782450   \n",
       "2          41.58           B                   10.0          2.802064   \n",
       "3          61.56           C                   10.0          2.802064   \n",
       "4          54.95           C                   10.0          3.034530   \n",
       "\n",
       "  Confidence_Life_Style_Index Destination_Type  Customer_Rating  \\\n",
       "0                           A                A          3.90500   \n",
       "1                           B                A          3.45000   \n",
       "2                           B                E          3.50125   \n",
       "3                           B                A          3.45375   \n",
       "4                           B                A          3.40250   \n",
       "\n",
       "   Cancellation_Last_1Month       Var1  Var2  Var3  Gender  \\\n",
       "0                         0  40.000000    46    60  Female   \n",
       "1                         0  38.000000    56    78    Male   \n",
       "2                         2  64.202698    56    77    Male   \n",
       "3                         0  64.202698    52    74    Male   \n",
       "4                         4  51.000000    49   102    Male   \n",
       "\n",
       "   Surge_Pricing_Type Distance Lifestyle Custrating Variable1 Variable2  \\\n",
       "0                   2  Under20  Under2.5     Under4   Under60   Under82   \n",
       "1                   2  Under40    Under3     Under4   Under60   Under82   \n",
       "2                   2  Under60    Under3     Under4   Under90   Under82   \n",
       "3                   3  Under80    Under3     Under4   Under90   Under82   \n",
       "4                   2  Under60  Under3.5     Under4   Under60   Under82   \n",
       "\n",
       "  Variable3  \n",
       "0   Under82  \n",
       "1   Under82  \n",
       "2   Under82  \n",
       "3   Under82  \n",
       "4  Under113  "
      ]
     },
     "execution_count": 48,
     "metadata": {},
     "output_type": "execute_result"
    }
   ],
   "source": [
    "train.head(5)"
   ]
  },
  {
   "cell_type": "code",
   "execution_count": null,
   "metadata": {},
   "outputs": [],
   "source": [
    "# Encoding all categorical variables"
   ]
  },
  {
   "cell_type": "code",
   "execution_count": 49,
   "metadata": {},
   "outputs": [],
   "source": [
    "le=LabelEncoder()"
   ]
  },
  {
   "cell_type": "code",
   "execution_count": 50,
   "metadata": {},
   "outputs": [],
   "source": [
    "train[\"Type_of_Cab\"]=le.fit_transform(train[\"Type_of_Cab\"])\n",
    "train[\"Confidence_Life_Style_Index\"]=le.fit_transform(train[\"Confidence_Life_Style_Index\"])\n",
    "train[\"Destination_Type\"]=le.fit_transform(train[\"Destination_Type\"])\n",
    "train[\"Gender\"]=le.fit_transform(train[\"Gender\"])\n",
    "train[\"Distance\"]=le.fit_transform(train[\"Distance\"])\n",
    "train[\"Lifestyle\"]=le.fit_transform(train[\"Lifestyle\"])\n",
    "train[\"Custrating\"]=le.fit_transform(train[\"Custrating\"])\n",
    "train[\"Variable1\"]=le.fit_transform(train[\"Variable1\"])\n",
    "train[\"Variable2\"]=le.fit_transform(train[\"Variable2\"])\n",
    "train[\"Variable3\"]=le.fit_transform(train[\"Variable3\"])"
   ]
  },
  {
   "cell_type": "code",
   "execution_count": null,
   "metadata": {},
   "outputs": [],
   "source": [
    "# Lets check again train dataset"
   ]
  },
  {
   "cell_type": "code",
   "execution_count": 51,
   "metadata": {},
   "outputs": [
    {
     "data": {
      "text/html": [
       "<div>\n",
       "<style scoped>\n",
       "    .dataframe tbody tr th:only-of-type {\n",
       "        vertical-align: middle;\n",
       "    }\n",
       "\n",
       "    .dataframe tbody tr th {\n",
       "        vertical-align: top;\n",
       "    }\n",
       "\n",
       "    .dataframe thead th {\n",
       "        text-align: right;\n",
       "    }\n",
       "</style>\n",
       "<table border=\"1\" class=\"dataframe\">\n",
       "  <thead>\n",
       "    <tr style=\"text-align: right;\">\n",
       "      <th></th>\n",
       "      <th>Trip_Distance</th>\n",
       "      <th>Type_of_Cab</th>\n",
       "      <th>Customer_Since_Months</th>\n",
       "      <th>Life_Style_Index</th>\n",
       "      <th>Confidence_Life_Style_Index</th>\n",
       "      <th>Destination_Type</th>\n",
       "      <th>Customer_Rating</th>\n",
       "      <th>Cancellation_Last_1Month</th>\n",
       "      <th>Var1</th>\n",
       "      <th>Var2</th>\n",
       "      <th>Var3</th>\n",
       "      <th>Gender</th>\n",
       "      <th>Surge_Pricing_Type</th>\n",
       "      <th>Distance</th>\n",
       "      <th>Lifestyle</th>\n",
       "      <th>Custrating</th>\n",
       "      <th>Variable1</th>\n",
       "      <th>Variable2</th>\n",
       "      <th>Variable3</th>\n",
       "    </tr>\n",
       "  </thead>\n",
       "  <tbody>\n",
       "    <tr>\n",
       "      <th>0</th>\n",
       "      <td>6.77</td>\n",
       "      <td>1</td>\n",
       "      <td>1.0</td>\n",
       "      <td>2.427690</td>\n",
       "      <td>0</td>\n",
       "      <td>0</td>\n",
       "      <td>3.90500</td>\n",
       "      <td>0</td>\n",
       "      <td>40.000000</td>\n",
       "      <td>46</td>\n",
       "      <td>60</td>\n",
       "      <td>0</td>\n",
       "      <td>2</td>\n",
       "      <td>2</td>\n",
       "      <td>1</td>\n",
       "      <td>3</td>\n",
       "      <td>4</td>\n",
       "      <td>1</td>\n",
       "      <td>4</td>\n",
       "    </tr>\n",
       "    <tr>\n",
       "      <th>1</th>\n",
       "      <td>29.47</td>\n",
       "      <td>1</td>\n",
       "      <td>10.0</td>\n",
       "      <td>2.782450</td>\n",
       "      <td>1</td>\n",
       "      <td>0</td>\n",
       "      <td>3.45000</td>\n",
       "      <td>0</td>\n",
       "      <td>38.000000</td>\n",
       "      <td>56</td>\n",
       "      <td>78</td>\n",
       "      <td>1</td>\n",
       "      <td>2</td>\n",
       "      <td>3</td>\n",
       "      <td>2</td>\n",
       "      <td>3</td>\n",
       "      <td>4</td>\n",
       "      <td>1</td>\n",
       "      <td>4</td>\n",
       "    </tr>\n",
       "    <tr>\n",
       "      <th>2</th>\n",
       "      <td>41.58</td>\n",
       "      <td>1</td>\n",
       "      <td>10.0</td>\n",
       "      <td>2.802064</td>\n",
       "      <td>1</td>\n",
       "      <td>4</td>\n",
       "      <td>3.50125</td>\n",
       "      <td>2</td>\n",
       "      <td>64.202698</td>\n",
       "      <td>56</td>\n",
       "      <td>77</td>\n",
       "      <td>1</td>\n",
       "      <td>2</td>\n",
       "      <td>4</td>\n",
       "      <td>2</td>\n",
       "      <td>3</td>\n",
       "      <td>5</td>\n",
       "      <td>1</td>\n",
       "      <td>4</td>\n",
       "    </tr>\n",
       "  </tbody>\n",
       "</table>\n",
       "</div>"
      ],
      "text/plain": [
       "   Trip_Distance  Type_of_Cab  Customer_Since_Months  Life_Style_Index  \\\n",
       "0           6.77            1                    1.0          2.427690   \n",
       "1          29.47            1                   10.0          2.782450   \n",
       "2          41.58            1                   10.0          2.802064   \n",
       "\n",
       "   Confidence_Life_Style_Index  Destination_Type  Customer_Rating  \\\n",
       "0                            0                 0          3.90500   \n",
       "1                            1                 0          3.45000   \n",
       "2                            1                 4          3.50125   \n",
       "\n",
       "   Cancellation_Last_1Month       Var1  Var2  Var3  Gender  \\\n",
       "0                         0  40.000000    46    60       0   \n",
       "1                         0  38.000000    56    78       1   \n",
       "2                         2  64.202698    56    77       1   \n",
       "\n",
       "   Surge_Pricing_Type  Distance  Lifestyle  Custrating  Variable1  Variable2  \\\n",
       "0                   2         2          1           3          4          1   \n",
       "1                   2         3          2           3          4          1   \n",
       "2                   2         4          2           3          5          1   \n",
       "\n",
       "   Variable3  \n",
       "0          4  \n",
       "1          4  \n",
       "2          4  "
      ]
     },
     "execution_count": 51,
     "metadata": {},
     "output_type": "execute_result"
    }
   ],
   "source": [
    "train.head(3)"
   ]
  },
  {
   "cell_type": "code",
   "execution_count": null,
   "metadata": {},
   "outputs": [],
   "source": [
    "# Lets process test dataset"
   ]
  },
  {
   "cell_type": "code",
   "execution_count": 53,
   "metadata": {},
   "outputs": [
    {
     "data": {
      "text/plain": [
       "Trip_Distance                      0\n",
       "Type_of_Cab                    13158\n",
       "Customer_Since_Months           3966\n",
       "Life_Style_Index               13327\n",
       "Confidence_Life_Style_Index    13327\n",
       "Destination_Type                   0\n",
       "Customer_Rating                    0\n",
       "Cancellation_Last_1Month           0\n",
       "Var1                           46789\n",
       "Var2                               0\n",
       "Var3                               0\n",
       "Gender                             0\n",
       "dtype: int64"
      ]
     },
     "execution_count": 53,
     "metadata": {},
     "output_type": "execute_result"
    }
   ],
   "source": [
    "test.isna().sum()"
   ]
  },
  {
   "cell_type": "code",
   "execution_count": 54,
   "metadata": {},
   "outputs": [],
   "source": [
    "test[\"Type_of_Cab\"].fillna(test[\"Type_of_Cab\"].mode()[0],inplace=True)\n",
    "test[\"Customer_Since_Months\"].fillna(test[\"Customer_Since_Months\"].mode()[0],inplace=True)\n",
    "test[\"Life_Style_Index\"].fillna(test[\"Life_Style_Index\"].mean(),inplace=True)\n",
    "test[\"Confidence_Life_Style_Index\"].fillna(test[\"Confidence_Life_Style_Index\"].mode()[0],inplace=True)\n",
    "test[\"Var1\"].fillna(test[\"Var1\"].mean(),inplace=True)"
   ]
  },
  {
   "cell_type": "code",
   "execution_count": 55,
   "metadata": {},
   "outputs": [
    {
     "data": {
      "text/plain": [
       "(1.55, 109.23)"
      ]
     },
     "execution_count": 55,
     "metadata": {},
     "output_type": "execute_result"
    }
   ],
   "source": [
    "test.Trip_Distance.min(),test.Trip_Distance.max()"
   ]
  },
  {
   "cell_type": "code",
   "execution_count": 56,
   "metadata": {},
   "outputs": [],
   "source": [
    "test['Distance'] = 'na'\n",
    "test.loc[(test.Trip_Distance >= 0) & (test.Trip_Distance <= 20), 'Distance'] = 'Under20'\n",
    "test.loc[(test.Trip_Distance >= 20.00001) & (test.Trip_Distance <= 40), 'Distance'] = 'Under40'\n",
    "test.loc[(test.Trip_Distance >= 40.00001) & (test.Trip_Distance <= 60), 'Distance'] = 'Under60'\n",
    "test.loc[(test.Trip_Distance >= 60.00001) & (test.Trip_Distance <= 80), 'Distance'] = 'Under80'\n",
    "test.loc[(test.Trip_Distance >= 80.00001) & (test.Trip_Distance <= 100), 'Distance'] = 'Under100'\n",
    "test.loc[(test.Trip_Distance >= 100.00001) & (test.Trip_Distance <= 120), 'Distance'] = 'Under120'"
   ]
  },
  {
   "cell_type": "code",
   "execution_count": 57,
   "metadata": {},
   "outputs": [
    {
     "data": {
      "text/plain": [
       "(1.59638, 4.87511)"
      ]
     },
     "execution_count": 57,
     "metadata": {},
     "output_type": "execute_result"
    }
   ],
   "source": [
    "train.Life_Style_Index.min(),train.Life_Style_Index.max()"
   ]
  },
  {
   "cell_type": "code",
   "execution_count": 58,
   "metadata": {},
   "outputs": [],
   "source": [
    "test['Lifestyle'] = 'na'\n",
    "test.loc[(test.Life_Style_Index >= 1.5) & (test.Life_Style_Index <= 2.0), 'Lifestyle'] = 'Under2'\n",
    "test.loc[(test.Life_Style_Index >= 2.00001) & (test.Life_Style_Index <= 2.5), 'Lifestyle'] = 'Under2.5'\n",
    "test.loc[(test.Life_Style_Index >= 2.500001) & (test.Life_Style_Index <= 3.0), 'Lifestyle'] = 'Under3'\n",
    "test.loc[(test.Life_Style_Index >= 3.00001) & (test.Life_Style_Index <= 3.5), 'Lifestyle'] = 'Under3.5'\n",
    "test.loc[(test.Life_Style_Index >= 3.500001) & (test.Life_Style_Index <= 4.0), 'Lifestyle'] = 'Under4'\n",
    "test.loc[(test.Life_Style_Index >= 4.00001) & (test.Life_Style_Index <= 4.5), 'Lifestyle'] = 'Under4.5'\n",
    "test.loc[(test.Life_Style_Index >= 4.500001) & (test.Life_Style_Index <= 5), 'Lifestyle'] = 'Under5'"
   ]
  },
  {
   "cell_type": "code",
   "execution_count": 59,
   "metadata": {},
   "outputs": [
    {
     "data": {
      "text/plain": [
       "(0.00125, 5.0)"
      ]
     },
     "execution_count": 59,
     "metadata": {},
     "output_type": "execute_result"
    }
   ],
   "source": [
    "test[\"Customer_Rating\"].min(),test[\"Customer_Rating\"].max()"
   ]
  },
  {
   "cell_type": "code",
   "execution_count": 60,
   "metadata": {},
   "outputs": [],
   "source": [
    "test['Custrating'] = 'na'\n",
    "test.loc[(test.Customer_Rating >= 0.00001) & (test.Customer_Rating <= 1.0), 'Custrating'] = 'Under1'\n",
    "test.loc[(test.Customer_Rating >= 1.00001) & (test.Customer_Rating <= 2.0), 'Custrating'] = 'Under2'\n",
    "test.loc[(test.Customer_Rating >= 2.00001) & (test.Customer_Rating <= 3.0), 'Custrating'] = 'Under3'\n",
    "test.loc[(test.Customer_Rating >= 3.00001) & (test.Customer_Rating <= 4.0), 'Custrating'] = 'Under4'\n",
    "test.loc[(test.Customer_Rating >= 4.00001) & (test.Customer_Rating <= 5.0), 'Custrating'] = 'Under5'"
   ]
  },
  {
   "cell_type": "code",
   "execution_count": 61,
   "metadata": {},
   "outputs": [
    {
     "data": {
      "text/plain": [
       "(30.0, 178.0)"
      ]
     },
     "execution_count": 61,
     "metadata": {},
     "output_type": "execute_result"
    }
   ],
   "source": [
    "test[\"Var1\"].min(),test[\"Var1\"].max()"
   ]
  },
  {
   "cell_type": "code",
   "execution_count": 63,
   "metadata": {},
   "outputs": [],
   "source": [
    "test['Variable1'] = 'na'\n",
    "test.loc[(test.Var1 >= 30.0) & (test.Var1 <= 60.0), 'Variable1'] = 'Under60'\n",
    "test.loc[(test.Var1 >= 60.00001) & (test.Var1 <= 90.0), 'Variable1'] = 'Under90'\n",
    "test.loc[(test.Var1 >= 90.00001) & (test.Var1 <= 120.0), 'Variable1'] = 'Under120'\n",
    "test.loc[(test.Var1 >= 120.00001) & (test.Var1 <= 150.0), 'Variable1'] = 'Under150'\n",
    "test.loc[(test.Var1 >= 150.00001) & (test.Var1 <= 180.0), 'Variable1'] = 'Under180'\n",
    "test.loc[(test.Var1 >= 180.00001) & (test.Var1 <= 210.0), 'Variable1'] = 'Under210'"
   ]
  },
  {
   "cell_type": "code",
   "execution_count": 64,
   "metadata": {},
   "outputs": [
    {
     "data": {
      "text/plain": [
       "(41, 116)"
      ]
     },
     "execution_count": 64,
     "metadata": {},
     "output_type": "execute_result"
    }
   ],
   "source": [
    "test[\"Var2\"].min(),test[\"Var2\"].max()"
   ]
  },
  {
   "cell_type": "code",
   "execution_count": 65,
   "metadata": {},
   "outputs": [],
   "source": [
    "test['Variable2'] = 'na'\n",
    "test.loc[(test.Var2 >= 40.0) & (test.Var2 <= 82.0), 'Variable2'] = 'Under82'\n",
    "test.loc[(test.Var2 >= 82.00001) & (test.Var2 <= 124.0), 'Variable2'] = 'Under124'"
   ]
  },
  {
   "cell_type": "code",
   "execution_count": 66,
   "metadata": {},
   "outputs": [],
   "source": [
    "test['Variable3'] = 'na'\n",
    "test.loc[(test.Var3 >= 52.0) & (test.Var3 <= 82.8), 'Variable3'] = 'Under82'\n",
    "test.loc[(test.Var3 >= 82.800001) & (test.Var3 <= 113.6), 'Variable3'] = 'Under113'\n",
    "test.loc[(test.Var3 >= 113.600001) & (test.Var3 <= 144.4), 'Variable3'] = 'Under144'\n",
    "test.loc[(test.Var3 >= 144.400001) & (test.Var3 <= 175.2), 'Variable3'] = 'Under175'\n",
    "test.loc[(test.Var3 >= 175.200001) & (test.Var3 <= 206.0), 'Variable3'] = 'Under206'"
   ]
  },
  {
   "cell_type": "code",
   "execution_count": null,
   "metadata": {},
   "outputs": [],
   "source": [
    "# encoding"
   ]
  },
  {
   "cell_type": "code",
   "execution_count": 67,
   "metadata": {},
   "outputs": [],
   "source": [
    "test[\"Type_of_Cab\"]=le.fit_transform(test[\"Type_of_Cab\"])\n",
    "test[\"Confidence_Life_Style_Index\"]=le.fit_transform(test[\"Confidence_Life_Style_Index\"])\n",
    "test[\"Destination_Type\"]=le.fit_transform(test[\"Destination_Type\"])\n",
    "test[\"Gender\"]=le.fit_transform(test[\"Gender\"])\n",
    "test[\"Distance\"]=le.fit_transform(test[\"Distance\"])\n",
    "test[\"Lifestyle\"]=le.fit_transform(test[\"Lifestyle\"])\n",
    "test[\"Custrating\"]=le.fit_transform(test[\"Custrating\"])\n",
    "test[\"Variable1\"]=le.fit_transform(test[\"Variable1\"])\n",
    "test[\"Variable2\"]=le.fit_transform(test[\"Variable2\"])\n",
    "test[\"Variable3\"]=le.fit_transform(test[\"Variable3\"])"
   ]
  },
  {
   "cell_type": "code",
   "execution_count": null,
   "metadata": {},
   "outputs": [],
   "source": [
    "# Test data"
   ]
  },
  {
   "cell_type": "code",
   "execution_count": 68,
   "metadata": {},
   "outputs": [
    {
     "data": {
      "text/html": [
       "<div>\n",
       "<style scoped>\n",
       "    .dataframe tbody tr th:only-of-type {\n",
       "        vertical-align: middle;\n",
       "    }\n",
       "\n",
       "    .dataframe tbody tr th {\n",
       "        vertical-align: top;\n",
       "    }\n",
       "\n",
       "    .dataframe thead th {\n",
       "        text-align: right;\n",
       "    }\n",
       "</style>\n",
       "<table border=\"1\" class=\"dataframe\">\n",
       "  <thead>\n",
       "    <tr style=\"text-align: right;\">\n",
       "      <th></th>\n",
       "      <th>Trip_Distance</th>\n",
       "      <th>Type_of_Cab</th>\n",
       "      <th>Customer_Since_Months</th>\n",
       "      <th>Life_Style_Index</th>\n",
       "      <th>Confidence_Life_Style_Index</th>\n",
       "      <th>Destination_Type</th>\n",
       "      <th>Customer_Rating</th>\n",
       "      <th>Cancellation_Last_1Month</th>\n",
       "      <th>Var1</th>\n",
       "      <th>Var2</th>\n",
       "      <th>Var3</th>\n",
       "      <th>Gender</th>\n",
       "      <th>Distance</th>\n",
       "      <th>Lifestyle</th>\n",
       "      <th>Custrating</th>\n",
       "      <th>Variable1</th>\n",
       "      <th>Variable2</th>\n",
       "      <th>Variable3</th>\n",
       "    </tr>\n",
       "  </thead>\n",
       "  <tbody>\n",
       "    <tr>\n",
       "      <th>0</th>\n",
       "      <td>9.44</td>\n",
       "      <td>0</td>\n",
       "      <td>10.0</td>\n",
       "      <td>2.57438</td>\n",
       "      <td>0</td>\n",
       "      <td>1</td>\n",
       "      <td>3.68000</td>\n",
       "      <td>2</td>\n",
       "      <td>63.93661</td>\n",
       "      <td>46</td>\n",
       "      <td>63</td>\n",
       "      <td>1</td>\n",
       "      <td>2</td>\n",
       "      <td>2</td>\n",
       "      <td>3</td>\n",
       "      <td>4</td>\n",
       "      <td>1</td>\n",
       "      <td>3</td>\n",
       "    </tr>\n",
       "    <tr>\n",
       "      <th>1</th>\n",
       "      <td>32.15</td>\n",
       "      <td>1</td>\n",
       "      <td>10.0</td>\n",
       "      <td>2.85143</td>\n",
       "      <td>0</td>\n",
       "      <td>0</td>\n",
       "      <td>1.59375</td>\n",
       "      <td>0</td>\n",
       "      <td>65.00000</td>\n",
       "      <td>49</td>\n",
       "      <td>80</td>\n",
       "      <td>0</td>\n",
       "      <td>3</td>\n",
       "      <td>2</td>\n",
       "      <td>1</td>\n",
       "      <td>4</td>\n",
       "      <td>1</td>\n",
       "      <td>3</td>\n",
       "    </tr>\n",
       "    <tr>\n",
       "      <th>2</th>\n",
       "      <td>10.38</td>\n",
       "      <td>2</td>\n",
       "      <td>4.0</td>\n",
       "      <td>2.70530</td>\n",
       "      <td>0</td>\n",
       "      <td>3</td>\n",
       "      <td>4.50500</td>\n",
       "      <td>0</td>\n",
       "      <td>63.93661</td>\n",
       "      <td>47</td>\n",
       "      <td>74</td>\n",
       "      <td>1</td>\n",
       "      <td>2</td>\n",
       "      <td>2</td>\n",
       "      <td>4</td>\n",
       "      <td>4</td>\n",
       "      <td>1</td>\n",
       "      <td>3</td>\n",
       "    </tr>\n",
       "  </tbody>\n",
       "</table>\n",
       "</div>"
      ],
      "text/plain": [
       "   Trip_Distance  Type_of_Cab  Customer_Since_Months  Life_Style_Index  \\\n",
       "0           9.44            0                   10.0           2.57438   \n",
       "1          32.15            1                   10.0           2.85143   \n",
       "2          10.38            2                    4.0           2.70530   \n",
       "\n",
       "   Confidence_Life_Style_Index  Destination_Type  Customer_Rating  \\\n",
       "0                            0                 1          3.68000   \n",
       "1                            0                 0          1.59375   \n",
       "2                            0                 3          4.50500   \n",
       "\n",
       "   Cancellation_Last_1Month      Var1  Var2  Var3  Gender  Distance  \\\n",
       "0                         2  63.93661    46    63       1         2   \n",
       "1                         0  65.00000    49    80       0         3   \n",
       "2                         0  63.93661    47    74       1         2   \n",
       "\n",
       "   Lifestyle  Custrating  Variable1  Variable2  Variable3  \n",
       "0          2           3          4          1          3  \n",
       "1          2           1          4          1          3  \n",
       "2          2           4          4          1          3  "
      ]
     },
     "execution_count": 68,
     "metadata": {},
     "output_type": "execute_result"
    }
   ],
   "source": [
    "test.head(3)"
   ]
  },
  {
   "cell_type": "code",
   "execution_count": 69,
   "metadata": {},
   "outputs": [],
   "source": [
    "y=train[\"Surge_Pricing_Type\"]\n",
    "x=train.drop(\"Surge_Pricing_Type\",axis=1)"
   ]
  },
  {
   "cell_type": "code",
   "execution_count": 71,
   "metadata": {},
   "outputs": [
    {
     "name": "stderr",
     "output_type": "stream",
     "text": [
      "c:\\users\\acer\\appdata\\local\\programs\\python\\python36\\lib\\site-packages\\sklearn\\ensemble\\forest.py:245: FutureWarning: The default value of n_estimators will change from 10 in version 0.20 to 100 in 0.22.\n",
      "  \"10 in version 0.20 to 100 in 0.22.\", FutureWarning)\n"
     ]
    },
    {
     "name": "stdout",
     "output_type": "stream",
     "text": [
      "[8.82048218e-02 2.48884512e-01 6.11253767e-02 7.92609418e-02\n",
      " 2.81257716e-02 4.71069329e-02 8.34249071e-02 3.86307853e-02\n",
      " 5.34996422e-02 7.49311528e-02 7.82774751e-02 2.39016503e-02\n",
      " 2.80584138e-02 1.67328208e-02 2.21246726e-02 1.81240688e-02\n",
      " 8.19969559e-05 9.50405772e-03]\n"
     ]
    },
    {
     "data": {
      "image/png": "[encoded data removed]",
      "text/plain": [
       "<Figure size 864x360 with 1 Axes>"
      ]
     },
     "metadata": {
      "needs_background": "light"
     },
     "output_type": "display_data"
    }
   ],
   "source": [
    "fig=plt.figure(figsize=(12,5))\n",
    "model = ExtraTreesClassifier()\n",
    "model.fit(x,y)\n",
    "print(model.feature_importances_)\n",
    "#plot graph of feature importances for better visualization\n",
    "feat_importances = pd.Series(model.feature_importances_, index=x.columns)\n",
    "feat_importances.nlargest(19).plot(kind='bar')\n",
    "plt.show()"
   ]
  },
  {
   "cell_type": "code",
   "execution_count": 72,
   "metadata": {},
   "outputs": [],
   "source": [
    "x_train,x_test,y_train,y_test=train_test_split(x,y,test_size=0.3,random_state=0)"
   ]
  },
  {
   "cell_type": "code",
   "execution_count": 73,
   "metadata": {},
   "outputs": [
    {
     "name": "stderr",
     "output_type": "stream",
     "text": [
      "c:\\users\\acer\\appdata\\local\\programs\\python\\python36\\lib\\site-packages\\sklearn\\ensemble\\forest.py:245: FutureWarning: The default value of n_estimators will change from 10 in version 0.20 to 100 in 0.22.\n",
      "  \"10 in version 0.20 to 100 in 0.22.\", FutureWarning)\n"
     ]
    },
    {
     "name": "stdout",
     "output_type": "stream",
     "text": [
      "accuracy score is 0.6430036203448188\n"
     ]
    }
   ],
   "source": [
    "etc=ExtraTreesClassifier()\n",
    "etc.fit(x_train,y_train)\n",
    "prediction=etc.predict(x_test)\n",
    "print(\"accuracy score is {}\".format(accuracy_score(y_test,prediction)))"
   ]
  },
  {
   "cell_type": "code",
   "execution_count": 74,
   "metadata": {},
   "outputs": [
    {
     "name": "stdout",
     "output_type": "stream",
     "text": [
      "accuracy score is 0.5198106281171675\n"
     ]
    }
   ],
   "source": [
    "mn=MultinomialNB()\n",
    "mn.fit(x_train,y_train)\n",
    "prediction=mn.predict(x_test)\n",
    "print(\"accuracy score is {}\".format(accuracy_score(y_test,prediction)))"
   ]
  },
  {
   "cell_type": "code",
   "execution_count": 75,
   "metadata": {},
   "outputs": [
    {
     "name": "stdout",
     "output_type": "stream",
     "text": [
      "accuracy score is 0.48568318185270515\n"
     ]
    }
   ],
   "source": [
    "cnb=ComplementNB()\n",
    "cnb.fit(x_train,y_train)\n",
    "prediction=cnb.predict(x_test)\n",
    "print(\"accuracy score is {}\".format(accuracy_score(y_test,prediction)))"
   ]
  },
  {
   "cell_type": "code",
   "execution_count": 76,
   "metadata": {},
   "outputs": [
    {
     "name": "stderr",
     "output_type": "stream",
     "text": [
      "c:\\users\\acer\\appdata\\local\\programs\\python\\python36\\lib\\site-packages\\sklearn\\linear_model\\logistic.py:432: FutureWarning: Default solver will be changed to 'lbfgs' in 0.22. Specify a solver to silence this warning.\n",
      "  FutureWarning)\n",
      "c:\\users\\acer\\appdata\\local\\programs\\python\\python36\\lib\\site-packages\\sklearn\\linear_model\\logistic.py:469: FutureWarning: Default multi_class will be changed to 'auto' in 0.22. Specify the multi_class option to silence this warning.\n",
      "  \"this warning.\", FutureWarning)\n"
     ]
    },
    {
     "name": "stdout",
     "output_type": "stream",
     "text": [
      "accuracy score is 0.6280665333299578\n"
     ]
    }
   ],
   "source": [
    "lr=LogisticRegression()\n",
    "lr.fit(x_train,y_train)\n",
    "prediction=lr.predict(x_test)\n",
    "print(\"accuracy score is {}\".format(accuracy_score(y_test,prediction)))"
   ]
  },
  {
   "cell_type": "code",
   "execution_count": 77,
   "metadata": {},
   "outputs": [
    {
     "name": "stdout",
     "output_type": "stream",
     "text": [
      "accuracy score is 0.6494341628901997\n"
     ]
    }
   ],
   "source": [
    "bc=BaggingClassifier()\n",
    "bc.fit(x_train,y_train)\n",
    "prediction=bc.predict(x_test)\n",
    "print(\"accuracy score is {}\".format(accuracy_score(y_test,prediction)))"
   ]
  },
  {
   "cell_type": "code",
   "execution_count": 78,
   "metadata": {},
   "outputs": [
    {
     "name": "stderr",
     "output_type": "stream",
     "text": [
      "c:\\users\\acer\\appdata\\local\\programs\\python\\python36\\lib\\site-packages\\sklearn\\ensemble\\forest.py:245: FutureWarning: The default value of n_estimators will change from 10 in version 0.20 to 100 in 0.22.\n",
      "  \"10 in version 0.20 to 100 in 0.22.\", FutureWarning)\n"
     ]
    },
    {
     "name": "stdout",
     "output_type": "stream",
     "text": [
      "accuracy score is 0.6524975315830781\n"
     ]
    }
   ],
   "source": [
    "rf=RandomForestClassifier()\n",
    "rf.fit(x_train,y_train)\n",
    "prediction=rf.predict(x_test)\n",
    "print(\"accuracy score is {}\".format(accuracy_score(y_test,prediction)))"
   ]
  },
  {
   "cell_type": "code",
   "execution_count": 79,
   "metadata": {},
   "outputs": [
    {
     "name": "stdout",
     "output_type": "stream",
     "text": [
      "accuracy score is 0.5654320362540823\n"
     ]
    }
   ],
   "source": [
    "dt=DecisionTreeClassifier(criterion=\"entropy\")\n",
    "dt.fit(x_train,y_train)\n",
    "prediction=dt.predict(x_test)\n",
    "print(\"accuracy score is {}\".format(accuracy_score(y_test,prediction)))"
   ]
  },
  {
   "cell_type": "code",
   "execution_count": 80,
   "metadata": {},
   "outputs": [
    {
     "name": "stdout",
     "output_type": "stream",
     "text": [
      "accuracy score is 0.6928529836198385\n"
     ]
    }
   ],
   "source": [
    "xgb=XGBClassifier()\n",
    "prediction= xgb.fit(x_train,y_train).predict(x_test)\n",
    "print(\"accuracy score is {}\".format(accuracy_score(y_test,prediction)))"
   ]
  },
  {
   "cell_type": "code",
   "execution_count": 81,
   "metadata": {},
   "outputs": [],
   "source": [
    "import catboost as cb"
   ]
  },
  {
   "cell_type": "code",
   "execution_count": 82,
   "metadata": {},
   "outputs": [
    {
     "name": "stdout",
     "output_type": "stream",
     "text": [
      "Learning rate set to 0.099659\n",
      "0:\tlearn: 1.0414795\ttotal: 128ms\tremaining: 2m 8s\n",
      "1:\tlearn: 0.9973109\ttotal: 173ms\tremaining: 1m 26s\n",
      "2:\tlearn: 0.9605929\ttotal: 226ms\tremaining: 1m 15s\n",
      "3:\tlearn: 0.9306964\ttotal: 287ms\tremaining: 1m 11s\n",
      "4:\tlearn: 0.9065757\ttotal: 337ms\tremaining: 1m 7s\n",
      "5:\tlearn: 0.8860366\ttotal: 385ms\tremaining: 1m 3s\n",
      "6:\tlearn: 0.8694632\ttotal: 432ms\tremaining: 1m 1s\n",
      "7:\tlearn: 0.8555908\ttotal: 482ms\tremaining: 59.8s\n",
      "8:\tlearn: 0.8441067\ttotal: 528ms\tremaining: 58.2s\n",
      "9:\tlearn: 0.8332612\ttotal: 576ms\tremaining: 57s\n",
      "10:\tlearn: 0.8245787\ttotal: 629ms\tremaining: 56.5s\n",
      "11:\tlearn: 0.8171400\ttotal: 673ms\tremaining: 55.4s\n",
      "12:\tlearn: 0.8099914\ttotal: 721ms\tremaining: 54.7s\n",
      "13:\tlearn: 0.8040721\ttotal: 764ms\tremaining: 53.8s\n",
      "14:\tlearn: 0.7991039\ttotal: 833ms\tremaining: 54.7s\n",
      "15:\tlearn: 0.7948620\ttotal: 899ms\tremaining: 55.3s\n",
      "16:\tlearn: 0.7909376\ttotal: 966ms\tremaining: 55.8s\n",
      "17:\tlearn: 0.7867456\ttotal: 1.02s\tremaining: 55.9s\n",
      "18:\tlearn: 0.7830963\ttotal: 1.07s\tremaining: 55.5s\n",
      "19:\tlearn: 0.7796746\ttotal: 1.13s\tremaining: 55.2s\n",
      "20:\tlearn: 0.7764954\ttotal: 1.2s\tremaining: 55.9s\n",
      "21:\tlearn: 0.7741930\ttotal: 1.26s\tremaining: 56.1s\n",
      "22:\tlearn: 0.7720102\ttotal: 1.31s\tremaining: 55.8s\n",
      "23:\tlearn: 0.7697019\ttotal: 1.36s\tremaining: 55.3s\n",
      "24:\tlearn: 0.7674026\ttotal: 1.41s\tremaining: 55s\n",
      "25:\tlearn: 0.7654715\ttotal: 1.47s\tremaining: 55.2s\n",
      "26:\tlearn: 0.7635917\ttotal: 1.53s\tremaining: 55s\n",
      "27:\tlearn: 0.7617695\ttotal: 1.58s\tremaining: 54.8s\n",
      "28:\tlearn: 0.7600958\ttotal: 1.63s\tremaining: 54.7s\n",
      "29:\tlearn: 0.7588862\ttotal: 1.68s\tremaining: 54.5s\n",
      "30:\tlearn: 0.7573036\ttotal: 1.73s\tremaining: 54.1s\n",
      "31:\tlearn: 0.7559033\ttotal: 1.8s\tremaining: 54.3s\n",
      "32:\tlearn: 0.7546218\ttotal: 1.84s\tremaining: 54.1s\n",
      "33:\tlearn: 0.7536962\ttotal: 1.9s\tremaining: 54s\n",
      "34:\tlearn: 0.7528244\ttotal: 1.95s\tremaining: 53.9s\n",
      "35:\tlearn: 0.7514006\ttotal: 2.01s\tremaining: 53.8s\n",
      "36:\tlearn: 0.7504178\ttotal: 2.07s\tremaining: 53.8s\n",
      "37:\tlearn: 0.7495506\ttotal: 2.12s\tremaining: 53.6s\n",
      "38:\tlearn: 0.7487128\ttotal: 2.16s\tremaining: 53.3s\n",
      "39:\tlearn: 0.7478414\ttotal: 2.21s\tremaining: 53s\n",
      "40:\tlearn: 0.7470567\ttotal: 2.25s\tremaining: 52.8s\n",
      "41:\tlearn: 0.7463807\ttotal: 2.31s\tremaining: 52.6s\n",
      "42:\tlearn: 0.7455691\ttotal: 2.35s\tremaining: 52.3s\n",
      "43:\tlearn: 0.7448836\ttotal: 2.4s\tremaining: 52.1s\n",
      "44:\tlearn: 0.7442310\ttotal: 2.45s\tremaining: 51.9s\n",
      "45:\tlearn: 0.7436600\ttotal: 2.5s\tremaining: 51.8s\n",
      "46:\tlearn: 0.7429238\ttotal: 2.55s\tremaining: 51.7s\n",
      "47:\tlearn: 0.7422770\ttotal: 2.6s\tremaining: 51.6s\n",
      "48:\tlearn: 0.7415838\ttotal: 2.67s\tremaining: 51.7s\n",
      "49:\tlearn: 0.7409821\ttotal: 2.72s\tremaining: 51.7s\n",
      "50:\tlearn: 0.7404086\ttotal: 2.77s\tremaining: 51.5s\n",
      "51:\tlearn: 0.7397504\ttotal: 2.83s\tremaining: 51.5s\n",
      "52:\tlearn: 0.7392433\ttotal: 2.88s\tremaining: 51.4s\n",
      "53:\tlearn: 0.7388326\ttotal: 2.93s\tremaining: 51.3s\n",
      "54:\tlearn: 0.7381149\ttotal: 2.98s\tremaining: 51.1s\n",
      "55:\tlearn: 0.7376634\ttotal: 3.03s\tremaining: 51s\n",
      "56:\tlearn: 0.7371841\ttotal: 3.08s\tremaining: 50.9s\n",
      "57:\tlearn: 0.7367616\ttotal: 3.13s\tremaining: 50.8s\n",
      "58:\tlearn: 0.7362893\ttotal: 3.18s\tremaining: 50.7s\n",
      "59:\tlearn: 0.7359238\ttotal: 3.22s\tremaining: 50.5s\n",
      "60:\tlearn: 0.7354733\ttotal: 3.26s\tremaining: 50.2s\n",
      "61:\tlearn: 0.7349370\ttotal: 3.31s\tremaining: 50s\n",
      "62:\tlearn: 0.7345686\ttotal: 3.35s\tremaining: 49.9s\n",
      "63:\tlearn: 0.7341934\ttotal: 3.39s\tremaining: 49.6s\n",
      "64:\tlearn: 0.7339343\ttotal: 3.44s\tremaining: 49.4s\n",
      "65:\tlearn: 0.7336427\ttotal: 3.49s\tremaining: 49.4s\n",
      "66:\tlearn: 0.7332778\ttotal: 3.53s\tremaining: 49.2s\n",
      "67:\tlearn: 0.7329787\ttotal: 3.58s\tremaining: 49s\n",
      "68:\tlearn: 0.7324627\ttotal: 3.62s\tremaining: 48.9s\n",
      "69:\tlearn: 0.7320656\ttotal: 3.66s\tremaining: 48.7s\n",
      "70:\tlearn: 0.7317998\ttotal: 3.71s\tremaining: 48.5s\n",
      "71:\tlearn: 0.7313846\ttotal: 3.76s\tremaining: 48.5s\n",
      "72:\tlearn: 0.7311105\ttotal: 3.82s\tremaining: 48.5s\n",
      "73:\tlearn: 0.7307728\ttotal: 3.86s\tremaining: 48.3s\n",
      "74:\tlearn: 0.7302803\ttotal: 3.91s\tremaining: 48.2s\n",
      "75:\tlearn: 0.7299898\ttotal: 3.95s\tremaining: 48s\n",
      "76:\tlearn: 0.7297532\ttotal: 3.99s\tremaining: 47.9s\n",
      "77:\tlearn: 0.7295612\ttotal: 4.04s\tremaining: 47.7s\n",
      "78:\tlearn: 0.7292314\ttotal: 4.08s\tremaining: 47.6s\n",
      "79:\tlearn: 0.7288432\ttotal: 4.13s\tremaining: 47.5s\n",
      "80:\tlearn: 0.7286547\ttotal: 4.17s\tremaining: 47.3s\n",
      "81:\tlearn: 0.7284346\ttotal: 4.21s\tremaining: 47.1s\n",
      "82:\tlearn: 0.7282411\ttotal: 4.25s\tremaining: 47s\n",
      "83:\tlearn: 0.7278946\ttotal: 4.3s\tremaining: 46.9s\n",
      "84:\tlearn: 0.7276696\ttotal: 4.35s\tremaining: 46.8s\n",
      "85:\tlearn: 0.7274354\ttotal: 4.4s\tremaining: 46.7s\n",
      "86:\tlearn: 0.7271723\ttotal: 4.44s\tremaining: 46.6s\n",
      "87:\tlearn: 0.7268593\ttotal: 4.49s\tremaining: 46.5s\n",
      "88:\tlearn: 0.7266142\ttotal: 4.55s\tremaining: 46.6s\n",
      "89:\tlearn: 0.7263010\ttotal: 4.6s\tremaining: 46.5s\n",
      "90:\tlearn: 0.7261467\ttotal: 4.64s\tremaining: 46.4s\n",
      "91:\tlearn: 0.7259581\ttotal: 4.68s\tremaining: 46.2s\n",
      "92:\tlearn: 0.7257148\ttotal: 4.72s\tremaining: 46.1s\n",
      "93:\tlearn: 0.7255705\ttotal: 4.77s\tremaining: 46s\n",
      "94:\tlearn: 0.7252960\ttotal: 4.81s\tremaining: 45.8s\n",
      "95:\tlearn: 0.7251235\ttotal: 4.85s\tremaining: 45.7s\n",
      "96:\tlearn: 0.7249521\ttotal: 4.9s\tremaining: 45.6s\n",
      "97:\tlearn: 0.7247567\ttotal: 4.94s\tremaining: 45.5s\n",
      "98:\tlearn: 0.7246015\ttotal: 4.98s\tremaining: 45.3s\n",
      "99:\tlearn: 0.7243633\ttotal: 5.02s\tremaining: 45.2s\n",
      "100:\tlearn: 0.7241909\ttotal: 5.07s\tremaining: 45.1s\n",
      "101:\tlearn: 0.7240196\ttotal: 5.12s\tremaining: 45s\n",
      "102:\tlearn: 0.7237891\ttotal: 5.16s\tremaining: 45s\n",
      "103:\tlearn: 0.7236347\ttotal: 5.21s\tremaining: 44.9s\n",
      "104:\tlearn: 0.7234372\ttotal: 5.25s\tremaining: 44.8s\n",
      "105:\tlearn: 0.7232235\ttotal: 5.31s\tremaining: 44.8s\n",
      "106:\tlearn: 0.7230509\ttotal: 5.37s\tremaining: 44.8s\n",
      "107:\tlearn: 0.7228847\ttotal: 5.42s\tremaining: 44.7s\n",
      "108:\tlearn: 0.7227717\ttotal: 5.46s\tremaining: 44.6s\n",
      "109:\tlearn: 0.7226587\ttotal: 5.5s\tremaining: 44.5s\n",
      "110:\tlearn: 0.7224892\ttotal: 5.55s\tremaining: 44.4s\n",
      "111:\tlearn: 0.7221909\ttotal: 5.59s\tremaining: 44.3s\n",
      "112:\tlearn: 0.7219615\ttotal: 5.63s\tremaining: 44.2s\n",
      "113:\tlearn: 0.7217790\ttotal: 5.67s\tremaining: 44.1s\n",
      "114:\tlearn: 0.7215875\ttotal: 5.72s\tremaining: 44s\n",
      "115:\tlearn: 0.7213703\ttotal: 5.76s\tremaining: 43.9s\n",
      "116:\tlearn: 0.7212183\ttotal: 5.81s\tremaining: 43.8s\n",
      "117:\tlearn: 0.7209929\ttotal: 5.85s\tremaining: 43.8s\n",
      "118:\tlearn: 0.7208686\ttotal: 5.9s\tremaining: 43.7s\n",
      "119:\tlearn: 0.7206572\ttotal: 5.94s\tremaining: 43.6s\n",
      "120:\tlearn: 0.7204582\ttotal: 5.98s\tremaining: 43.5s\n",
      "121:\tlearn: 0.7202766\ttotal: 6.02s\tremaining: 43.3s\n",
      "122:\tlearn: 0.7200499\ttotal: 6.07s\tremaining: 43.3s\n",
      "123:\tlearn: 0.7198931\ttotal: 6.11s\tremaining: 43.2s\n",
      "124:\tlearn: 0.7196604\ttotal: 6.15s\tremaining: 43.1s\n",
      "125:\tlearn: 0.7195203\ttotal: 6.2s\tremaining: 43s\n",
      "126:\tlearn: 0.7193531\ttotal: 6.24s\tremaining: 42.9s\n",
      "127:\tlearn: 0.7192458\ttotal: 6.28s\tremaining: 42.8s\n",
      "128:\tlearn: 0.7190874\ttotal: 6.32s\tremaining: 42.7s\n",
      "129:\tlearn: 0.7189640\ttotal: 6.36s\tremaining: 42.6s\n",
      "130:\tlearn: 0.7188520\ttotal: 6.4s\tremaining: 42.5s\n",
      "131:\tlearn: 0.7186873\ttotal: 6.44s\tremaining: 42.4s\n",
      "132:\tlearn: 0.7185407\ttotal: 6.49s\tremaining: 42.3s\n",
      "133:\tlearn: 0.7184176\ttotal: 6.54s\tremaining: 42.3s\n",
      "134:\tlearn: 0.7182474\ttotal: 6.58s\tremaining: 42.2s\n",
      "135:\tlearn: 0.7180775\ttotal: 6.62s\tremaining: 42.1s\n",
      "136:\tlearn: 0.7180226\ttotal: 6.67s\tremaining: 42s\n",
      "137:\tlearn: 0.7178278\ttotal: 6.71s\tremaining: 41.9s\n",
      "138:\tlearn: 0.7176564\ttotal: 6.76s\tremaining: 41.9s\n",
      "139:\tlearn: 0.7175517\ttotal: 6.8s\tremaining: 41.8s\n",
      "140:\tlearn: 0.7173931\ttotal: 6.84s\tremaining: 41.7s\n",
      "141:\tlearn: 0.7172731\ttotal: 6.89s\tremaining: 41.6s\n",
      "142:\tlearn: 0.7171135\ttotal: 6.93s\tremaining: 41.5s\n",
      "143:\tlearn: 0.7169403\ttotal: 6.98s\tremaining: 41.5s\n",
      "144:\tlearn: 0.7168280\ttotal: 7.03s\tremaining: 41.4s\n",
      "145:\tlearn: 0.7166666\ttotal: 7.07s\tremaining: 41.3s\n",
      "146:\tlearn: 0.7164992\ttotal: 7.11s\tremaining: 41.3s\n",
      "147:\tlearn: 0.7163665\ttotal: 7.16s\tremaining: 41.2s\n",
      "148:\tlearn: 0.7162416\ttotal: 7.2s\tremaining: 41.1s\n",
      "149:\tlearn: 0.7160768\ttotal: 7.25s\tremaining: 41.1s\n",
      "150:\tlearn: 0.7159446\ttotal: 7.29s\tremaining: 41s\n",
      "151:\tlearn: 0.7158462\ttotal: 7.34s\tremaining: 40.9s\n",
      "152:\tlearn: 0.7157424\ttotal: 7.39s\tremaining: 40.9s\n",
      "153:\tlearn: 0.7156568\ttotal: 7.44s\tremaining: 40.9s\n",
      "154:\tlearn: 0.7155019\ttotal: 7.49s\tremaining: 40.8s\n",
      "155:\tlearn: 0.7153274\ttotal: 7.53s\tremaining: 40.8s\n",
      "156:\tlearn: 0.7152321\ttotal: 7.58s\tremaining: 40.7s\n",
      "157:\tlearn: 0.7150892\ttotal: 7.62s\tremaining: 40.6s\n",
      "158:\tlearn: 0.7149295\ttotal: 7.66s\tremaining: 40.5s\n",
      "159:\tlearn: 0.7148257\ttotal: 7.71s\tremaining: 40.5s\n",
      "160:\tlearn: 0.7146931\ttotal: 7.75s\tremaining: 40.4s\n",
      "161:\tlearn: 0.7145749\ttotal: 7.79s\tremaining: 40.3s\n"
     ]
    },
    {
     "name": "stdout",
     "output_type": "stream",
     "text": [
      "162:\tlearn: 0.7144589\ttotal: 7.83s\tremaining: 40.2s\n",
      "163:\tlearn: 0.7142505\ttotal: 7.9s\tremaining: 40.3s\n",
      "164:\tlearn: 0.7141326\ttotal: 7.94s\tremaining: 40.2s\n",
      "165:\tlearn: 0.7139786\ttotal: 7.98s\tremaining: 40.1s\n",
      "166:\tlearn: 0.7138442\ttotal: 8.02s\tremaining: 40s\n",
      "167:\tlearn: 0.7137536\ttotal: 8.06s\tremaining: 39.9s\n",
      "168:\tlearn: 0.7135943\ttotal: 8.11s\tremaining: 39.9s\n",
      "169:\tlearn: 0.7134299\ttotal: 8.16s\tremaining: 39.9s\n",
      "170:\tlearn: 0.7133177\ttotal: 8.22s\tremaining: 39.8s\n",
      "171:\tlearn: 0.7132043\ttotal: 8.27s\tremaining: 39.8s\n",
      "172:\tlearn: 0.7130526\ttotal: 8.32s\tremaining: 39.8s\n",
      "173:\tlearn: 0.7129433\ttotal: 8.36s\tremaining: 39.7s\n",
      "174:\tlearn: 0.7126986\ttotal: 8.41s\tremaining: 39.6s\n",
      "175:\tlearn: 0.7126216\ttotal: 8.45s\tremaining: 39.6s\n",
      "176:\tlearn: 0.7125193\ttotal: 8.5s\tremaining: 39.5s\n",
      "177:\tlearn: 0.7123272\ttotal: 8.55s\tremaining: 39.5s\n",
      "178:\tlearn: 0.7122084\ttotal: 8.6s\tremaining: 39.5s\n",
      "179:\tlearn: 0.7121067\ttotal: 8.66s\tremaining: 39.5s\n",
      "180:\tlearn: 0.7120117\ttotal: 8.72s\tremaining: 39.5s\n",
      "181:\tlearn: 0.7119375\ttotal: 8.77s\tremaining: 39.4s\n",
      "182:\tlearn: 0.7118598\ttotal: 8.82s\tremaining: 39.4s\n",
      "183:\tlearn: 0.7117272\ttotal: 8.87s\tremaining: 39.3s\n",
      "184:\tlearn: 0.7116538\ttotal: 8.91s\tremaining: 39.3s\n",
      "185:\tlearn: 0.7115195\ttotal: 8.96s\tremaining: 39.2s\n",
      "186:\tlearn: 0.7114378\ttotal: 9s\tremaining: 39.1s\n",
      "187:\tlearn: 0.7112656\ttotal: 9.04s\tremaining: 39.1s\n",
      "188:\tlearn: 0.7111731\ttotal: 9.1s\tremaining: 39s\n",
      "189:\tlearn: 0.7110456\ttotal: 9.14s\tremaining: 39s\n",
      "190:\tlearn: 0.7108987\ttotal: 9.19s\tremaining: 38.9s\n",
      "191:\tlearn: 0.7107825\ttotal: 9.24s\tremaining: 38.9s\n",
      "192:\tlearn: 0.7106616\ttotal: 9.28s\tremaining: 38.8s\n",
      "193:\tlearn: 0.7105420\ttotal: 9.33s\tremaining: 38.8s\n",
      "194:\tlearn: 0.7104441\ttotal: 9.37s\tremaining: 38.7s\n",
      "195:\tlearn: 0.7103181\ttotal: 9.43s\tremaining: 38.7s\n",
      "196:\tlearn: 0.7102479\ttotal: 9.47s\tremaining: 38.6s\n",
      "197:\tlearn: 0.7100408\ttotal: 9.52s\tremaining: 38.6s\n",
      "198:\tlearn: 0.7099169\ttotal: 9.58s\tremaining: 38.6s\n",
      "199:\tlearn: 0.7097999\ttotal: 9.63s\tremaining: 38.5s\n",
      "200:\tlearn: 0.7097403\ttotal: 9.67s\tremaining: 38.5s\n",
      "201:\tlearn: 0.7095917\ttotal: 9.72s\tremaining: 38.4s\n",
      "202:\tlearn: 0.7094903\ttotal: 9.77s\tremaining: 38.4s\n",
      "203:\tlearn: 0.7093622\ttotal: 9.82s\tremaining: 38.3s\n",
      "204:\tlearn: 0.7092229\ttotal: 9.87s\tremaining: 38.3s\n",
      "205:\tlearn: 0.7091407\ttotal: 9.91s\tremaining: 38.2s\n",
      "206:\tlearn: 0.7089761\ttotal: 9.95s\tremaining: 38.1s\n",
      "207:\tlearn: 0.7088699\ttotal: 10s\tremaining: 38.1s\n",
      "208:\tlearn: 0.7087930\ttotal: 10.1s\tremaining: 38s\n",
      "209:\tlearn: 0.7087104\ttotal: 10.1s\tremaining: 38s\n",
      "210:\tlearn: 0.7085953\ttotal: 10.1s\tremaining: 37.9s\n",
      "211:\tlearn: 0.7085077\ttotal: 10.2s\tremaining: 37.9s\n",
      "212:\tlearn: 0.7083753\ttotal: 10.2s\tremaining: 37.8s\n",
      "213:\tlearn: 0.7082695\ttotal: 10.3s\tremaining: 37.8s\n",
      "214:\tlearn: 0.7081653\ttotal: 10.3s\tremaining: 37.7s\n",
      "215:\tlearn: 0.7080635\ttotal: 10.4s\tremaining: 37.7s\n",
      "216:\tlearn: 0.7079878\ttotal: 10.4s\tremaining: 37.6s\n",
      "217:\tlearn: 0.7079222\ttotal: 10.5s\tremaining: 37.5s\n",
      "218:\tlearn: 0.7078607\ttotal: 10.5s\tremaining: 37.5s\n",
      "219:\tlearn: 0.7077898\ttotal: 10.6s\tremaining: 37.4s\n",
      "220:\tlearn: 0.7076995\ttotal: 10.6s\tremaining: 37.3s\n",
      "221:\tlearn: 0.7075861\ttotal: 10.6s\tremaining: 37.3s\n",
      "222:\tlearn: 0.7075064\ttotal: 10.7s\tremaining: 37.2s\n",
      "223:\tlearn: 0.7074369\ttotal: 10.7s\tremaining: 37.2s\n",
      "224:\tlearn: 0.7073684\ttotal: 10.8s\tremaining: 37.1s\n",
      "225:\tlearn: 0.7072956\ttotal: 10.8s\tremaining: 37.1s\n",
      "226:\tlearn: 0.7072077\ttotal: 10.9s\tremaining: 37s\n",
      "227:\tlearn: 0.7070593\ttotal: 10.9s\tremaining: 37s\n",
      "228:\tlearn: 0.7069889\ttotal: 11s\tremaining: 36.9s\n",
      "229:\tlearn: 0.7069104\ttotal: 11s\tremaining: 36.8s\n",
      "230:\tlearn: 0.7068101\ttotal: 11s\tremaining: 36.8s\n",
      "231:\tlearn: 0.7067369\ttotal: 11.1s\tremaining: 36.7s\n",
      "232:\tlearn: 0.7066689\ttotal: 11.1s\tremaining: 36.7s\n",
      "233:\tlearn: 0.7065734\ttotal: 11.2s\tremaining: 36.6s\n",
      "234:\tlearn: 0.7064535\ttotal: 11.2s\tremaining: 36.5s\n",
      "235:\tlearn: 0.7063996\ttotal: 11.3s\tremaining: 36.5s\n",
      "236:\tlearn: 0.7062852\ttotal: 11.3s\tremaining: 36.5s\n",
      "237:\tlearn: 0.7062183\ttotal: 11.4s\tremaining: 36.4s\n",
      "238:\tlearn: 0.7061017\ttotal: 11.4s\tremaining: 36.3s\n",
      "239:\tlearn: 0.7060030\ttotal: 11.5s\tremaining: 36.3s\n",
      "240:\tlearn: 0.7059735\ttotal: 11.5s\tremaining: 36.2s\n",
      "241:\tlearn: 0.7058992\ttotal: 11.5s\tremaining: 36.2s\n",
      "242:\tlearn: 0.7058191\ttotal: 11.6s\tremaining: 36.1s\n",
      "243:\tlearn: 0.7057618\ttotal: 11.6s\tremaining: 36.1s\n",
      "244:\tlearn: 0.7056683\ttotal: 11.7s\tremaining: 36s\n",
      "245:\tlearn: 0.7055575\ttotal: 11.7s\tremaining: 36s\n",
      "246:\tlearn: 0.7055099\ttotal: 11.8s\tremaining: 35.9s\n",
      "247:\tlearn: 0.7053860\ttotal: 11.8s\tremaining: 35.9s\n",
      "248:\tlearn: 0.7053040\ttotal: 11.9s\tremaining: 35.9s\n",
      "249:\tlearn: 0.7052465\ttotal: 11.9s\tremaining: 35.8s\n",
      "250:\tlearn: 0.7051133\ttotal: 12s\tremaining: 35.7s\n",
      "251:\tlearn: 0.7050419\ttotal: 12s\tremaining: 35.7s\n",
      "252:\tlearn: 0.7049140\ttotal: 12.1s\tremaining: 35.6s\n",
      "253:\tlearn: 0.7048074\ttotal: 12.1s\tremaining: 35.6s\n",
      "254:\tlearn: 0.7047758\ttotal: 12.1s\tremaining: 35.5s\n",
      "255:\tlearn: 0.7046833\ttotal: 12.2s\tremaining: 35.4s\n",
      "256:\tlearn: 0.7045980\ttotal: 12.2s\tremaining: 35.4s\n",
      "257:\tlearn: 0.7045106\ttotal: 12.3s\tremaining: 35.3s\n",
      "258:\tlearn: 0.7044442\ttotal: 12.3s\tremaining: 35.3s\n",
      "259:\tlearn: 0.7043855\ttotal: 12.4s\tremaining: 35.2s\n",
      "260:\tlearn: 0.7043076\ttotal: 12.4s\tremaining: 35.1s\n",
      "261:\tlearn: 0.7042568\ttotal: 12.5s\tremaining: 35.1s\n",
      "262:\tlearn: 0.7042116\ttotal: 12.5s\tremaining: 35.1s\n",
      "263:\tlearn: 0.7040995\ttotal: 12.6s\tremaining: 35s\n",
      "264:\tlearn: 0.7040132\ttotal: 12.6s\tremaining: 35s\n",
      "265:\tlearn: 0.7039377\ttotal: 12.7s\tremaining: 34.9s\n",
      "266:\tlearn: 0.7038828\ttotal: 12.7s\tremaining: 34.9s\n",
      "267:\tlearn: 0.7037919\ttotal: 12.7s\tremaining: 34.8s\n",
      "268:\tlearn: 0.7037073\ttotal: 12.8s\tremaining: 34.8s\n",
      "269:\tlearn: 0.7036442\ttotal: 12.8s\tremaining: 34.7s\n",
      "270:\tlearn: 0.7035685\ttotal: 12.9s\tremaining: 34.7s\n",
      "271:\tlearn: 0.7035454\ttotal: 12.9s\tremaining: 34.6s\n",
      "272:\tlearn: 0.7034490\ttotal: 13s\tremaining: 34.6s\n",
      "273:\tlearn: 0.7033768\ttotal: 13s\tremaining: 34.5s\n",
      "274:\tlearn: 0.7032945\ttotal: 13.1s\tremaining: 34.4s\n",
      "275:\tlearn: 0.7032035\ttotal: 13.1s\tremaining: 34.4s\n",
      "276:\tlearn: 0.7031216\ttotal: 13.1s\tremaining: 34.3s\n",
      "277:\tlearn: 0.7030173\ttotal: 13.2s\tremaining: 34.2s\n",
      "278:\tlearn: 0.7029417\ttotal: 13.2s\tremaining: 34.2s\n",
      "279:\tlearn: 0.7028548\ttotal: 13.3s\tremaining: 34.1s\n",
      "280:\tlearn: 0.7027416\ttotal: 13.3s\tremaining: 34.1s\n",
      "281:\tlearn: 0.7026448\ttotal: 13.4s\tremaining: 34s\n",
      "282:\tlearn: 0.7025875\ttotal: 13.4s\tremaining: 34s\n",
      "283:\tlearn: 0.7024796\ttotal: 13.5s\tremaining: 33.9s\n",
      "284:\tlearn: 0.7023977\ttotal: 13.5s\tremaining: 33.9s\n",
      "285:\tlearn: 0.7023117\ttotal: 13.6s\tremaining: 33.9s\n",
      "286:\tlearn: 0.7022106\ttotal: 13.6s\tremaining: 33.8s\n",
      "287:\tlearn: 0.7021186\ttotal: 13.7s\tremaining: 33.8s\n",
      "288:\tlearn: 0.7020581\ttotal: 13.7s\tremaining: 33.7s\n",
      "289:\tlearn: 0.7019487\ttotal: 13.7s\tremaining: 33.6s\n",
      "290:\tlearn: 0.7018951\ttotal: 13.8s\tremaining: 33.6s\n",
      "291:\tlearn: 0.7018170\ttotal: 13.8s\tremaining: 33.6s\n",
      "292:\tlearn: 0.7017092\ttotal: 13.9s\tremaining: 33.5s\n",
      "293:\tlearn: 0.7016185\ttotal: 13.9s\tremaining: 33.4s\n",
      "294:\tlearn: 0.7015554\ttotal: 14s\tremaining: 33.4s\n",
      "295:\tlearn: 0.7014545\ttotal: 14s\tremaining: 33.4s\n",
      "296:\tlearn: 0.7013982\ttotal: 14.1s\tremaining: 33.3s\n",
      "297:\tlearn: 0.7013216\ttotal: 14.1s\tremaining: 33.2s\n",
      "298:\tlearn: 0.7012326\ttotal: 14.2s\tremaining: 33.2s\n",
      "299:\tlearn: 0.7012027\ttotal: 14.2s\tremaining: 33.1s\n",
      "300:\tlearn: 0.7011701\ttotal: 14.2s\tremaining: 33.1s\n",
      "301:\tlearn: 0.7010930\ttotal: 14.3s\tremaining: 33s\n",
      "302:\tlearn: 0.7010608\ttotal: 14.3s\tremaining: 32.9s\n",
      "303:\tlearn: 0.7009975\ttotal: 14.4s\tremaining: 32.9s\n",
      "304:\tlearn: 0.7009051\ttotal: 14.4s\tremaining: 32.8s\n",
      "305:\tlearn: 0.7008203\ttotal: 14.4s\tremaining: 32.8s\n",
      "306:\tlearn: 0.7007092\ttotal: 14.5s\tremaining: 32.7s\n",
      "307:\tlearn: 0.7006364\ttotal: 14.5s\tremaining: 32.7s\n",
      "308:\tlearn: 0.7005675\ttotal: 14.6s\tremaining: 32.6s\n",
      "309:\tlearn: 0.7004468\ttotal: 14.6s\tremaining: 32.6s\n",
      "310:\tlearn: 0.7003785\ttotal: 14.7s\tremaining: 32.6s\n",
      "311:\tlearn: 0.7003358\ttotal: 14.7s\tremaining: 32.5s\n",
      "312:\tlearn: 0.7002890\ttotal: 14.8s\tremaining: 32.5s\n",
      "313:\tlearn: 0.7001743\ttotal: 14.8s\tremaining: 32.4s\n",
      "314:\tlearn: 0.7000900\ttotal: 14.9s\tremaining: 32.4s\n",
      "315:\tlearn: 0.7000175\ttotal: 15s\tremaining: 32.5s\n",
      "316:\tlearn: 0.6999096\ttotal: 15.1s\tremaining: 32.5s\n",
      "317:\tlearn: 0.6998705\ttotal: 15.1s\tremaining: 32.4s\n",
      "318:\tlearn: 0.6997658\ttotal: 15.2s\tremaining: 32.5s\n",
      "319:\tlearn: 0.6996605\ttotal: 15.2s\tremaining: 32.4s\n",
      "320:\tlearn: 0.6995998\ttotal: 15.3s\tremaining: 32.4s\n",
      "321:\tlearn: 0.6995067\ttotal: 15.3s\tremaining: 32.3s\n",
      "322:\tlearn: 0.6994213\ttotal: 15.4s\tremaining: 32.3s\n",
      "323:\tlearn: 0.6993195\ttotal: 15.4s\tremaining: 32.2s\n"
     ]
    },
    {
     "name": "stdout",
     "output_type": "stream",
     "text": [
      "324:\tlearn: 0.6992523\ttotal: 15.5s\tremaining: 32.2s\n",
      "325:\tlearn: 0.6991854\ttotal: 15.6s\tremaining: 32.2s\n",
      "326:\tlearn: 0.6990824\ttotal: 15.6s\tremaining: 32.1s\n",
      "327:\tlearn: 0.6990364\ttotal: 15.7s\tremaining: 32.1s\n",
      "328:\tlearn: 0.6989424\ttotal: 15.7s\tremaining: 32s\n",
      "329:\tlearn: 0.6989039\ttotal: 15.7s\tremaining: 32s\n",
      "330:\tlearn: 0.6988255\ttotal: 15.8s\tremaining: 31.9s\n",
      "331:\tlearn: 0.6987828\ttotal: 15.8s\tremaining: 31.9s\n",
      "332:\tlearn: 0.6986872\ttotal: 15.9s\tremaining: 31.8s\n",
      "333:\tlearn: 0.6985828\ttotal: 15.9s\tremaining: 31.8s\n",
      "334:\tlearn: 0.6984658\ttotal: 16s\tremaining: 31.7s\n",
      "335:\tlearn: 0.6984171\ttotal: 16s\tremaining: 31.7s\n",
      "336:\tlearn: 0.6983218\ttotal: 16.1s\tremaining: 31.7s\n",
      "337:\tlearn: 0.6982547\ttotal: 16.1s\tremaining: 31.6s\n",
      "338:\tlearn: 0.6981889\ttotal: 16.2s\tremaining: 31.6s\n",
      "339:\tlearn: 0.6981263\ttotal: 16.2s\tremaining: 31.5s\n",
      "340:\tlearn: 0.6980778\ttotal: 16.3s\tremaining: 31.5s\n",
      "341:\tlearn: 0.6980017\ttotal: 16.3s\tremaining: 31.4s\n",
      "342:\tlearn: 0.6979666\ttotal: 16.4s\tremaining: 31.4s\n",
      "343:\tlearn: 0.6979427\ttotal: 16.4s\tremaining: 31.3s\n",
      "344:\tlearn: 0.6978671\ttotal: 16.5s\tremaining: 31.3s\n",
      "345:\tlearn: 0.6977977\ttotal: 16.5s\tremaining: 31.2s\n",
      "346:\tlearn: 0.6977283\ttotal: 16.6s\tremaining: 31.2s\n",
      "347:\tlearn: 0.6976612\ttotal: 16.6s\tremaining: 31.1s\n",
      "348:\tlearn: 0.6975619\ttotal: 16.7s\tremaining: 31.1s\n",
      "349:\tlearn: 0.6974981\ttotal: 16.7s\tremaining: 31s\n",
      "350:\tlearn: 0.6973884\ttotal: 16.7s\tremaining: 30.9s\n",
      "351:\tlearn: 0.6973631\ttotal: 16.8s\tremaining: 30.9s\n",
      "352:\tlearn: 0.6973210\ttotal: 16.8s\tremaining: 30.8s\n",
      "353:\tlearn: 0.6972476\ttotal: 16.9s\tremaining: 30.8s\n",
      "354:\tlearn: 0.6972178\ttotal: 16.9s\tremaining: 30.7s\n",
      "355:\tlearn: 0.6971358\ttotal: 17s\tremaining: 30.7s\n",
      "356:\tlearn: 0.6970832\ttotal: 17s\tremaining: 30.6s\n",
      "357:\tlearn: 0.6970334\ttotal: 17.1s\tremaining: 30.6s\n",
      "358:\tlearn: 0.6969750\ttotal: 17.1s\tremaining: 30.5s\n",
      "359:\tlearn: 0.6968972\ttotal: 17.1s\tremaining: 30.5s\n",
      "360:\tlearn: 0.6968417\ttotal: 17.2s\tremaining: 30.4s\n",
      "361:\tlearn: 0.6967559\ttotal: 17.2s\tremaining: 30.4s\n",
      "362:\tlearn: 0.6966946\ttotal: 17.3s\tremaining: 30.3s\n",
      "363:\tlearn: 0.6965985\ttotal: 17.3s\tremaining: 30.2s\n",
      "364:\tlearn: 0.6965611\ttotal: 17.4s\tremaining: 30.2s\n",
      "365:\tlearn: 0.6964790\ttotal: 17.4s\tremaining: 30.2s\n",
      "366:\tlearn: 0.6963913\ttotal: 17.5s\tremaining: 30.1s\n",
      "367:\tlearn: 0.6963184\ttotal: 17.5s\tremaining: 30.1s\n",
      "368:\tlearn: 0.6962212\ttotal: 17.6s\tremaining: 30s\n",
      "369:\tlearn: 0.6961409\ttotal: 17.6s\tremaining: 30s\n",
      "370:\tlearn: 0.6960842\ttotal: 17.7s\tremaining: 29.9s\n",
      "371:\tlearn: 0.6960181\ttotal: 17.7s\tremaining: 29.9s\n",
      "372:\tlearn: 0.6959418\ttotal: 17.8s\tremaining: 29.9s\n",
      "373:\tlearn: 0.6958526\ttotal: 17.8s\tremaining: 29.8s\n",
      "374:\tlearn: 0.6957853\ttotal: 17.9s\tremaining: 29.8s\n",
      "375:\tlearn: 0.6956910\ttotal: 17.9s\tremaining: 29.7s\n",
      "376:\tlearn: 0.6956451\ttotal: 17.9s\tremaining: 29.7s\n",
      "377:\tlearn: 0.6956013\ttotal: 18s\tremaining: 29.6s\n",
      "378:\tlearn: 0.6955484\ttotal: 18s\tremaining: 29.5s\n",
      "379:\tlearn: 0.6954413\ttotal: 18.1s\tremaining: 29.5s\n",
      "380:\tlearn: 0.6953252\ttotal: 18.2s\tremaining: 29.5s\n",
      "381:\tlearn: 0.6952366\ttotal: 18.2s\tremaining: 29.4s\n",
      "382:\tlearn: 0.6951611\ttotal: 18.2s\tremaining: 29.4s\n",
      "383:\tlearn: 0.6950866\ttotal: 18.3s\tremaining: 29.3s\n",
      "384:\tlearn: 0.6950456\ttotal: 18.3s\tremaining: 29.3s\n",
      "385:\tlearn: 0.6949746\ttotal: 18.4s\tremaining: 29.2s\n",
      "386:\tlearn: 0.6949493\ttotal: 18.4s\tremaining: 29.2s\n",
      "387:\tlearn: 0.6948776\ttotal: 18.5s\tremaining: 29.1s\n",
      "388:\tlearn: 0.6948233\ttotal: 18.5s\tremaining: 29.1s\n",
      "389:\tlearn: 0.6947585\ttotal: 18.6s\tremaining: 29s\n",
      "390:\tlearn: 0.6947002\ttotal: 18.6s\tremaining: 29s\n",
      "391:\tlearn: 0.6946227\ttotal: 18.7s\tremaining: 28.9s\n",
      "392:\tlearn: 0.6945270\ttotal: 18.7s\tremaining: 28.9s\n",
      "393:\tlearn: 0.6944848\ttotal: 18.7s\tremaining: 28.8s\n",
      "394:\tlearn: 0.6943952\ttotal: 18.8s\tremaining: 28.8s\n",
      "395:\tlearn: 0.6943346\ttotal: 18.8s\tremaining: 28.7s\n",
      "396:\tlearn: 0.6942607\ttotal: 18.9s\tremaining: 28.7s\n",
      "397:\tlearn: 0.6941721\ttotal: 18.9s\tremaining: 28.6s\n",
      "398:\tlearn: 0.6941104\ttotal: 19s\tremaining: 28.6s\n",
      "399:\tlearn: 0.6939858\ttotal: 19s\tremaining: 28.6s\n",
      "400:\tlearn: 0.6939317\ttotal: 19.1s\tremaining: 28.5s\n",
      "401:\tlearn: 0.6938712\ttotal: 19.1s\tremaining: 28.5s\n",
      "402:\tlearn: 0.6937728\ttotal: 19.2s\tremaining: 28.4s\n",
      "403:\tlearn: 0.6936736\ttotal: 19.2s\tremaining: 28.4s\n",
      "404:\tlearn: 0.6936009\ttotal: 19.3s\tremaining: 28.3s\n",
      "405:\tlearn: 0.6935548\ttotal: 19.3s\tremaining: 28.3s\n",
      "406:\tlearn: 0.6934478\ttotal: 19.4s\tremaining: 28.2s\n",
      "407:\tlearn: 0.6933787\ttotal: 19.4s\tremaining: 28.2s\n",
      "408:\tlearn: 0.6933258\ttotal: 19.5s\tremaining: 28.1s\n",
      "409:\tlearn: 0.6933036\ttotal: 19.5s\tremaining: 28.1s\n",
      "410:\tlearn: 0.6932400\ttotal: 19.6s\tremaining: 28s\n",
      "411:\tlearn: 0.6931691\ttotal: 19.6s\tremaining: 28s\n",
      "412:\tlearn: 0.6931164\ttotal: 19.7s\tremaining: 27.9s\n",
      "413:\tlearn: 0.6930805\ttotal: 19.7s\tremaining: 27.9s\n",
      "414:\tlearn: 0.6930166\ttotal: 19.8s\tremaining: 27.8s\n",
      "415:\tlearn: 0.6929609\ttotal: 19.8s\tremaining: 27.8s\n",
      "416:\tlearn: 0.6928737\ttotal: 19.8s\tremaining: 27.7s\n",
      "417:\tlearn: 0.6928031\ttotal: 19.9s\tremaining: 27.7s\n",
      "418:\tlearn: 0.6927391\ttotal: 19.9s\tremaining: 27.6s\n",
      "419:\tlearn: 0.6926402\ttotal: 20s\tremaining: 27.6s\n",
      "420:\tlearn: 0.6925930\ttotal: 20s\tremaining: 27.5s\n",
      "421:\tlearn: 0.6924978\ttotal: 20.1s\tremaining: 27.5s\n",
      "422:\tlearn: 0.6924472\ttotal: 20.1s\tremaining: 27.4s\n",
      "423:\tlearn: 0.6923974\ttotal: 20.2s\tremaining: 27.4s\n",
      "424:\tlearn: 0.6923637\ttotal: 20.2s\tremaining: 27.4s\n",
      "425:\tlearn: 0.6923000\ttotal: 20.3s\tremaining: 27.3s\n",
      "426:\tlearn: 0.6922371\ttotal: 20.3s\tremaining: 27.3s\n",
      "427:\tlearn: 0.6921507\ttotal: 20.4s\tremaining: 27.2s\n",
      "428:\tlearn: 0.6920788\ttotal: 20.4s\tremaining: 27.2s\n",
      "429:\tlearn: 0.6919930\ttotal: 20.5s\tremaining: 27.2s\n",
      "430:\tlearn: 0.6919413\ttotal: 20.5s\tremaining: 27.1s\n",
      "431:\tlearn: 0.6918960\ttotal: 20.6s\tremaining: 27s\n",
      "432:\tlearn: 0.6918178\ttotal: 20.6s\tremaining: 27s\n",
      "433:\tlearn: 0.6917303\ttotal: 20.7s\tremaining: 27s\n",
      "434:\tlearn: 0.6916473\ttotal: 20.7s\tremaining: 26.9s\n",
      "435:\tlearn: 0.6915303\ttotal: 20.8s\tremaining: 26.9s\n",
      "436:\tlearn: 0.6915033\ttotal: 20.8s\tremaining: 26.8s\n",
      "437:\tlearn: 0.6914265\ttotal: 20.8s\tremaining: 26.8s\n",
      "438:\tlearn: 0.6913938\ttotal: 20.9s\tremaining: 26.7s\n",
      "439:\tlearn: 0.6913334\ttotal: 20.9s\tremaining: 26.6s\n",
      "440:\tlearn: 0.6912779\ttotal: 21s\tremaining: 26.6s\n",
      "441:\tlearn: 0.6912237\ttotal: 21s\tremaining: 26.5s\n",
      "442:\tlearn: 0.6911509\ttotal: 21.1s\tremaining: 26.5s\n",
      "443:\tlearn: 0.6910822\ttotal: 21.1s\tremaining: 26.4s\n",
      "444:\tlearn: 0.6910040\ttotal: 21.2s\tremaining: 26.4s\n",
      "445:\tlearn: 0.6909375\ttotal: 21.2s\tremaining: 26.4s\n",
      "446:\tlearn: 0.6908970\ttotal: 21.3s\tremaining: 26.3s\n",
      "447:\tlearn: 0.6908647\ttotal: 21.3s\tremaining: 26.3s\n",
      "448:\tlearn: 0.6907840\ttotal: 21.4s\tremaining: 26.2s\n",
      "449:\tlearn: 0.6907035\ttotal: 21.4s\tremaining: 26.2s\n",
      "450:\tlearn: 0.6905825\ttotal: 21.4s\tremaining: 26.1s\n",
      "451:\tlearn: 0.6905200\ttotal: 21.5s\tremaining: 26s\n",
      "452:\tlearn: 0.6904583\ttotal: 21.5s\tremaining: 26s\n",
      "453:\tlearn: 0.6904262\ttotal: 21.6s\tremaining: 25.9s\n",
      "454:\tlearn: 0.6903939\ttotal: 21.6s\tremaining: 25.9s\n",
      "455:\tlearn: 0.6902812\ttotal: 21.7s\tremaining: 25.9s\n",
      "456:\tlearn: 0.6902546\ttotal: 21.7s\tremaining: 25.8s\n",
      "457:\tlearn: 0.6902338\ttotal: 21.8s\tremaining: 25.8s\n",
      "458:\tlearn: 0.6901718\ttotal: 21.8s\tremaining: 25.7s\n",
      "459:\tlearn: 0.6901082\ttotal: 21.9s\tremaining: 25.7s\n",
      "460:\tlearn: 0.6900328\ttotal: 21.9s\tremaining: 25.6s\n",
      "461:\tlearn: 0.6899339\ttotal: 22s\tremaining: 25.6s\n",
      "462:\tlearn: 0.6898799\ttotal: 22s\tremaining: 25.5s\n",
      "463:\tlearn: 0.6898129\ttotal: 22.1s\tremaining: 25.5s\n",
      "464:\tlearn: 0.6897368\ttotal: 22.1s\tremaining: 25.4s\n",
      "465:\tlearn: 0.6896716\ttotal: 22.1s\tremaining: 25.4s\n",
      "466:\tlearn: 0.6895843\ttotal: 22.2s\tremaining: 25.3s\n",
      "467:\tlearn: 0.6895039\ttotal: 22.2s\tremaining: 25.3s\n",
      "468:\tlearn: 0.6894533\ttotal: 22.3s\tremaining: 25.2s\n",
      "469:\tlearn: 0.6893704\ttotal: 22.3s\tremaining: 25.2s\n",
      "470:\tlearn: 0.6893417\ttotal: 22.4s\tremaining: 25.1s\n",
      "471:\tlearn: 0.6892284\ttotal: 22.4s\tremaining: 25.1s\n",
      "472:\tlearn: 0.6891313\ttotal: 22.5s\tremaining: 25.1s\n",
      "473:\tlearn: 0.6890706\ttotal: 22.5s\tremaining: 25s\n",
      "474:\tlearn: 0.6890002\ttotal: 22.6s\tremaining: 25s\n",
      "475:\tlearn: 0.6889525\ttotal: 22.6s\tremaining: 24.9s\n",
      "476:\tlearn: 0.6888989\ttotal: 22.7s\tremaining: 24.9s\n",
      "477:\tlearn: 0.6888110\ttotal: 22.7s\tremaining: 24.8s\n",
      "478:\tlearn: 0.6887572\ttotal: 22.8s\tremaining: 24.8s\n",
      "479:\tlearn: 0.6886680\ttotal: 22.8s\tremaining: 24.7s\n",
      "480:\tlearn: 0.6886163\ttotal: 22.9s\tremaining: 24.7s\n",
      "481:\tlearn: 0.6885804\ttotal: 23s\tremaining: 24.7s\n",
      "482:\tlearn: 0.6885160\ttotal: 23s\tremaining: 24.6s\n",
      "483:\tlearn: 0.6884452\ttotal: 23.1s\tremaining: 24.6s\n",
      "484:\tlearn: 0.6883627\ttotal: 23.1s\tremaining: 24.5s\n",
      "485:\tlearn: 0.6882628\ttotal: 23.2s\tremaining: 24.5s\n"
     ]
    },
    {
     "name": "stdout",
     "output_type": "stream",
     "text": [
      "486:\tlearn: 0.6882023\ttotal: 23.2s\tremaining: 24.5s\n",
      "487:\tlearn: 0.6881248\ttotal: 23.3s\tremaining: 24.4s\n",
      "488:\tlearn: 0.6880521\ttotal: 23.3s\tremaining: 24.4s\n",
      "489:\tlearn: 0.6879792\ttotal: 23.4s\tremaining: 24.3s\n",
      "490:\tlearn: 0.6879464\ttotal: 23.4s\tremaining: 24.3s\n",
      "491:\tlearn: 0.6878488\ttotal: 23.4s\tremaining: 24.2s\n",
      "492:\tlearn: 0.6877379\ttotal: 23.5s\tremaining: 24.2s\n",
      "493:\tlearn: 0.6876658\ttotal: 23.5s\tremaining: 24.1s\n",
      "494:\tlearn: 0.6875514\ttotal: 23.6s\tremaining: 24.1s\n",
      "495:\tlearn: 0.6875085\ttotal: 23.6s\tremaining: 24s\n",
      "496:\tlearn: 0.6874803\ttotal: 23.7s\tremaining: 24s\n",
      "497:\tlearn: 0.6874183\ttotal: 23.7s\tremaining: 23.9s\n",
      "498:\tlearn: 0.6873627\ttotal: 23.8s\tremaining: 23.9s\n",
      "499:\tlearn: 0.6873141\ttotal: 23.8s\tremaining: 23.8s\n",
      "500:\tlearn: 0.6872577\ttotal: 23.9s\tremaining: 23.8s\n",
      "501:\tlearn: 0.6871872\ttotal: 23.9s\tremaining: 23.7s\n",
      "502:\tlearn: 0.6871385\ttotal: 23.9s\tremaining: 23.7s\n",
      "503:\tlearn: 0.6870877\ttotal: 24s\tremaining: 23.6s\n",
      "504:\tlearn: 0.6870142\ttotal: 24s\tremaining: 23.6s\n",
      "505:\tlearn: 0.6869597\ttotal: 24.1s\tremaining: 23.5s\n",
      "506:\tlearn: 0.6869134\ttotal: 24.1s\tremaining: 23.5s\n",
      "507:\tlearn: 0.6868581\ttotal: 24.2s\tremaining: 23.4s\n",
      "508:\tlearn: 0.6868133\ttotal: 24.2s\tremaining: 23.4s\n",
      "509:\tlearn: 0.6867462\ttotal: 24.3s\tremaining: 23.3s\n",
      "510:\tlearn: 0.6866918\ttotal: 24.3s\tremaining: 23.2s\n",
      "511:\tlearn: 0.6866398\ttotal: 24.3s\tremaining: 23.2s\n",
      "512:\tlearn: 0.6865956\ttotal: 24.4s\tremaining: 23.1s\n",
      "513:\tlearn: 0.6865738\ttotal: 24.4s\tremaining: 23.1s\n",
      "514:\tlearn: 0.6865101\ttotal: 24.5s\tremaining: 23s\n",
      "515:\tlearn: 0.6864348\ttotal: 24.5s\tremaining: 23s\n",
      "516:\tlearn: 0.6863567\ttotal: 24.6s\tremaining: 22.9s\n",
      "517:\tlearn: 0.6862930\ttotal: 24.6s\tremaining: 22.9s\n",
      "518:\tlearn: 0.6862270\ttotal: 24.6s\tremaining: 22.8s\n",
      "519:\tlearn: 0.6861915\ttotal: 24.7s\tremaining: 22.8s\n",
      "520:\tlearn: 0.6861556\ttotal: 24.7s\tremaining: 22.7s\n",
      "521:\tlearn: 0.6860985\ttotal: 24.8s\tremaining: 22.7s\n",
      "522:\tlearn: 0.6860139\ttotal: 24.8s\tremaining: 22.6s\n",
      "523:\tlearn: 0.6859807\ttotal: 24.8s\tremaining: 22.6s\n",
      "524:\tlearn: 0.6859001\ttotal: 24.9s\tremaining: 22.5s\n",
      "525:\tlearn: 0.6858433\ttotal: 24.9s\tremaining: 22.5s\n",
      "526:\tlearn: 0.6857798\ttotal: 25s\tremaining: 22.4s\n",
      "527:\tlearn: 0.6857075\ttotal: 25s\tremaining: 22.4s\n",
      "528:\tlearn: 0.6856626\ttotal: 25.1s\tremaining: 22.3s\n",
      "529:\tlearn: 0.6856236\ttotal: 25.1s\tremaining: 22.3s\n",
      "530:\tlearn: 0.6855433\ttotal: 25.2s\tremaining: 22.2s\n",
      "531:\tlearn: 0.6855109\ttotal: 25.2s\tremaining: 22.2s\n",
      "532:\tlearn: 0.6854062\ttotal: 25.3s\tremaining: 22.1s\n",
      "533:\tlearn: 0.6853390\ttotal: 25.3s\tremaining: 22.1s\n",
      "534:\tlearn: 0.6852726\ttotal: 25.3s\tremaining: 22s\n",
      "535:\tlearn: 0.6852352\ttotal: 25.4s\tremaining: 22s\n",
      "536:\tlearn: 0.6851868\ttotal: 25.5s\tremaining: 22s\n",
      "537:\tlearn: 0.6851113\ttotal: 25.5s\tremaining: 21.9s\n",
      "538:\tlearn: 0.6850548\ttotal: 25.6s\tremaining: 21.9s\n",
      "539:\tlearn: 0.6849979\ttotal: 25.6s\tremaining: 21.8s\n",
      "540:\tlearn: 0.6849209\ttotal: 25.6s\tremaining: 21.8s\n",
      "541:\tlearn: 0.6848507\ttotal: 25.7s\tremaining: 21.7s\n",
      "542:\tlearn: 0.6847906\ttotal: 25.7s\tremaining: 21.7s\n",
      "543:\tlearn: 0.6847250\ttotal: 25.8s\tremaining: 21.6s\n",
      "544:\tlearn: 0.6846632\ttotal: 25.8s\tremaining: 21.6s\n",
      "545:\tlearn: 0.6846250\ttotal: 25.9s\tremaining: 21.5s\n",
      "546:\tlearn: 0.6845634\ttotal: 25.9s\tremaining: 21.5s\n",
      "547:\tlearn: 0.6844874\ttotal: 26s\tremaining: 21.4s\n",
      "548:\tlearn: 0.6844366\ttotal: 26s\tremaining: 21.4s\n",
      "549:\tlearn: 0.6843682\ttotal: 26.1s\tremaining: 21.3s\n",
      "550:\tlearn: 0.6843203\ttotal: 26.1s\tremaining: 21.3s\n",
      "551:\tlearn: 0.6842515\ttotal: 26.1s\tremaining: 21.2s\n",
      "552:\tlearn: 0.6841825\ttotal: 26.2s\tremaining: 21.2s\n",
      "553:\tlearn: 0.6840989\ttotal: 26.2s\tremaining: 21.1s\n",
      "554:\tlearn: 0.6840167\ttotal: 26.3s\tremaining: 21.1s\n",
      "555:\tlearn: 0.6839401\ttotal: 26.3s\tremaining: 21s\n",
      "556:\tlearn: 0.6838935\ttotal: 26.4s\tremaining: 21s\n",
      "557:\tlearn: 0.6838100\ttotal: 26.4s\tremaining: 20.9s\n",
      "558:\tlearn: 0.6837631\ttotal: 26.5s\tremaining: 20.9s\n",
      "559:\tlearn: 0.6837153\ttotal: 26.5s\tremaining: 20.8s\n",
      "560:\tlearn: 0.6836218\ttotal: 26.5s\tremaining: 20.8s\n",
      "561:\tlearn: 0.6835636\ttotal: 26.6s\tremaining: 20.7s\n",
      "562:\tlearn: 0.6834900\ttotal: 26.6s\tremaining: 20.7s\n",
      "563:\tlearn: 0.6834340\ttotal: 26.7s\tremaining: 20.6s\n",
      "564:\tlearn: 0.6834207\ttotal: 26.7s\tremaining: 20.6s\n",
      "565:\tlearn: 0.6833208\ttotal: 26.8s\tremaining: 20.5s\n",
      "566:\tlearn: 0.6832689\ttotal: 26.8s\tremaining: 20.5s\n",
      "567:\tlearn: 0.6831969\ttotal: 26.9s\tremaining: 20.4s\n",
      "568:\tlearn: 0.6831447\ttotal: 26.9s\tremaining: 20.4s\n",
      "569:\tlearn: 0.6830930\ttotal: 27s\tremaining: 20.3s\n",
      "570:\tlearn: 0.6830174\ttotal: 27s\tremaining: 20.3s\n",
      "571:\tlearn: 0.6830021\ttotal: 27.1s\tremaining: 20.2s\n",
      "572:\tlearn: 0.6829803\ttotal: 27.1s\tremaining: 20.2s\n",
      "573:\tlearn: 0.6829329\ttotal: 27.1s\tremaining: 20.1s\n",
      "574:\tlearn: 0.6828928\ttotal: 27.2s\tremaining: 20.1s\n",
      "575:\tlearn: 0.6828362\ttotal: 27.2s\tremaining: 20s\n",
      "576:\tlearn: 0.6828176\ttotal: 27.3s\tremaining: 20s\n",
      "577:\tlearn: 0.6827615\ttotal: 27.3s\tremaining: 19.9s\n",
      "578:\tlearn: 0.6826973\ttotal: 27.4s\tremaining: 19.9s\n",
      "579:\tlearn: 0.6826641\ttotal: 27.4s\tremaining: 19.8s\n",
      "580:\tlearn: 0.6825958\ttotal: 27.5s\tremaining: 19.8s\n",
      "581:\tlearn: 0.6825519\ttotal: 27.5s\tremaining: 19.7s\n",
      "582:\tlearn: 0.6824515\ttotal: 27.5s\tremaining: 19.7s\n",
      "583:\tlearn: 0.6823885\ttotal: 27.6s\tremaining: 19.7s\n",
      "584:\tlearn: 0.6823362\ttotal: 27.6s\tremaining: 19.6s\n",
      "585:\tlearn: 0.6822909\ttotal: 27.7s\tremaining: 19.6s\n",
      "586:\tlearn: 0.6822281\ttotal: 27.7s\tremaining: 19.5s\n",
      "587:\tlearn: 0.6821538\ttotal: 27.8s\tremaining: 19.5s\n",
      "588:\tlearn: 0.6820958\ttotal: 27.8s\tremaining: 19.4s\n",
      "589:\tlearn: 0.6820618\ttotal: 27.9s\tremaining: 19.4s\n",
      "590:\tlearn: 0.6819795\ttotal: 27.9s\tremaining: 19.3s\n",
      "591:\tlearn: 0.6818793\ttotal: 28s\tremaining: 19.3s\n",
      "592:\tlearn: 0.6818365\ttotal: 28s\tremaining: 19.2s\n",
      "593:\tlearn: 0.6817882\ttotal: 28.1s\tremaining: 19.2s\n",
      "594:\tlearn: 0.6817373\ttotal: 28.1s\tremaining: 19.1s\n",
      "595:\tlearn: 0.6816916\ttotal: 28.2s\tremaining: 19.1s\n",
      "596:\tlearn: 0.6816236\ttotal: 28.2s\tremaining: 19s\n",
      "597:\tlearn: 0.6815793\ttotal: 28.3s\tremaining: 19s\n",
      "598:\tlearn: 0.6815091\ttotal: 28.3s\tremaining: 18.9s\n",
      "599:\tlearn: 0.6814833\ttotal: 28.3s\tremaining: 18.9s\n",
      "600:\tlearn: 0.6814411\ttotal: 28.4s\tremaining: 18.8s\n",
      "601:\tlearn: 0.6813740\ttotal: 28.4s\tremaining: 18.8s\n",
      "602:\tlearn: 0.6813196\ttotal: 28.5s\tremaining: 18.7s\n",
      "603:\tlearn: 0.6812211\ttotal: 28.5s\tremaining: 18.7s\n",
      "604:\tlearn: 0.6811808\ttotal: 28.6s\tremaining: 18.6s\n",
      "605:\tlearn: 0.6811081\ttotal: 28.6s\tremaining: 18.6s\n",
      "606:\tlearn: 0.6810413\ttotal: 28.7s\tremaining: 18.6s\n",
      "607:\tlearn: 0.6809960\ttotal: 28.7s\tremaining: 18.5s\n",
      "608:\tlearn: 0.6809834\ttotal: 28.7s\tremaining: 18.4s\n",
      "609:\tlearn: 0.6809400\ttotal: 28.8s\tremaining: 18.4s\n",
      "610:\tlearn: 0.6808732\ttotal: 28.8s\tremaining: 18.4s\n",
      "611:\tlearn: 0.6808429\ttotal: 28.9s\tremaining: 18.3s\n",
      "612:\tlearn: 0.6807850\ttotal: 28.9s\tremaining: 18.3s\n",
      "613:\tlearn: 0.6807197\ttotal: 29s\tremaining: 18.2s\n",
      "614:\tlearn: 0.6806503\ttotal: 29s\tremaining: 18.2s\n",
      "615:\tlearn: 0.6805746\ttotal: 29.1s\tremaining: 18.1s\n",
      "616:\tlearn: 0.6805244\ttotal: 29.1s\tremaining: 18.1s\n",
      "617:\tlearn: 0.6804753\ttotal: 29.2s\tremaining: 18s\n",
      "618:\tlearn: 0.6804457\ttotal: 29.2s\tremaining: 18s\n",
      "619:\tlearn: 0.6804112\ttotal: 29.3s\tremaining: 17.9s\n",
      "620:\tlearn: 0.6803391\ttotal: 29.3s\tremaining: 17.9s\n",
      "621:\tlearn: 0.6802603\ttotal: 29.4s\tremaining: 17.8s\n",
      "622:\tlearn: 0.6801892\ttotal: 29.4s\tremaining: 17.8s\n",
      "623:\tlearn: 0.6801350\ttotal: 29.4s\tremaining: 17.7s\n",
      "624:\tlearn: 0.6800766\ttotal: 29.5s\tremaining: 17.7s\n",
      "625:\tlearn: 0.6799952\ttotal: 29.5s\tremaining: 17.6s\n",
      "626:\tlearn: 0.6799667\ttotal: 29.6s\tremaining: 17.6s\n",
      "627:\tlearn: 0.6798576\ttotal: 29.6s\tremaining: 17.5s\n",
      "628:\tlearn: 0.6798039\ttotal: 29.7s\tremaining: 17.5s\n",
      "629:\tlearn: 0.6797360\ttotal: 29.7s\tremaining: 17.4s\n",
      "630:\tlearn: 0.6796901\ttotal: 29.8s\tremaining: 17.4s\n",
      "631:\tlearn: 0.6796499\ttotal: 29.8s\tremaining: 17.4s\n",
      "632:\tlearn: 0.6795848\ttotal: 29.8s\tremaining: 17.3s\n",
      "633:\tlearn: 0.6795335\ttotal: 29.9s\tremaining: 17.3s\n",
      "634:\tlearn: 0.6794683\ttotal: 29.9s\tremaining: 17.2s\n",
      "635:\tlearn: 0.6793919\ttotal: 30s\tremaining: 17.2s\n",
      "636:\tlearn: 0.6793260\ttotal: 30s\tremaining: 17.1s\n",
      "637:\tlearn: 0.6792895\ttotal: 30.1s\tremaining: 17.1s\n",
      "638:\tlearn: 0.6792328\ttotal: 30.1s\tremaining: 17s\n",
      "639:\tlearn: 0.6791366\ttotal: 30.2s\tremaining: 17s\n",
      "640:\tlearn: 0.6790909\ttotal: 30.2s\tremaining: 16.9s\n",
      "641:\tlearn: 0.6790079\ttotal: 30.3s\tremaining: 16.9s\n",
      "642:\tlearn: 0.6789626\ttotal: 30.3s\tremaining: 16.8s\n",
      "643:\tlearn: 0.6788766\ttotal: 30.4s\tremaining: 16.8s\n",
      "644:\tlearn: 0.6788309\ttotal: 30.4s\tremaining: 16.7s\n"
     ]
    },
    {
     "name": "stdout",
     "output_type": "stream",
     "text": [
      "645:\tlearn: 0.6787466\ttotal: 30.5s\tremaining: 16.7s\n",
      "646:\tlearn: 0.6786996\ttotal: 30.5s\tremaining: 16.6s\n",
      "647:\tlearn: 0.6786379\ttotal: 30.5s\tremaining: 16.6s\n",
      "648:\tlearn: 0.6785791\ttotal: 30.6s\tremaining: 16.5s\n",
      "649:\tlearn: 0.6785222\ttotal: 30.6s\tremaining: 16.5s\n",
      "650:\tlearn: 0.6784971\ttotal: 30.7s\tremaining: 16.4s\n",
      "651:\tlearn: 0.6784330\ttotal: 30.7s\tremaining: 16.4s\n",
      "652:\tlearn: 0.6783499\ttotal: 30.8s\tremaining: 16.4s\n",
      "653:\tlearn: 0.6782997\ttotal: 30.8s\tremaining: 16.3s\n",
      "654:\tlearn: 0.6782544\ttotal: 30.9s\tremaining: 16.3s\n",
      "655:\tlearn: 0.6781831\ttotal: 30.9s\tremaining: 16.2s\n",
      "656:\tlearn: 0.6781087\ttotal: 31s\tremaining: 16.2s\n",
      "657:\tlearn: 0.6780397\ttotal: 31s\tremaining: 16.1s\n",
      "658:\tlearn: 0.6780175\ttotal: 31s\tremaining: 16.1s\n",
      "659:\tlearn: 0.6779641\ttotal: 31.1s\tremaining: 16s\n",
      "660:\tlearn: 0.6779044\ttotal: 31.2s\tremaining: 16s\n",
      "661:\tlearn: 0.6778881\ttotal: 31.2s\tremaining: 15.9s\n",
      "662:\tlearn: 0.6778334\ttotal: 31.3s\tremaining: 15.9s\n",
      "663:\tlearn: 0.6777945\ttotal: 31.3s\tremaining: 15.8s\n",
      "664:\tlearn: 0.6777267\ttotal: 31.4s\tremaining: 15.8s\n",
      "665:\tlearn: 0.6776622\ttotal: 31.4s\tremaining: 15.8s\n",
      "666:\tlearn: 0.6776278\ttotal: 31.5s\tremaining: 15.7s\n",
      "667:\tlearn: 0.6775578\ttotal: 31.5s\tremaining: 15.7s\n",
      "668:\tlearn: 0.6775193\ttotal: 31.6s\tremaining: 15.6s\n",
      "669:\tlearn: 0.6774483\ttotal: 31.6s\tremaining: 15.6s\n",
      "670:\tlearn: 0.6773973\ttotal: 31.7s\tremaining: 15.5s\n",
      "671:\tlearn: 0.6773337\ttotal: 31.7s\tremaining: 15.5s\n",
      "672:\tlearn: 0.6772823\ttotal: 31.8s\tremaining: 15.4s\n",
      "673:\tlearn: 0.6772441\ttotal: 31.8s\tremaining: 15.4s\n",
      "674:\tlearn: 0.6771832\ttotal: 31.9s\tremaining: 15.3s\n",
      "675:\tlearn: 0.6771197\ttotal: 31.9s\tremaining: 15.3s\n",
      "676:\tlearn: 0.6770431\ttotal: 32s\tremaining: 15.2s\n",
      "677:\tlearn: 0.6769817\ttotal: 32s\tremaining: 15.2s\n",
      "678:\tlearn: 0.6769228\ttotal: 32s\tremaining: 15.2s\n",
      "679:\tlearn: 0.6768816\ttotal: 32.1s\tremaining: 15.1s\n",
      "680:\tlearn: 0.6768128\ttotal: 32.1s\tremaining: 15.1s\n",
      "681:\tlearn: 0.6767584\ttotal: 32.2s\tremaining: 15s\n",
      "682:\tlearn: 0.6766725\ttotal: 32.2s\tremaining: 15s\n",
      "683:\tlearn: 0.6766197\ttotal: 32.3s\tremaining: 14.9s\n",
      "684:\tlearn: 0.6765811\ttotal: 32.3s\tremaining: 14.9s\n",
      "685:\tlearn: 0.6765023\ttotal: 32.4s\tremaining: 14.8s\n",
      "686:\tlearn: 0.6764574\ttotal: 32.4s\tremaining: 14.8s\n",
      "687:\tlearn: 0.6763905\ttotal: 32.4s\tremaining: 14.7s\n",
      "688:\tlearn: 0.6763359\ttotal: 32.5s\tremaining: 14.7s\n",
      "689:\tlearn: 0.6762769\ttotal: 32.5s\tremaining: 14.6s\n",
      "690:\tlearn: 0.6762165\ttotal: 32.6s\tremaining: 14.6s\n",
      "691:\tlearn: 0.6761668\ttotal: 32.6s\tremaining: 14.5s\n",
      "692:\tlearn: 0.6761077\ttotal: 32.7s\tremaining: 14.5s\n",
      "693:\tlearn: 0.6760385\ttotal: 32.7s\tremaining: 14.4s\n",
      "694:\tlearn: 0.6759694\ttotal: 32.8s\tremaining: 14.4s\n",
      "695:\tlearn: 0.6758996\ttotal: 32.8s\tremaining: 14.3s\n",
      "696:\tlearn: 0.6758396\ttotal: 32.9s\tremaining: 14.3s\n",
      "697:\tlearn: 0.6757710\ttotal: 32.9s\tremaining: 14.2s\n",
      "698:\tlearn: 0.6757025\ttotal: 32.9s\tremaining: 14.2s\n",
      "699:\tlearn: 0.6756381\ttotal: 33s\tremaining: 14.1s\n",
      "700:\tlearn: 0.6755604\ttotal: 33s\tremaining: 14.1s\n",
      "701:\tlearn: 0.6755146\ttotal: 33.1s\tremaining: 14s\n",
      "702:\tlearn: 0.6754526\ttotal: 33.1s\tremaining: 14s\n",
      "703:\tlearn: 0.6753996\ttotal: 33.2s\tremaining: 14s\n",
      "704:\tlearn: 0.6753930\ttotal: 33.2s\tremaining: 13.9s\n",
      "705:\tlearn: 0.6752975\ttotal: 33.3s\tremaining: 13.9s\n",
      "706:\tlearn: 0.6752264\ttotal: 33.4s\tremaining: 13.8s\n",
      "707:\tlearn: 0.6751445\ttotal: 33.4s\tremaining: 13.8s\n",
      "708:\tlearn: 0.6750847\ttotal: 33.5s\tremaining: 13.7s\n",
      "709:\tlearn: 0.6750135\ttotal: 33.5s\tremaining: 13.7s\n",
      "710:\tlearn: 0.6749718\ttotal: 33.6s\tremaining: 13.6s\n",
      "711:\tlearn: 0.6749524\ttotal: 33.6s\tremaining: 13.6s\n",
      "712:\tlearn: 0.6748773\ttotal: 33.7s\tremaining: 13.5s\n",
      "713:\tlearn: 0.6748322\ttotal: 33.7s\tremaining: 13.5s\n",
      "714:\tlearn: 0.6747514\ttotal: 33.8s\tremaining: 13.5s\n",
      "715:\tlearn: 0.6746943\ttotal: 33.8s\tremaining: 13.4s\n",
      "716:\tlearn: 0.6746581\ttotal: 33.9s\tremaining: 13.4s\n",
      "717:\tlearn: 0.6746160\ttotal: 33.9s\tremaining: 13.3s\n",
      "718:\tlearn: 0.6745076\ttotal: 34s\tremaining: 13.3s\n",
      "719:\tlearn: 0.6744288\ttotal: 34s\tremaining: 13.2s\n",
      "720:\tlearn: 0.6744005\ttotal: 34.1s\tremaining: 13.2s\n",
      "721:\tlearn: 0.6743757\ttotal: 34.1s\tremaining: 13.1s\n",
      "722:\tlearn: 0.6743466\ttotal: 34.2s\tremaining: 13.1s\n",
      "723:\tlearn: 0.6742823\ttotal: 34.2s\tremaining: 13s\n",
      "724:\tlearn: 0.6742598\ttotal: 34.3s\tremaining: 13s\n",
      "725:\tlearn: 0.6741767\ttotal: 34.3s\tremaining: 13s\n",
      "726:\tlearn: 0.6741144\ttotal: 34.4s\tremaining: 12.9s\n",
      "727:\tlearn: 0.6740596\ttotal: 34.4s\tremaining: 12.9s\n",
      "728:\tlearn: 0.6739892\ttotal: 34.5s\tremaining: 12.8s\n",
      "729:\tlearn: 0.6739597\ttotal: 34.5s\tremaining: 12.8s\n",
      "730:\tlearn: 0.6738747\ttotal: 34.6s\tremaining: 12.7s\n",
      "731:\tlearn: 0.6738053\ttotal: 34.6s\tremaining: 12.7s\n",
      "732:\tlearn: 0.6737699\ttotal: 34.7s\tremaining: 12.6s\n",
      "733:\tlearn: 0.6737260\ttotal: 34.7s\tremaining: 12.6s\n",
      "734:\tlearn: 0.6736743\ttotal: 34.8s\tremaining: 12.5s\n",
      "735:\tlearn: 0.6736346\ttotal: 34.8s\tremaining: 12.5s\n",
      "736:\tlearn: 0.6736176\ttotal: 34.9s\tremaining: 12.4s\n",
      "737:\tlearn: 0.6735458\ttotal: 34.9s\tremaining: 12.4s\n",
      "738:\tlearn: 0.6734970\ttotal: 35s\tremaining: 12.3s\n",
      "739:\tlearn: 0.6734603\ttotal: 35s\tremaining: 12.3s\n",
      "740:\tlearn: 0.6734054\ttotal: 35.1s\tremaining: 12.3s\n",
      "741:\tlearn: 0.6733479\ttotal: 35.1s\tremaining: 12.2s\n",
      "742:\tlearn: 0.6733136\ttotal: 35.2s\tremaining: 12.2s\n",
      "743:\tlearn: 0.6732495\ttotal: 35.2s\tremaining: 12.1s\n",
      "744:\tlearn: 0.6731639\ttotal: 35.3s\tremaining: 12.1s\n",
      "745:\tlearn: 0.6731178\ttotal: 35.3s\tremaining: 12s\n",
      "746:\tlearn: 0.6730551\ttotal: 35.4s\tremaining: 12s\n",
      "747:\tlearn: 0.6729947\ttotal: 35.4s\tremaining: 11.9s\n",
      "748:\tlearn: 0.6729129\ttotal: 35.5s\tremaining: 11.9s\n",
      "749:\tlearn: 0.6728926\ttotal: 35.5s\tremaining: 11.8s\n",
      "750:\tlearn: 0.6728610\ttotal: 35.5s\tremaining: 11.8s\n",
      "751:\tlearn: 0.6728129\ttotal: 35.6s\tremaining: 11.7s\n",
      "752:\tlearn: 0.6727456\ttotal: 35.6s\tremaining: 11.7s\n",
      "753:\tlearn: 0.6726836\ttotal: 35.7s\tremaining: 11.6s\n",
      "754:\tlearn: 0.6726363\ttotal: 35.7s\tremaining: 11.6s\n",
      "755:\tlearn: 0.6725784\ttotal: 35.8s\tremaining: 11.5s\n",
      "756:\tlearn: 0.6725225\ttotal: 35.8s\tremaining: 11.5s\n",
      "757:\tlearn: 0.6724653\ttotal: 35.8s\tremaining: 11.4s\n",
      "758:\tlearn: 0.6724206\ttotal: 35.9s\tremaining: 11.4s\n",
      "759:\tlearn: 0.6723943\ttotal: 35.9s\tremaining: 11.3s\n",
      "760:\tlearn: 0.6723145\ttotal: 36s\tremaining: 11.3s\n",
      "761:\tlearn: 0.6722724\ttotal: 36s\tremaining: 11.3s\n",
      "762:\tlearn: 0.6722087\ttotal: 36.1s\tremaining: 11.2s\n",
      "763:\tlearn: 0.6721304\ttotal: 36.1s\tremaining: 11.2s\n",
      "764:\tlearn: 0.6720833\ttotal: 36.2s\tremaining: 11.1s\n",
      "765:\tlearn: 0.6720077\ttotal: 36.2s\tremaining: 11.1s\n",
      "766:\tlearn: 0.6719650\ttotal: 36.3s\tremaining: 11s\n",
      "767:\tlearn: 0.6718974\ttotal: 36.3s\tremaining: 11s\n",
      "768:\tlearn: 0.6718421\ttotal: 36.3s\tremaining: 10.9s\n",
      "769:\tlearn: 0.6718008\ttotal: 36.4s\tremaining: 10.9s\n",
      "770:\tlearn: 0.6717231\ttotal: 36.4s\tremaining: 10.8s\n",
      "771:\tlearn: 0.6716347\ttotal: 36.5s\tremaining: 10.8s\n",
      "772:\tlearn: 0.6716084\ttotal: 36.5s\tremaining: 10.7s\n",
      "773:\tlearn: 0.6715678\ttotal: 36.6s\tremaining: 10.7s\n",
      "774:\tlearn: 0.6715312\ttotal: 36.6s\tremaining: 10.6s\n",
      "775:\tlearn: 0.6714666\ttotal: 36.7s\tremaining: 10.6s\n",
      "776:\tlearn: 0.6714182\ttotal: 36.7s\tremaining: 10.5s\n",
      "777:\tlearn: 0.6713544\ttotal: 36.8s\tremaining: 10.5s\n",
      "778:\tlearn: 0.6712935\ttotal: 36.8s\tremaining: 10.4s\n",
      "779:\tlearn: 0.6712645\ttotal: 36.9s\tremaining: 10.4s\n",
      "780:\tlearn: 0.6711836\ttotal: 36.9s\tremaining: 10.4s\n",
      "781:\tlearn: 0.6711328\ttotal: 37s\tremaining: 10.3s\n",
      "782:\tlearn: 0.6710710\ttotal: 37s\tremaining: 10.3s\n",
      "783:\tlearn: 0.6710422\ttotal: 37.1s\tremaining: 10.2s\n",
      "784:\tlearn: 0.6709787\ttotal: 37.1s\tremaining: 10.2s\n",
      "785:\tlearn: 0.6709204\ttotal: 37.2s\tremaining: 10.1s\n",
      "786:\tlearn: 0.6708480\ttotal: 37.2s\tremaining: 10.1s\n",
      "787:\tlearn: 0.6707941\ttotal: 37.3s\tremaining: 10s\n",
      "788:\tlearn: 0.6707482\ttotal: 37.3s\tremaining: 9.98s\n",
      "789:\tlearn: 0.6706956\ttotal: 37.4s\tremaining: 9.93s\n",
      "790:\tlearn: 0.6706707\ttotal: 37.4s\tremaining: 9.89s\n",
      "791:\tlearn: 0.6706262\ttotal: 37.5s\tremaining: 9.84s\n",
      "792:\tlearn: 0.6705451\ttotal: 37.5s\tremaining: 9.79s\n",
      "793:\tlearn: 0.6704973\ttotal: 37.6s\tremaining: 9.75s\n",
      "794:\tlearn: 0.6704306\ttotal: 37.6s\tremaining: 9.7s\n",
      "795:\tlearn: 0.6703812\ttotal: 37.7s\tremaining: 9.65s\n",
      "796:\tlearn: 0.6703411\ttotal: 37.7s\tremaining: 9.61s\n",
      "797:\tlearn: 0.6702592\ttotal: 37.8s\tremaining: 9.56s\n",
      "798:\tlearn: 0.6702074\ttotal: 37.8s\tremaining: 9.51s\n",
      "799:\tlearn: 0.6701438\ttotal: 37.8s\tremaining: 9.46s\n",
      "800:\tlearn: 0.6700788\ttotal: 37.9s\tremaining: 9.41s\n",
      "801:\tlearn: 0.6700018\ttotal: 37.9s\tremaining: 9.37s\n",
      "802:\tlearn: 0.6699620\ttotal: 38s\tremaining: 9.32s\n",
      "803:\tlearn: 0.6699266\ttotal: 38s\tremaining: 9.27s\n",
      "804:\tlearn: 0.6699012\ttotal: 38.1s\tremaining: 9.23s\n",
      "805:\tlearn: 0.6698425\ttotal: 38.1s\tremaining: 9.18s\n",
      "806:\tlearn: 0.6698181\ttotal: 38.2s\tremaining: 9.13s\n",
      "807:\tlearn: 0.6697714\ttotal: 38.2s\tremaining: 9.08s\n"
     ]
    },
    {
     "name": "stdout",
     "output_type": "stream",
     "text": [
      "808:\tlearn: 0.6697444\ttotal: 38.3s\tremaining: 9.04s\n",
      "809:\tlearn: 0.6696842\ttotal: 38.3s\tremaining: 8.99s\n",
      "810:\tlearn: 0.6696079\ttotal: 38.4s\tremaining: 8.94s\n",
      "811:\tlearn: 0.6695691\ttotal: 38.4s\tremaining: 8.89s\n",
      "812:\tlearn: 0.6695033\ttotal: 38.5s\tremaining: 8.84s\n",
      "813:\tlearn: 0.6694565\ttotal: 38.5s\tremaining: 8.8s\n",
      "814:\tlearn: 0.6694047\ttotal: 38.6s\tremaining: 8.75s\n",
      "815:\tlearn: 0.6693479\ttotal: 38.6s\tremaining: 8.7s\n",
      "816:\tlearn: 0.6693091\ttotal: 38.7s\tremaining: 8.66s\n",
      "817:\tlearn: 0.6692301\ttotal: 38.7s\tremaining: 8.61s\n",
      "818:\tlearn: 0.6691707\ttotal: 38.7s\tremaining: 8.56s\n",
      "819:\tlearn: 0.6691192\ttotal: 38.8s\tremaining: 8.52s\n",
      "820:\tlearn: 0.6690562\ttotal: 38.8s\tremaining: 8.47s\n",
      "821:\tlearn: 0.6689905\ttotal: 38.9s\tremaining: 8.42s\n",
      "822:\tlearn: 0.6689405\ttotal: 38.9s\tremaining: 8.37s\n",
      "823:\tlearn: 0.6688825\ttotal: 39s\tremaining: 8.32s\n",
      "824:\tlearn: 0.6688345\ttotal: 39s\tremaining: 8.28s\n",
      "825:\tlearn: 0.6688039\ttotal: 39.1s\tremaining: 8.23s\n",
      "826:\tlearn: 0.6687470\ttotal: 39.1s\tremaining: 8.18s\n",
      "827:\tlearn: 0.6687102\ttotal: 39.1s\tremaining: 8.13s\n",
      "828:\tlearn: 0.6686632\ttotal: 39.2s\tremaining: 8.09s\n",
      "829:\tlearn: 0.6685947\ttotal: 39.3s\tremaining: 8.04s\n",
      "830:\tlearn: 0.6685436\ttotal: 39.3s\tremaining: 7.99s\n",
      "831:\tlearn: 0.6684598\ttotal: 39.4s\tremaining: 7.95s\n",
      "832:\tlearn: 0.6684066\ttotal: 39.4s\tremaining: 7.9s\n",
      "833:\tlearn: 0.6683646\ttotal: 39.4s\tremaining: 7.85s\n",
      "834:\tlearn: 0.6682805\ttotal: 39.5s\tremaining: 7.8s\n",
      "835:\tlearn: 0.6682279\ttotal: 39.5s\tremaining: 7.76s\n",
      "836:\tlearn: 0.6681826\ttotal: 39.6s\tremaining: 7.71s\n",
      "837:\tlearn: 0.6681245\ttotal: 39.6s\tremaining: 7.66s\n",
      "838:\tlearn: 0.6680452\ttotal: 39.7s\tremaining: 7.61s\n",
      "839:\tlearn: 0.6679943\ttotal: 39.7s\tremaining: 7.56s\n",
      "840:\tlearn: 0.6679501\ttotal: 39.8s\tremaining: 7.52s\n",
      "841:\tlearn: 0.6679205\ttotal: 39.8s\tremaining: 7.47s\n",
      "842:\tlearn: 0.6678905\ttotal: 39.8s\tremaining: 7.42s\n",
      "843:\tlearn: 0.6678425\ttotal: 39.9s\tremaining: 7.37s\n",
      "844:\tlearn: 0.6677728\ttotal: 39.9s\tremaining: 7.33s\n",
      "845:\tlearn: 0.6677301\ttotal: 40s\tremaining: 7.28s\n",
      "846:\tlearn: 0.6676523\ttotal: 40s\tremaining: 7.23s\n",
      "847:\tlearn: 0.6676249\ttotal: 40.1s\tremaining: 7.19s\n",
      "848:\tlearn: 0.6675831\ttotal: 40.2s\tremaining: 7.14s\n",
      "849:\tlearn: 0.6675535\ttotal: 40.2s\tremaining: 7.09s\n",
      "850:\tlearn: 0.6675305\ttotal: 40.3s\tremaining: 7.05s\n",
      "851:\tlearn: 0.6674953\ttotal: 40.3s\tremaining: 7s\n",
      "852:\tlearn: 0.6674388\ttotal: 40.3s\tremaining: 6.95s\n",
      "853:\tlearn: 0.6674026\ttotal: 40.4s\tremaining: 6.9s\n",
      "854:\tlearn: 0.6673259\ttotal: 40.4s\tremaining: 6.86s\n",
      "855:\tlearn: 0.6672653\ttotal: 40.5s\tremaining: 6.81s\n",
      "856:\tlearn: 0.6671962\ttotal: 40.5s\tremaining: 6.76s\n",
      "857:\tlearn: 0.6671244\ttotal: 40.6s\tremaining: 6.71s\n",
      "858:\tlearn: 0.6670843\ttotal: 40.6s\tremaining: 6.67s\n",
      "859:\tlearn: 0.6670187\ttotal: 40.7s\tremaining: 6.62s\n",
      "860:\tlearn: 0.6670044\ttotal: 40.7s\tremaining: 6.57s\n",
      "861:\tlearn: 0.6669362\ttotal: 40.8s\tremaining: 6.52s\n",
      "862:\tlearn: 0.6668715\ttotal: 40.8s\tremaining: 6.48s\n",
      "863:\tlearn: 0.6667885\ttotal: 40.9s\tremaining: 6.43s\n",
      "864:\tlearn: 0.6667585\ttotal: 40.9s\tremaining: 6.38s\n",
      "865:\tlearn: 0.6666889\ttotal: 40.9s\tremaining: 6.33s\n",
      "866:\tlearn: 0.6666352\ttotal: 41s\tremaining: 6.29s\n",
      "867:\tlearn: 0.6666055\ttotal: 41s\tremaining: 6.24s\n",
      "868:\tlearn: 0.6665155\ttotal: 41.1s\tremaining: 6.19s\n",
      "869:\tlearn: 0.6664400\ttotal: 41.1s\tremaining: 6.14s\n",
      "870:\tlearn: 0.6663879\ttotal: 41.2s\tremaining: 6.1s\n",
      "871:\tlearn: 0.6663503\ttotal: 41.2s\tremaining: 6.05s\n",
      "872:\tlearn: 0.6662811\ttotal: 41.3s\tremaining: 6s\n",
      "873:\tlearn: 0.6662288\ttotal: 41.3s\tremaining: 5.96s\n",
      "874:\tlearn: 0.6661632\ttotal: 41.4s\tremaining: 5.91s\n",
      "875:\tlearn: 0.6661002\ttotal: 41.4s\tremaining: 5.86s\n",
      "876:\tlearn: 0.6660543\ttotal: 41.4s\tremaining: 5.81s\n",
      "877:\tlearn: 0.6659839\ttotal: 41.5s\tremaining: 5.77s\n",
      "878:\tlearn: 0.6659272\ttotal: 41.6s\tremaining: 5.72s\n",
      "879:\tlearn: 0.6658613\ttotal: 41.6s\tremaining: 5.67s\n",
      "880:\tlearn: 0.6658139\ttotal: 41.6s\tremaining: 5.63s\n",
      "881:\tlearn: 0.6657626\ttotal: 41.7s\tremaining: 5.58s\n",
      "882:\tlearn: 0.6657326\ttotal: 41.7s\tremaining: 5.53s\n",
      "883:\tlearn: 0.6656703\ttotal: 41.8s\tremaining: 5.48s\n",
      "884:\tlearn: 0.6656283\ttotal: 41.8s\tremaining: 5.43s\n",
      "885:\tlearn: 0.6656015\ttotal: 41.9s\tremaining: 5.39s\n",
      "886:\tlearn: 0.6655583\ttotal: 41.9s\tremaining: 5.34s\n",
      "887:\tlearn: 0.6655103\ttotal: 42s\tremaining: 5.29s\n",
      "888:\tlearn: 0.6654313\ttotal: 42s\tremaining: 5.25s\n",
      "889:\tlearn: 0.6653772\ttotal: 42.1s\tremaining: 5.2s\n",
      "890:\tlearn: 0.6653090\ttotal: 42.1s\tremaining: 5.15s\n",
      "891:\tlearn: 0.6652798\ttotal: 42.1s\tremaining: 5.1s\n",
      "892:\tlearn: 0.6651677\ttotal: 42.2s\tremaining: 5.06s\n",
      "893:\tlearn: 0.6650588\ttotal: 42.2s\tremaining: 5.01s\n",
      "894:\tlearn: 0.6649983\ttotal: 42.3s\tremaining: 4.96s\n",
      "895:\tlearn: 0.6649432\ttotal: 42.3s\tremaining: 4.91s\n",
      "896:\tlearn: 0.6649257\ttotal: 42.4s\tremaining: 4.87s\n",
      "897:\tlearn: 0.6648473\ttotal: 42.4s\tremaining: 4.82s\n",
      "898:\tlearn: 0.6647802\ttotal: 42.5s\tremaining: 4.77s\n",
      "899:\tlearn: 0.6647370\ttotal: 42.5s\tremaining: 4.73s\n",
      "900:\tlearn: 0.6646870\ttotal: 42.6s\tremaining: 4.68s\n",
      "901:\tlearn: 0.6646234\ttotal: 42.6s\tremaining: 4.63s\n",
      "902:\tlearn: 0.6645880\ttotal: 42.7s\tremaining: 4.58s\n",
      "903:\tlearn: 0.6645704\ttotal: 42.7s\tremaining: 4.54s\n",
      "904:\tlearn: 0.6645401\ttotal: 42.8s\tremaining: 4.49s\n",
      "905:\tlearn: 0.6645102\ttotal: 42.8s\tremaining: 4.44s\n",
      "906:\tlearn: 0.6644669\ttotal: 42.9s\tremaining: 4.39s\n",
      "907:\tlearn: 0.6644037\ttotal: 42.9s\tremaining: 4.35s\n",
      "908:\tlearn: 0.6643458\ttotal: 42.9s\tremaining: 4.3s\n",
      "909:\tlearn: 0.6643083\ttotal: 43s\tremaining: 4.25s\n",
      "910:\tlearn: 0.6642566\ttotal: 43s\tremaining: 4.2s\n",
      "911:\tlearn: 0.6641590\ttotal: 43.1s\tremaining: 4.16s\n",
      "912:\tlearn: 0.6641303\ttotal: 43.1s\tremaining: 4.11s\n",
      "913:\tlearn: 0.6640624\ttotal: 43.2s\tremaining: 4.06s\n",
      "914:\tlearn: 0.6639977\ttotal: 43.2s\tremaining: 4.01s\n",
      "915:\tlearn: 0.6639504\ttotal: 43.3s\tremaining: 3.97s\n",
      "916:\tlearn: 0.6639177\ttotal: 43.3s\tremaining: 3.92s\n",
      "917:\tlearn: 0.6638757\ttotal: 43.3s\tremaining: 3.87s\n",
      "918:\tlearn: 0.6638004\ttotal: 43.4s\tremaining: 3.82s\n",
      "919:\tlearn: 0.6637334\ttotal: 43.4s\tremaining: 3.77s\n",
      "920:\tlearn: 0.6636709\ttotal: 43.5s\tremaining: 3.73s\n",
      "921:\tlearn: 0.6636498\ttotal: 43.5s\tremaining: 3.68s\n",
      "922:\tlearn: 0.6635700\ttotal: 43.6s\tremaining: 3.63s\n",
      "923:\tlearn: 0.6635280\ttotal: 43.6s\tremaining: 3.59s\n",
      "924:\tlearn: 0.6634600\ttotal: 43.7s\tremaining: 3.54s\n",
      "925:\tlearn: 0.6634082\ttotal: 43.7s\tremaining: 3.49s\n",
      "926:\tlearn: 0.6633217\ttotal: 43.7s\tremaining: 3.44s\n",
      "927:\tlearn: 0.6632226\ttotal: 43.8s\tremaining: 3.4s\n",
      "928:\tlearn: 0.6631819\ttotal: 43.8s\tremaining: 3.35s\n",
      "929:\tlearn: 0.6631208\ttotal: 43.9s\tremaining: 3.3s\n",
      "930:\tlearn: 0.6630563\ttotal: 43.9s\tremaining: 3.26s\n",
      "931:\tlearn: 0.6630086\ttotal: 44s\tremaining: 3.21s\n",
      "932:\tlearn: 0.6629533\ttotal: 44s\tremaining: 3.16s\n",
      "933:\tlearn: 0.6628972\ttotal: 44.1s\tremaining: 3.12s\n",
      "934:\tlearn: 0.6628348\ttotal: 44.1s\tremaining: 3.07s\n",
      "935:\tlearn: 0.6628098\ttotal: 44.2s\tremaining: 3.02s\n",
      "936:\tlearn: 0.6627557\ttotal: 44.2s\tremaining: 2.97s\n",
      "937:\tlearn: 0.6627000\ttotal: 44.3s\tremaining: 2.93s\n",
      "938:\tlearn: 0.6626401\ttotal: 44.3s\tremaining: 2.88s\n",
      "939:\tlearn: 0.6626021\ttotal: 44.4s\tremaining: 2.83s\n",
      "940:\tlearn: 0.6625170\ttotal: 44.4s\tremaining: 2.78s\n",
      "941:\tlearn: 0.6624613\ttotal: 44.5s\tremaining: 2.74s\n",
      "942:\tlearn: 0.6624141\ttotal: 44.5s\tremaining: 2.69s\n",
      "943:\tlearn: 0.6623865\ttotal: 44.5s\tremaining: 2.64s\n",
      "944:\tlearn: 0.6623078\ttotal: 44.6s\tremaining: 2.6s\n",
      "945:\tlearn: 0.6622566\ttotal: 44.6s\tremaining: 2.55s\n",
      "946:\tlearn: 0.6622040\ttotal: 44.7s\tremaining: 2.5s\n",
      "947:\tlearn: 0.6621576\ttotal: 44.7s\tremaining: 2.45s\n",
      "948:\tlearn: 0.6620852\ttotal: 44.8s\tremaining: 2.41s\n",
      "949:\tlearn: 0.6620476\ttotal: 44.8s\tremaining: 2.36s\n",
      "950:\tlearn: 0.6619830\ttotal: 44.9s\tremaining: 2.31s\n",
      "951:\tlearn: 0.6619460\ttotal: 44.9s\tremaining: 2.26s\n",
      "952:\tlearn: 0.6618821\ttotal: 45s\tremaining: 2.22s\n",
      "953:\tlearn: 0.6618394\ttotal: 45s\tremaining: 2.17s\n",
      "954:\tlearn: 0.6617954\ttotal: 45.1s\tremaining: 2.12s\n",
      "955:\tlearn: 0.6617620\ttotal: 45.1s\tremaining: 2.08s\n",
      "956:\tlearn: 0.6616757\ttotal: 45.1s\tremaining: 2.03s\n",
      "957:\tlearn: 0.6616161\ttotal: 45.2s\tremaining: 1.98s\n",
      "958:\tlearn: 0.6615531\ttotal: 45.2s\tremaining: 1.93s\n",
      "959:\tlearn: 0.6614621\ttotal: 45.3s\tremaining: 1.89s\n",
      "960:\tlearn: 0.6614210\ttotal: 45.3s\tremaining: 1.84s\n",
      "961:\tlearn: 0.6613828\ttotal: 45.4s\tremaining: 1.79s\n",
      "962:\tlearn: 0.6613246\ttotal: 45.4s\tremaining: 1.74s\n",
      "963:\tlearn: 0.6612880\ttotal: 45.5s\tremaining: 1.7s\n",
      "964:\tlearn: 0.6612520\ttotal: 45.5s\tremaining: 1.65s\n",
      "965:\tlearn: 0.6612262\ttotal: 45.5s\tremaining: 1.6s\n",
      "966:\tlearn: 0.6611716\ttotal: 45.6s\tremaining: 1.56s\n",
      "967:\tlearn: 0.6611274\ttotal: 45.6s\tremaining: 1.51s\n",
      "968:\tlearn: 0.6610392\ttotal: 45.7s\tremaining: 1.46s\n"
     ]
    },
    {
     "name": "stdout",
     "output_type": "stream",
     "text": [
      "969:\tlearn: 0.6610013\ttotal: 45.7s\tremaining: 1.41s\n",
      "970:\tlearn: 0.6609252\ttotal: 45.8s\tremaining: 1.37s\n",
      "971:\tlearn: 0.6608692\ttotal: 45.8s\tremaining: 1.32s\n",
      "972:\tlearn: 0.6608012\ttotal: 45.9s\tremaining: 1.27s\n",
      "973:\tlearn: 0.6607759\ttotal: 45.9s\tremaining: 1.23s\n",
      "974:\tlearn: 0.6607533\ttotal: 46s\tremaining: 1.18s\n",
      "975:\tlearn: 0.6606983\ttotal: 46s\tremaining: 1.13s\n",
      "976:\tlearn: 0.6606281\ttotal: 46s\tremaining: 1.08s\n",
      "977:\tlearn: 0.6605897\ttotal: 46.1s\tremaining: 1.04s\n",
      "978:\tlearn: 0.6605111\ttotal: 46.1s\tremaining: 990ms\n",
      "979:\tlearn: 0.6604560\ttotal: 46.2s\tremaining: 943ms\n",
      "980:\tlearn: 0.6604198\ttotal: 46.2s\tremaining: 896ms\n",
      "981:\tlearn: 0.6603859\ttotal: 46.3s\tremaining: 848ms\n",
      "982:\tlearn: 0.6603305\ttotal: 46.3s\tremaining: 801ms\n",
      "983:\tlearn: 0.6602704\ttotal: 46.4s\tremaining: 754ms\n",
      "984:\tlearn: 0.6602570\ttotal: 46.4s\tremaining: 707ms\n",
      "985:\tlearn: 0.6602089\ttotal: 46.5s\tremaining: 660ms\n",
      "986:\tlearn: 0.6601659\ttotal: 46.5s\tremaining: 613ms\n",
      "987:\tlearn: 0.6601525\ttotal: 46.6s\tremaining: 566ms\n",
      "988:\tlearn: 0.6600846\ttotal: 46.6s\tremaining: 519ms\n",
      "989:\tlearn: 0.6600277\ttotal: 46.7s\tremaining: 471ms\n",
      "990:\tlearn: 0.6599788\ttotal: 46.7s\tremaining: 424ms\n",
      "991:\tlearn: 0.6599172\ttotal: 46.8s\tremaining: 377ms\n",
      "992:\tlearn: 0.6598638\ttotal: 46.8s\tremaining: 330ms\n",
      "993:\tlearn: 0.6598170\ttotal: 46.8s\tremaining: 283ms\n",
      "994:\tlearn: 0.6597802\ttotal: 46.9s\tremaining: 236ms\n",
      "995:\tlearn: 0.6597218\ttotal: 46.9s\tremaining: 189ms\n",
      "996:\tlearn: 0.6596871\ttotal: 47s\tremaining: 141ms\n",
      "997:\tlearn: 0.6596373\ttotal: 47s\tremaining: 94.3ms\n",
      "998:\tlearn: 0.6595795\ttotal: 47.1s\tremaining: 47.1ms\n",
      "999:\tlearn: 0.6595128\ttotal: 47.1s\tremaining: 0us\n",
      "accuracy score is 0.6916124458847059\n"
     ]
    }
   ],
   "source": [
    "cat_rg1 = cb.CatBoostClassifier()\n",
    "cat_rg1.fit(x_train,y_train)\n",
    "prediction=cat_rg1.predict(x_test)\n",
    "print(\"accuracy score is {}\".format(accuracy_score(y_test,prediction)))"
   ]
  },
  {
   "cell_type": "code",
   "execution_count": 83,
   "metadata": {},
   "outputs": [
    {
     "name": "stdout",
     "output_type": "stream",
     "text": [
      "accuracy score is 0.40271905617863746\n"
     ]
    }
   ],
   "source": [
    "sgd=SGDClassifier()\n",
    "sgd.fit(x_train,y_train)\n",
    "prediction=sgd.predict(x_test)\n",
    "print(\"accuracy score is {}\".format(accuracy_score(y_test,prediction)))"
   ]
  },
  {
   "cell_type": "code",
   "execution_count": 84,
   "metadata": {},
   "outputs": [
    {
     "name": "stdout",
     "output_type": "stream",
     "text": [
      "accuracy score is 0.48327805767234616\n"
     ]
    }
   ],
   "source": [
    "knn=KNeighborsClassifier()\n",
    "knn.fit(x_train,y_train)\n",
    "prediction=knn.predict(x_test)\n",
    "print(\"accuracy score is {}\".format(accuracy_score(y_test,prediction)))"
   ]
  },
  {
   "cell_type": "code",
   "execution_count": null,
   "metadata": {},
   "outputs": [],
   "source": []
  },
  {
   "cell_type": "code",
   "execution_count": 85,
   "metadata": {},
   "outputs": [],
   "source": [
    "xgb=XGBClassifier()\n",
    "prediction= xgb.fit(x,y).predict(test)"
   ]
  },
  {
   "cell_type": "code",
   "execution_count": 89,
   "metadata": {},
   "outputs": [],
   "source": [
    "final_prediction=pd.DataFrame({\"Trip_ID\":sample[\"Trip_ID\"],\"Surge_Pricing_Type\":prediction})"
   ]
  },
  {
   "cell_type": "code",
   "execution_count": 90,
   "metadata": {},
   "outputs": [],
   "source": [
    "final_prediction.to_csv(\"Mo1.csv\",index=False)"
   ]
  },
  {
   "cell_type": "code",
   "execution_count": null,
   "metadata": {},
   "outputs": [],
   "source": []
  },
  {
   "cell_type": "code",
   "execution_count": 86,
   "metadata": {},
   "outputs": [],
   "source": [
    "sample=pd.read_csv(\"test.csv\")"
   ]
  },
  {
   "cell_type": "code",
   "execution_count": 87,
   "metadata": {},
   "outputs": [
    {
     "data": {
      "text/html": [
       "<div>\n",
       "<style scoped>\n",
       "    .dataframe tbody tr th:only-of-type {\n",
       "        vertical-align: middle;\n",
       "    }\n",
       "\n",
       "    .dataframe tbody tr th {\n",
       "        vertical-align: top;\n",
       "    }\n",
       "\n",
       "    .dataframe thead th {\n",
       "        text-align: right;\n",
       "    }\n",
       "</style>\n",
       "<table border=\"1\" class=\"dataframe\">\n",
       "  <thead>\n",
       "    <tr style=\"text-align: right;\">\n",
       "      <th></th>\n",
       "      <th>Trip_ID</th>\n",
       "      <th>Trip_Distance</th>\n",
       "      <th>Type_of_Cab</th>\n",
       "      <th>Customer_Since_Months</th>\n",
       "      <th>Life_Style_Index</th>\n",
       "      <th>Confidence_Life_Style_Index</th>\n",
       "      <th>Destination_Type</th>\n",
       "      <th>Customer_Rating</th>\n",
       "      <th>Cancellation_Last_1Month</th>\n",
       "      <th>Var1</th>\n",
       "      <th>Var2</th>\n",
       "      <th>Var3</th>\n",
       "      <th>Gender</th>\n",
       "    </tr>\n",
       "  </thead>\n",
       "  <tbody>\n",
       "    <tr>\n",
       "      <th>0</th>\n",
       "      <td>T0005689459</td>\n",
       "      <td>9.44</td>\n",
       "      <td>A</td>\n",
       "      <td>10.0</td>\n",
       "      <td>2.57438</td>\n",
       "      <td>A</td>\n",
       "      <td>B</td>\n",
       "      <td>3.68</td>\n",
       "      <td>2</td>\n",
       "      <td>NaN</td>\n",
       "      <td>46</td>\n",
       "      <td>63</td>\n",
       "      <td>Male</td>\n",
       "    </tr>\n",
       "  </tbody>\n",
       "</table>\n",
       "</div>"
      ],
      "text/plain": [
       "       Trip_ID  Trip_Distance Type_of_Cab  Customer_Since_Months  \\\n",
       "0  T0005689459           9.44           A                   10.0   \n",
       "\n",
       "   Life_Style_Index Confidence_Life_Style_Index Destination_Type  \\\n",
       "0           2.57438                           A                B   \n",
       "\n",
       "   Customer_Rating  Cancellation_Last_1Month  Var1  Var2  Var3 Gender  \n",
       "0             3.68                         2   NaN    46    63   Male  "
      ]
     },
     "execution_count": 87,
     "metadata": {},
     "output_type": "execute_result"
    }
   ],
   "source": [
    "sample.head(1)"
   ]
  },
  {
   "cell_type": "code",
   "execution_count": null,
   "metadata": {},
   "outputs": [],
   "source": []
  },
  {
   "cell_type": "code",
   "execution_count": null,
   "metadata": {},
   "outputs": [],
   "source": []
  }
 ],
 "metadata": {
  "kernelspec": {
   "display_name": "Python 3",
   "language": "python",
   "name": "python3"
  },
  "language_info": {
   "codemirror_mode": {
    "name": "ipython",
    "version": 3
   },
   "file_extension": ".py",
   "mimetype": "text/x-python",
   "name": "python",
   "nbconvert_exporter": "python",
   "pygments_lexer": "ipython3",
   "version": "3.6.5"
  }
 },
 "nbformat": 4,
 "nbformat_minor": 2
}
